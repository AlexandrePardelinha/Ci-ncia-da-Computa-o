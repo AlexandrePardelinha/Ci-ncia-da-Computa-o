{
  "nbformat": 4,
  "nbformat_minor": 0,
  "metadata": {
    "colab": {
      "provenance": [],
      "include_colab_link": true
    },
    "kernelspec": {
      "name": "python3",
      "display_name": "Python 3"
    },
    "language_info": {
      "name": "python"
    }
  },
  "cells": [
    {
      "cell_type": "markdown",
      "metadata": {
        "id": "view-in-github",
        "colab_type": "text"
      },
      "source": [
        "<a href=\"https://colab.research.google.com/github/AlexandrePardelinha/Computer-Science-Masters/blob/main/DecisionTree.ipynb\" target=\"_parent\"><img src=\"https://colab.research.google.com/assets/colab-badge.svg\" alt=\"Open In Colab\"/></a>"
      ]
    },
    {
      "cell_type": "markdown",
      "source": [
        "#Árvore de decisão"
      ],
      "metadata": {
        "id": "eFOWxvi0aTSE"
      }
    },
    {
      "cell_type": "code",
      "execution_count": null,
      "metadata": {
        "colab": {
          "base_uri": "https://localhost:8080/"
        },
        "id": "-_umn-cGtBhq",
        "outputId": "6d7b8849-24a3-49ee-ce18-25b8e208b07b"
      },
      "outputs": [
        {
          "output_type": "stream",
          "name": "stdout",
          "text": [
            "Drive already mounted at /content/drive; to attempt to forcibly remount, call drive.mount(\"/content/drive\", force_remount=True).\n"
          ]
        }
      ],
      "source": [
        "import pandas as pd #manipulação de dataset\n",
        "from sklearn.preprocessing import LabelEncoder #pré-processamento\n",
        "from sklearn.preprocessing import MinMaxScaler #padronização\n",
        "from sklearn.tree import DecisionTreeClassifier\n",
        "from sklearn.model_selection import train_test_split #separando em dados teste e treinamento \n",
        "from sklearn.metrics import classification_report # metricas de validação\n",
        "from sklearn.metrics import accuracy_score #acuracia\n",
        "from sklearn.metrics import precision_score #precision\n",
        "from sklearn.metrics import recall_score #recall\n",
        "from sklearn.metrics import f1_score #f1-score\n",
        "from sklearn.metrics import roc_auc_score #area sob curva roc\n",
        "from sklearn.metrics import roc_curve #curva roc\n",
        "from sklearn.metrics import confusion_matrix #matriz de confusão\n",
        "from matplotlib import pyplot #grafico\n",
        "import seaborn as sns\n",
        "from sklearn.model_selection import train_test_split\n",
        "\n",
        "from google.colab import drive\n",
        "drive.mount('/content/drive')\n",
        "dados = pd.read_excel(\"/content/drive/My Drive/CEFET/solos5.xlsx\")"
      ]
    },
    {
      "cell_type": "code",
      "source": [
        "dados.head()"
      ],
      "metadata": {
        "colab": {
          "base_uri": "https://localhost:8080/",
          "height": 206
        },
        "id": "OYRGtQneN4yv",
        "outputId": "16c31e54-6ff8-461b-afcc-fe60e57607aa"
      },
      "execution_count": null,
      "outputs": [
        {
          "output_type": "execute_result",
          "data": {
            "text/html": [
              "\n",
              "  <div id=\"df-8582b536-891a-4915-a97f-803996062ae6\">\n",
              "    <div class=\"colab-df-container\">\n",
              "      <div>\n",
              "<style scoped>\n",
              "    .dataframe tbody tr th:only-of-type {\n",
              "        vertical-align: middle;\n",
              "    }\n",
              "\n",
              "    .dataframe tbody tr th {\n",
              "        vertical-align: top;\n",
              "    }\n",
              "\n",
              "    .dataframe thead th {\n",
              "        text-align: right;\n",
              "    }\n",
              "</style>\n",
              "<table border=\"1\" class=\"dataframe\">\n",
              "  <thead>\n",
              "    <tr style=\"text-align: right;\">\n",
              "      <th></th>\n",
              "      <th>CGHS</th>\n",
              "      <th>acres</th>\n",
              "      <th>Porcentagem</th>\n",
              "      <th>PorcentagemArgila</th>\n",
              "      <th>PorcentagemAreia</th>\n",
              "      <th>PorcentagemSilte</th>\n",
              "      <th>Ksat</th>\n",
              "    </tr>\n",
              "  </thead>\n",
              "  <tbody>\n",
              "    <tr>\n",
              "      <th>0</th>\n",
              "      <td>B</td>\n",
              "      <td>244.1</td>\n",
              "      <td>0.009376</td>\n",
              "      <td>6.0</td>\n",
              "      <td>28.7</td>\n",
              "      <td>65.3</td>\n",
              "      <td>44.6863</td>\n",
              "    </tr>\n",
              "    <tr>\n",
              "      <th>1</th>\n",
              "      <td>B</td>\n",
              "      <td>319.7</td>\n",
              "      <td>0.012280</td>\n",
              "      <td>8.9</td>\n",
              "      <td>34.6</td>\n",
              "      <td>56.5</td>\n",
              "      <td>46.8145</td>\n",
              "    </tr>\n",
              "    <tr>\n",
              "      <th>2</th>\n",
              "      <td>C</td>\n",
              "      <td>308.5</td>\n",
              "      <td>0.011850</td>\n",
              "      <td>17.3</td>\n",
              "      <td>42.2</td>\n",
              "      <td>40.5</td>\n",
              "      <td>44.6863</td>\n",
              "    </tr>\n",
              "    <tr>\n",
              "      <th>3</th>\n",
              "      <td>C</td>\n",
              "      <td>197.3</td>\n",
              "      <td>0.007579</td>\n",
              "      <td>17.3</td>\n",
              "      <td>42.2</td>\n",
              "      <td>40.5</td>\n",
              "      <td>44.6863</td>\n",
              "    </tr>\n",
              "    <tr>\n",
              "      <th>4</th>\n",
              "      <td>B</td>\n",
              "      <td>67.9</td>\n",
              "      <td>0.002608</td>\n",
              "      <td>5.0</td>\n",
              "      <td>36.6</td>\n",
              "      <td>58.4</td>\n",
              "      <td>29.0588</td>\n",
              "    </tr>\n",
              "  </tbody>\n",
              "</table>\n",
              "</div>\n",
              "      <button class=\"colab-df-convert\" onclick=\"convertToInteractive('df-8582b536-891a-4915-a97f-803996062ae6')\"\n",
              "              title=\"Convert this dataframe to an interactive table.\"\n",
              "              style=\"display:none;\">\n",
              "        \n",
              "  <svg xmlns=\"http://www.w3.org/2000/svg\" height=\"24px\"viewBox=\"0 0 24 24\"\n",
              "       width=\"24px\">\n",
              "    <path d=\"M0 0h24v24H0V0z\" fill=\"none\"/>\n",
              "    <path d=\"M18.56 5.44l.94 2.06.94-2.06 2.06-.94-2.06-.94-.94-2.06-.94 2.06-2.06.94zm-11 1L8.5 8.5l.94-2.06 2.06-.94-2.06-.94L8.5 2.5l-.94 2.06-2.06.94zm10 10l.94 2.06.94-2.06 2.06-.94-2.06-.94-.94-2.06-.94 2.06-2.06.94z\"/><path d=\"M17.41 7.96l-1.37-1.37c-.4-.4-.92-.59-1.43-.59-.52 0-1.04.2-1.43.59L10.3 9.45l-7.72 7.72c-.78.78-.78 2.05 0 2.83L4 21.41c.39.39.9.59 1.41.59.51 0 1.02-.2 1.41-.59l7.78-7.78 2.81-2.81c.8-.78.8-2.07 0-2.86zM5.41 20L4 18.59l7.72-7.72 1.47 1.35L5.41 20z\"/>\n",
              "  </svg>\n",
              "      </button>\n",
              "      \n",
              "  <style>\n",
              "    .colab-df-container {\n",
              "      display:flex;\n",
              "      flex-wrap:wrap;\n",
              "      gap: 12px;\n",
              "    }\n",
              "\n",
              "    .colab-df-convert {\n",
              "      background-color: #E8F0FE;\n",
              "      border: none;\n",
              "      border-radius: 50%;\n",
              "      cursor: pointer;\n",
              "      display: none;\n",
              "      fill: #1967D2;\n",
              "      height: 32px;\n",
              "      padding: 0 0 0 0;\n",
              "      width: 32px;\n",
              "    }\n",
              "\n",
              "    .colab-df-convert:hover {\n",
              "      background-color: #E2EBFA;\n",
              "      box-shadow: 0px 1px 2px rgba(60, 64, 67, 0.3), 0px 1px 3px 1px rgba(60, 64, 67, 0.15);\n",
              "      fill: #174EA6;\n",
              "    }\n",
              "\n",
              "    [theme=dark] .colab-df-convert {\n",
              "      background-color: #3B4455;\n",
              "      fill: #D2E3FC;\n",
              "    }\n",
              "\n",
              "    [theme=dark] .colab-df-convert:hover {\n",
              "      background-color: #434B5C;\n",
              "      box-shadow: 0px 1px 3px 1px rgba(0, 0, 0, 0.15);\n",
              "      filter: drop-shadow(0px 1px 2px rgba(0, 0, 0, 0.3));\n",
              "      fill: #FFFFFF;\n",
              "    }\n",
              "  </style>\n",
              "\n",
              "      <script>\n",
              "        const buttonEl =\n",
              "          document.querySelector('#df-8582b536-891a-4915-a97f-803996062ae6 button.colab-df-convert');\n",
              "        buttonEl.style.display =\n",
              "          google.colab.kernel.accessAllowed ? 'block' : 'none';\n",
              "\n",
              "        async function convertToInteractive(key) {\n",
              "          const element = document.querySelector('#df-8582b536-891a-4915-a97f-803996062ae6');\n",
              "          const dataTable =\n",
              "            await google.colab.kernel.invokeFunction('convertToInteractive',\n",
              "                                                     [key], {});\n",
              "          if (!dataTable) return;\n",
              "\n",
              "          const docLinkHtml = 'Like what you see? Visit the ' +\n",
              "            '<a target=\"_blank\" href=https://colab.research.google.com/notebooks/data_table.ipynb>data table notebook</a>'\n",
              "            + ' to learn more about interactive tables.';\n",
              "          element.innerHTML = '';\n",
              "          dataTable['output_type'] = 'display_data';\n",
              "          await google.colab.output.renderOutput(dataTable, element);\n",
              "          const docLink = document.createElement('div');\n",
              "          docLink.innerHTML = docLinkHtml;\n",
              "          element.appendChild(docLink);\n",
              "        }\n",
              "      </script>\n",
              "    </div>\n",
              "  </div>\n",
              "  "
            ],
            "text/plain": [
              "  CGHS  acres  Porcentagem   ...  PorcentagemAreia  PorcentagemSilte      Ksat\n",
              "0    B  244.1      0.009376  ...              28.7               65.3  44.6863\n",
              "1    B  319.7      0.012280  ...              34.6               56.5  46.8145\n",
              "2    C  308.5      0.011850  ...              42.2               40.5  44.6863\n",
              "3    C  197.3      0.007579  ...              42.2               40.5  44.6863\n",
              "4    B   67.9      0.002608  ...              36.6               58.4  29.0588\n",
              "\n",
              "[5 rows x 7 columns]"
            ]
          },
          "metadata": {},
          "execution_count": 2
        }
      ]
    },
    {
      "cell_type": "code",
      "source": [
        "dados.info()"
      ],
      "metadata": {
        "colab": {
          "base_uri": "https://localhost:8080/"
        },
        "id": "TLkMCaXrwoaG",
        "outputId": "88d7310e-8158-4482-ed8f-c9890614029b"
      },
      "execution_count": null,
      "outputs": [
        {
          "output_type": "stream",
          "name": "stdout",
          "text": [
            "<class 'pandas.core.frame.DataFrame'>\n",
            "RangeIndex: 420 entries, 0 to 419\n",
            "Data columns (total 7 columns):\n",
            " #   Column             Non-Null Count  Dtype  \n",
            "---  ------             --------------  -----  \n",
            " 0   CGHS               420 non-null    object \n",
            " 1   acres              420 non-null    float64\n",
            " 2   Porcentagem        420 non-null    float64\n",
            " 3   PorcentagemArgila  420 non-null    float64\n",
            " 4   PorcentagemAreia   420 non-null    float64\n",
            " 5   PorcentagemSilte   420 non-null    float64\n",
            " 6   Ksat               420 non-null    float64\n",
            "dtypes: float64(6), object(1)\n",
            "memory usage: 23.1+ KB\n"
          ]
        }
      ]
    },
    {
      "cell_type": "code",
      "source": [
        "G = dados[['CGHS']]\n",
        "print(G)"
      ],
      "metadata": {
        "colab": {
          "base_uri": "https://localhost:8080/"
        },
        "id": "mm6J66v7_hds",
        "outputId": "3682a0f4-bf29-4567-e789-8a64e7dd64e6"
      },
      "execution_count": null,
      "outputs": [
        {
          "output_type": "stream",
          "name": "stdout",
          "text": [
            "    CGHS\n",
            "0      B\n",
            "1      B\n",
            "2      C\n",
            "3      C\n",
            "4      B\n",
            "..   ...\n",
            "415    B\n",
            "416    D\n",
            "417    B\n",
            "418    B\n",
            "419    B\n",
            "\n",
            "[420 rows x 1 columns]\n"
          ]
        }
      ]
    },
    {
      "cell_type": "markdown",
      "source": [
        "Separando a variável dependente das variáveis independentes"
      ],
      "metadata": {
        "id": "60ZQyK2aHQ1F"
      }
    },
    {
      "cell_type": "code",
      "source": [
        "y = dados['CGHS']\n",
        "X = dados.iloc[ :, [2,3]].values"
      ],
      "metadata": {
        "id": "dBGXWQVpHTB8"
      },
      "execution_count": null,
      "outputs": []
    },
    {
      "cell_type": "markdown",
      "source": [
        "Pré-Processamento Básico Padronizando as Variáveis Contínuas"
      ],
      "metadata": {
        "id": "HuR2Lw4ZPuwe"
      }
    },
    {
      "cell_type": "code",
      "source": [
        "X = MinMaxScaler().fit_transform(X)"
      ],
      "metadata": {
        "id": "kJcfk2jvPw9F"
      },
      "execution_count": null,
      "outputs": []
    },
    {
      "cell_type": "markdown",
      "source": [
        "Separando o dados em Treino e Teste"
      ],
      "metadata": {
        "id": "mptHzsLDINH7"
      }
    },
    {
      "cell_type": "code",
      "source": [
        "x_treino, x_teste, y_treino, y_teste  = train_test_split(X, y, test_size = 0.25,random_state = 1)"
      ],
      "metadata": {
        "id": "w3XSxlxSJLhQ"
      },
      "execution_count": null,
      "outputs": []
    },
    {
      "cell_type": "markdown",
      "source": [
        "Ajustando o Decision Tree nos dados de Treino"
      ],
      "metadata": {
        "id": "UB8eep_uJRzH"
      }
    },
    {
      "cell_type": "code",
      "source": [
        "DecTree = DecisionTreeClassifier()\n",
        "DecTree.fit(x_treino, y_treino)\n"
      ],
      "metadata": {
        "colab": {
          "base_uri": "https://localhost:8080/"
        },
        "id": "taGnYB0dK1YW",
        "outputId": "f5bf7bf1-06f7-435a-8c00-3a8add3a39f0"
      },
      "execution_count": null,
      "outputs": [
        {
          "output_type": "execute_result",
          "data": {
            "text/plain": [
              "DecisionTreeClassifier()"
            ]
          },
          "metadata": {},
          "execution_count": 8
        }
      ]
    },
    {
      "cell_type": "code",
      "source": [
        "DecisionTreeClassifier(max_depth=2, min_samples_split=20, random_state=1)"
      ],
      "metadata": {
        "colab": {
          "base_uri": "https://localhost:8080/"
        },
        "id": "B852KqEbQL26",
        "outputId": "c47bc3e1-a4ce-43cc-8782-85726958b859"
      },
      "execution_count": null,
      "outputs": [
        {
          "output_type": "execute_result",
          "data": {
            "text/plain": [
              "DecisionTreeClassifier(max_depth=2, min_samples_split=20, random_state=1)"
            ]
          },
          "metadata": {},
          "execution_count": 9
        }
      ]
    },
    {
      "cell_type": "markdown",
      "source": [
        "Calculando a Matriz de Confusão nos dados de Teste"
      ],
      "metadata": {
        "id": "wk_qpUaEOi9W"
      }
    },
    {
      "cell_type": "code",
      "source": [
        "resultado_DecTree = DecTree.predict(x_teste)\n",
        "print (pd.crosstab(y_teste,resultado_DecTree, rownames=['Real'], colnames=['Predito'], margins=True))"
      ],
      "metadata": {
        "colab": {
          "base_uri": "https://localhost:8080/"
        },
        "id": "uY9DAj9UOkJc",
        "outputId": "5ad7cdc5-aeea-49f9-9ea6-e182b6ff5801"
      },
      "execution_count": null,
      "outputs": [
        {
          "output_type": "stream",
          "name": "stdout",
          "text": [
            "Predito  A   B   C  D  All\n",
            "Real                      \n",
            "A        0   4   1  1    6\n",
            "B        4  62  10  4   80\n",
            "C        0   3  10  1   14\n",
            "D        0   3   2  0    5\n",
            "All      4  72  23  6  105\n"
          ]
        }
      ]
    },
    {
      "cell_type": "markdown",
      "source": [
        "Calculando as métricas de validação:\n",
        "Acurácia\n",
        "\n"
      ],
      "metadata": {
        "id": "ok8XpB_UOrtR"
      }
    },
    {
      "cell_type": "code",
      "source": [
        "acuracia = accuracy_score(y_teste, resultado_DecTree)\n",
        "print('Acurácia: %f' % acuracia)"
      ],
      "metadata": {
        "colab": {
          "base_uri": "https://localhost:8080/"
        },
        "id": "3dHPu95UOstm",
        "outputId": "59fdfdd4-83b6-4eb0-a734-ed8819646c75"
      },
      "execution_count": null,
      "outputs": [
        {
          "output_type": "stream",
          "name": "stdout",
          "text": [
            "Acurácia: 0.685714\n"
          ]
        }
      ]
    }
  ]
}