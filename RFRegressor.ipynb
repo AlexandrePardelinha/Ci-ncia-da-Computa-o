{
  "nbformat": 4,
  "nbformat_minor": 0,
  "metadata": {
    "colab": {
      "provenance": [],
      "authorship_tag": "ABX9TyNk+az/TWedITcpuuFxvAcy",
      "include_colab_link": true
    },
    "kernelspec": {
      "name": "python3",
      "display_name": "Python 3"
    },
    "language_info": {
      "name": "python"
    }
  },
  "cells": [
    {
      "cell_type": "markdown",
      "metadata": {
        "id": "view-in-github",
        "colab_type": "text"
      },
      "source": [
        "<a href=\"https://colab.research.google.com/github/AlexandrePardelinha/Computer-Science-Masters/blob/main/RFRegressor.ipynb\" target=\"_parent\"><img src=\"https://colab.research.google.com/assets/colab-badge.svg\" alt=\"Open In Colab\"/></a>"
      ]
    },
    {
      "cell_type": "code",
      "execution_count": 2,
      "metadata": {
        "colab": {
          "base_uri": "https://localhost:8080/"
        },
        "id": "2ZVtu9s9Y2uH",
        "outputId": "2d8cf3a2-d6d8-4f7b-ff6c-6c0dfc95e8c0"
      },
      "outputs": [
        {
          "output_type": "stream",
          "name": "stdout",
          "text": [
            "Mounted at /content/drive\n"
          ]
        }
      ],
      "source": [
        "import pandas as pd #manipulação de dataset\n",
        "from sklearn.preprocessing import LabelEncoder #pré-processamento\n",
        "from sklearn.preprocessing import MinMaxScaler #padronização\n",
        "from sklearn.neighbors import KNeighborsClassifier #classificador\n",
        "from sklearn.model_selection import train_test_split #separando em dados teste e treinamento \n",
        "from sklearn.metrics import classification_report # metricas de validação\n",
        "from sklearn.metrics import accuracy_score #acuracia\n",
        "from sklearn.metrics import precision_score #precision\n",
        "from sklearn.metrics import recall_score #recall\n",
        "from sklearn.metrics import f1_score #f1-score\n",
        "from sklearn.metrics import roc_auc_score #area sob curva roc\n",
        "from sklearn.metrics import roc_curve #curva roc\n",
        "from sklearn.metrics import confusion_matrix #matriz de confusão\n",
        "from matplotlib import pyplot #grafico\n",
        "import seaborn as sns\n",
        "from sklearn.model_selection import train_test_split\n",
        "\n",
        "from google.colab import drive\n",
        "drive.mount('/content/drive')\n",
        "dados = pd.read_excel(\"/content/drive/My Drive/CEFET/solos5.xlsx\")"
      ]
    },
    {
      "cell_type": "code",
      "source": [
        "dados.head()"
      ],
      "metadata": {
        "colab": {
          "base_uri": "https://localhost:8080/",
          "height": 206
        },
        "id": "OXJx5-3iZEx7",
        "outputId": "ab59888d-b0b4-402e-a986-40e5472e46c5"
      },
      "execution_count": 3,
      "outputs": [
        {
          "output_type": "execute_result",
          "data": {
            "text/plain": [
              "  CGHS  acres  Porcentagem   PorcentagemArgila  PorcentagemAreia  \\\n",
              "0    B  244.1      0.009376                6.0              28.7   \n",
              "1    B  319.7      0.012280                8.9              34.6   \n",
              "2    C  308.5      0.011850               17.3              42.2   \n",
              "3    C  197.3      0.007579               17.3              42.2   \n",
              "4    B   67.9      0.002608                5.0              36.6   \n",
              "\n",
              "   PorcentagemSilte      Ksat  \n",
              "0               65.3  44.6863  \n",
              "1               56.5  46.8145  \n",
              "2               40.5  44.6863  \n",
              "3               40.5  44.6863  \n",
              "4               58.4  29.0588  "
            ],
            "text/html": [
              "\n",
              "  <div id=\"df-c30f0669-57c6-45eb-b169-e4b7c52a968e\">\n",
              "    <div class=\"colab-df-container\">\n",
              "      <div>\n",
              "<style scoped>\n",
              "    .dataframe tbody tr th:only-of-type {\n",
              "        vertical-align: middle;\n",
              "    }\n",
              "\n",
              "    .dataframe tbody tr th {\n",
              "        vertical-align: top;\n",
              "    }\n",
              "\n",
              "    .dataframe thead th {\n",
              "        text-align: right;\n",
              "    }\n",
              "</style>\n",
              "<table border=\"1\" class=\"dataframe\">\n",
              "  <thead>\n",
              "    <tr style=\"text-align: right;\">\n",
              "      <th></th>\n",
              "      <th>CGHS</th>\n",
              "      <th>acres</th>\n",
              "      <th>Porcentagem</th>\n",
              "      <th>PorcentagemArgila</th>\n",
              "      <th>PorcentagemAreia</th>\n",
              "      <th>PorcentagemSilte</th>\n",
              "      <th>Ksat</th>\n",
              "    </tr>\n",
              "  </thead>\n",
              "  <tbody>\n",
              "    <tr>\n",
              "      <th>0</th>\n",
              "      <td>B</td>\n",
              "      <td>244.1</td>\n",
              "      <td>0.009376</td>\n",
              "      <td>6.0</td>\n",
              "      <td>28.7</td>\n",
              "      <td>65.3</td>\n",
              "      <td>44.6863</td>\n",
              "    </tr>\n",
              "    <tr>\n",
              "      <th>1</th>\n",
              "      <td>B</td>\n",
              "      <td>319.7</td>\n",
              "      <td>0.012280</td>\n",
              "      <td>8.9</td>\n",
              "      <td>34.6</td>\n",
              "      <td>56.5</td>\n",
              "      <td>46.8145</td>\n",
              "    </tr>\n",
              "    <tr>\n",
              "      <th>2</th>\n",
              "      <td>C</td>\n",
              "      <td>308.5</td>\n",
              "      <td>0.011850</td>\n",
              "      <td>17.3</td>\n",
              "      <td>42.2</td>\n",
              "      <td>40.5</td>\n",
              "      <td>44.6863</td>\n",
              "    </tr>\n",
              "    <tr>\n",
              "      <th>3</th>\n",
              "      <td>C</td>\n",
              "      <td>197.3</td>\n",
              "      <td>0.007579</td>\n",
              "      <td>17.3</td>\n",
              "      <td>42.2</td>\n",
              "      <td>40.5</td>\n",
              "      <td>44.6863</td>\n",
              "    </tr>\n",
              "    <tr>\n",
              "      <th>4</th>\n",
              "      <td>B</td>\n",
              "      <td>67.9</td>\n",
              "      <td>0.002608</td>\n",
              "      <td>5.0</td>\n",
              "      <td>36.6</td>\n",
              "      <td>58.4</td>\n",
              "      <td>29.0588</td>\n",
              "    </tr>\n",
              "  </tbody>\n",
              "</table>\n",
              "</div>\n",
              "      <button class=\"colab-df-convert\" onclick=\"convertToInteractive('df-c30f0669-57c6-45eb-b169-e4b7c52a968e')\"\n",
              "              title=\"Convert this dataframe to an interactive table.\"\n",
              "              style=\"display:none;\">\n",
              "        \n",
              "  <svg xmlns=\"http://www.w3.org/2000/svg\" height=\"24px\"viewBox=\"0 0 24 24\"\n",
              "       width=\"24px\">\n",
              "    <path d=\"M0 0h24v24H0V0z\" fill=\"none\"/>\n",
              "    <path d=\"M18.56 5.44l.94 2.06.94-2.06 2.06-.94-2.06-.94-.94-2.06-.94 2.06-2.06.94zm-11 1L8.5 8.5l.94-2.06 2.06-.94-2.06-.94L8.5 2.5l-.94 2.06-2.06.94zm10 10l.94 2.06.94-2.06 2.06-.94-2.06-.94-.94-2.06-.94 2.06-2.06.94z\"/><path d=\"M17.41 7.96l-1.37-1.37c-.4-.4-.92-.59-1.43-.59-.52 0-1.04.2-1.43.59L10.3 9.45l-7.72 7.72c-.78.78-.78 2.05 0 2.83L4 21.41c.39.39.9.59 1.41.59.51 0 1.02-.2 1.41-.59l7.78-7.78 2.81-2.81c.8-.78.8-2.07 0-2.86zM5.41 20L4 18.59l7.72-7.72 1.47 1.35L5.41 20z\"/>\n",
              "  </svg>\n",
              "      </button>\n",
              "      \n",
              "  <style>\n",
              "    .colab-df-container {\n",
              "      display:flex;\n",
              "      flex-wrap:wrap;\n",
              "      gap: 12px;\n",
              "    }\n",
              "\n",
              "    .colab-df-convert {\n",
              "      background-color: #E8F0FE;\n",
              "      border: none;\n",
              "      border-radius: 50%;\n",
              "      cursor: pointer;\n",
              "      display: none;\n",
              "      fill: #1967D2;\n",
              "      height: 32px;\n",
              "      padding: 0 0 0 0;\n",
              "      width: 32px;\n",
              "    }\n",
              "\n",
              "    .colab-df-convert:hover {\n",
              "      background-color: #E2EBFA;\n",
              "      box-shadow: 0px 1px 2px rgba(60, 64, 67, 0.3), 0px 1px 3px 1px rgba(60, 64, 67, 0.15);\n",
              "      fill: #174EA6;\n",
              "    }\n",
              "\n",
              "    [theme=dark] .colab-df-convert {\n",
              "      background-color: #3B4455;\n",
              "      fill: #D2E3FC;\n",
              "    }\n",
              "\n",
              "    [theme=dark] .colab-df-convert:hover {\n",
              "      background-color: #434B5C;\n",
              "      box-shadow: 0px 1px 3px 1px rgba(0, 0, 0, 0.15);\n",
              "      filter: drop-shadow(0px 1px 2px rgba(0, 0, 0, 0.3));\n",
              "      fill: #FFFFFF;\n",
              "    }\n",
              "  </style>\n",
              "\n",
              "      <script>\n",
              "        const buttonEl =\n",
              "          document.querySelector('#df-c30f0669-57c6-45eb-b169-e4b7c52a968e button.colab-df-convert');\n",
              "        buttonEl.style.display =\n",
              "          google.colab.kernel.accessAllowed ? 'block' : 'none';\n",
              "\n",
              "        async function convertToInteractive(key) {\n",
              "          const element = document.querySelector('#df-c30f0669-57c6-45eb-b169-e4b7c52a968e');\n",
              "          const dataTable =\n",
              "            await google.colab.kernel.invokeFunction('convertToInteractive',\n",
              "                                                     [key], {});\n",
              "          if (!dataTable) return;\n",
              "\n",
              "          const docLinkHtml = 'Like what you see? Visit the ' +\n",
              "            '<a target=\"_blank\" href=https://colab.research.google.com/notebooks/data_table.ipynb>data table notebook</a>'\n",
              "            + ' to learn more about interactive tables.';\n",
              "          element.innerHTML = '';\n",
              "          dataTable['output_type'] = 'display_data';\n",
              "          await google.colab.output.renderOutput(dataTable, element);\n",
              "          const docLink = document.createElement('div');\n",
              "          docLink.innerHTML = docLinkHtml;\n",
              "          element.appendChild(docLink);\n",
              "        }\n",
              "      </script>\n",
              "    </div>\n",
              "  </div>\n",
              "  "
            ]
          },
          "metadata": {},
          "execution_count": 3
        }
      ]
    },
    {
      "cell_type": "code",
      "source": [
        "dados.info()"
      ],
      "metadata": {
        "colab": {
          "base_uri": "https://localhost:8080/"
        },
        "id": "hfYx4oRHZIMF",
        "outputId": "9cf2b836-1886-484c-b436-f06e73fcd10a"
      },
      "execution_count": 4,
      "outputs": [
        {
          "output_type": "stream",
          "name": "stdout",
          "text": [
            "<class 'pandas.core.frame.DataFrame'>\n",
            "RangeIndex: 420 entries, 0 to 419\n",
            "Data columns (total 7 columns):\n",
            " #   Column             Non-Null Count  Dtype  \n",
            "---  ------             --------------  -----  \n",
            " 0   CGHS               420 non-null    object \n",
            " 1   acres              420 non-null    float64\n",
            " 2   Porcentagem        420 non-null    float64\n",
            " 3   PorcentagemArgila  420 non-null    float64\n",
            " 4   PorcentagemAreia   420 non-null    float64\n",
            " 5   PorcentagemSilte   420 non-null    float64\n",
            " 6   Ksat               420 non-null    float64\n",
            "dtypes: float64(6), object(1)\n",
            "memory usage: 23.1+ KB\n"
          ]
        }
      ]
    },
    {
      "cell_type": "markdown",
      "source": [
        "selecione todas as linhas e coluna 1 do conjunto de dados x e todas as linhas e coluna 2 como y"
      ],
      "metadata": {
        "id": "7foxMvNEZSEx"
      }
    },
    {
      "cell_type": "code",
      "source": [
        "x = dados.iloc[:, 1:2].values \n",
        "print(x)\n",
        "y = dados.iloc[:, 2].values"
      ],
      "metadata": {
        "colab": {
          "base_uri": "https://localhost:8080/"
        },
        "id": "g6I0JNQmZV2-",
        "outputId": "308d4a73-1e4e-4a13-9551-7e1a3ffcf983"
      },
      "execution_count": 5,
      "outputs": [
        {
          "output_type": "stream",
          "name": "stdout",
          "text": [
            "[[2.441000e+02]\n",
            " [3.197000e+02]\n",
            " [3.085000e+02]\n",
            " [1.973000e+02]\n",
            " [6.790000e+01]\n",
            " [1.470000e+01]\n",
            " [6.800000e+01]\n",
            " [1.015000e+02]\n",
            " [2.904000e+02]\n",
            " [2.610000e+01]\n",
            " [4.200000e+01]\n",
            " [1.112500e+03]\n",
            " [2.100500e+03]\n",
            " [1.180000e+01]\n",
            " [3.610000e+01]\n",
            " [2.736000e+02]\n",
            " [7.860000e+01]\n",
            " [1.570600e+03]\n",
            " [1.098500e+03]\n",
            " [3.610000e+01]\n",
            " [7.289000e+02]\n",
            " [2.920000e+01]\n",
            " [1.259000e+02]\n",
            " [2.546000e+02]\n",
            " [6.833000e+02]\n",
            " [7.000000e+00]\n",
            " [3.300000e+01]\n",
            " [3.370000e+01]\n",
            " [6.600000e+01]\n",
            " [5.851000e+02]\n",
            " [9.280000e+01]\n",
            " [7.106000e+02]\n",
            " [5.300000e+01]\n",
            " [3.910000e+01]\n",
            " [3.010000e+01]\n",
            " [1.990000e+01]\n",
            " [1.550000e+01]\n",
            " [6.900000e+00]\n",
            " [1.271000e+02]\n",
            " [1.405500e+03]\n",
            " [1.562000e+03]\n",
            " [1.800000e+02]\n",
            " [2.900000e+00]\n",
            " [6.265000e+02]\n",
            " [2.170800e+03]\n",
            " [4.510000e+01]\n",
            " [1.430000e+01]\n",
            " [1.650000e+01]\n",
            " [7.205000e+02]\n",
            " [6.759000e+02]\n",
            " [2.362000e+02]\n",
            " [2.973000e+02]\n",
            " [2.280000e+01]\n",
            " [5.370000e+01]\n",
            " [3.150000e+01]\n",
            " [3.470000e+01]\n",
            " [8.080000e+01]\n",
            " [1.561000e+02]\n",
            " [3.324000e+02]\n",
            " [7.700000e+00]\n",
            " [2.620000e+01]\n",
            " [2.290000e+01]\n",
            " [1.280000e+01]\n",
            " [2.400000e+01]\n",
            " [1.630000e+01]\n",
            " [5.813000e+02]\n",
            " [2.800000e+01]\n",
            " [8.600000e+00]\n",
            " [9.487000e+02]\n",
            " [1.644000e+02]\n",
            " [2.248000e+02]\n",
            " [3.143200e+03]\n",
            " [4.902000e+02]\n",
            " [2.490000e+01]\n",
            " [1.374000e+02]\n",
            " [6.590000e+01]\n",
            " [2.846000e+02]\n",
            " [5.700000e+01]\n",
            " [8.420000e+01]\n",
            " [5.700000e+00]\n",
            " [5.316000e+02]\n",
            " [1.745000e+02]\n",
            " [6.873000e+02]\n",
            " [1.210200e+03]\n",
            " [3.202000e+02]\n",
            " [4.622000e+02]\n",
            " [2.245000e+02]\n",
            " [4.930000e+01]\n",
            " [4.640000e+01]\n",
            " [7.680000e+01]\n",
            " [2.450000e+01]\n",
            " [5.440000e+01]\n",
            " [7.420000e+01]\n",
            " [5.390000e+01]\n",
            " [1.662000e+02]\n",
            " [4.187000e+02]\n",
            " [9.950000e+01]\n",
            " [2.181000e+02]\n",
            " [1.220000e+01]\n",
            " [1.066000e+02]\n",
            " [1.240000e+01]\n",
            " [9.050000e+01]\n",
            " [1.810000e+01]\n",
            " [1.290000e+01]\n",
            " [1.340000e+01]\n",
            " [5.720000e+01]\n",
            " [9.390000e+01]\n",
            " [7.363000e+02]\n",
            " [2.478000e+02]\n",
            " [1.047000e+02]\n",
            " [4.569000e+02]\n",
            " [4.190000e+01]\n",
            " [1.793620e+04]\n",
            " [9.692500e+03]\n",
            " [1.292700e+04]\n",
            " [1.331720e+04]\n",
            " [2.211930e+04]\n",
            " [9.677000e+02]\n",
            " [1.619300e+03]\n",
            " [9.250000e+02]\n",
            " [3.570600e+03]\n",
            " [1.608200e+03]\n",
            " [9.235500e+03]\n",
            " [1.552460e+04]\n",
            " [1.411600e+03]\n",
            " [1.807300e+03]\n",
            " [1.280000e+02]\n",
            " [3.085800e+03]\n",
            " [7.753000e+02]\n",
            " [4.272170e+04]\n",
            " [2.387600e+03]\n",
            " [1.028420e+04]\n",
            " [4.346800e+03]\n",
            " [4.438000e+02]\n",
            " [8.363200e+03]\n",
            " [8.568000e+02]\n",
            " [6.848000e+03]\n",
            " [4.777100e+03]\n",
            " [8.445200e+03]\n",
            " [5.031000e+03]\n",
            " [2.119000e+03]\n",
            " [9.753000e+02]\n",
            " [4.119100e+03]\n",
            " [2.697940e+04]\n",
            " [9.504600e+03]\n",
            " [1.936100e+03]\n",
            " [2.356490e+04]\n",
            " [9.079200e+03]\n",
            " [9.943000e+02]\n",
            " [6.477000e+02]\n",
            " [3.338400e+03]\n",
            " [5.178300e+03]\n",
            " [2.524500e+03]\n",
            " [2.797400e+03]\n",
            " [3.330500e+03]\n",
            " [2.874600e+03]\n",
            " [1.280800e+04]\n",
            " [8.474500e+03]\n",
            " [1.882630e+04]\n",
            " [3.383800e+03]\n",
            " [3.479200e+03]\n",
            " [3.135300e+03]\n",
            " [4.972890e+04]\n",
            " [2.235730e+04]\n",
            " [7.218000e+03]\n",
            " [1.146200e+04]\n",
            " [9.451200e+03]\n",
            " [5.660000e+01]\n",
            " [1.587000e+02]\n",
            " [1.564400e+03]\n",
            " [4.270400e+04]\n",
            " [2.877280e+04]\n",
            " [9.153500e+03]\n",
            " [1.130640e+04]\n",
            " [1.195160e+04]\n",
            " [8.245400e+03]\n",
            " [7.863900e+03]\n",
            " [1.070720e+04]\n",
            " [3.196000e+02]\n",
            " [2.313000e+02]\n",
            " [8.440000e+01]\n",
            " [1.574300e+03]\n",
            " [2.114900e+03]\n",
            " [1.647300e+03]\n",
            " [2.131400e+03]\n",
            " [2.901500e+03]\n",
            " [1.811100e+03]\n",
            " [3.037000e+02]\n",
            " [1.323200e+03]\n",
            " [2.878600e+03]\n",
            " [2.150700e+03]\n",
            " [2.083040e+04]\n",
            " [7.327300e+03]\n",
            " [3.204300e+03]\n",
            " [1.854180e+04]\n",
            " [6.188400e+03]\n",
            " [2.382900e+03]\n",
            " [3.501000e+03]\n",
            " [1.344700e+03]\n",
            " [2.388000e+03]\n",
            " [1.971400e+03]\n",
            " [7.622000e+02]\n",
            " [5.331800e+04]\n",
            " [1.016850e+04]\n",
            " [2.357600e+03]\n",
            " [1.108750e+04]\n",
            " [3.337300e+03]\n",
            " [5.238750e+04]\n",
            " [1.831090e+04]\n",
            " [7.199600e+03]\n",
            " [1.067260e+04]\n",
            " [5.444200e+03]\n",
            " [5.085200e+03]\n",
            " [4.420200e+03]\n",
            " [5.129400e+03]\n",
            " [2.354000e+03]\n",
            " [2.183000e+03]\n",
            " [3.769340e+04]\n",
            " [8.915900e+03]\n",
            " [2.620540e+04]\n",
            " [5.870150e+04]\n",
            " [6.872750e+04]\n",
            " [1.194150e+04]\n",
            " [4.520700e+03]\n",
            " [7.328000e+02]\n",
            " [4.889000e+02]\n",
            " [1.360080e+04]\n",
            " [1.957680e+04]\n",
            " [1.425920e+04]\n",
            " [6.666100e+03]\n",
            " [2.402000e+02]\n",
            " [1.951160e+04]\n",
            " [1.533070e+04]\n",
            " [3.539800e+03]\n",
            " [4.668700e+03]\n",
            " [2.299800e+03]\n",
            " [3.680000e+03]\n",
            " [4.313500e+03]\n",
            " [4.027000e+02]\n",
            " [3.529800e+03]\n",
            " [3.966500e+03]\n",
            " [6.159000e+02]\n",
            " [1.795100e+03]\n",
            " [1.871800e+03]\n",
            " [1.324800e+03]\n",
            " [1.880900e+03]\n",
            " [2.197000e+02]\n",
            " [2.346800e+03]\n",
            " [5.050340e+04]\n",
            " [2.997030e+04]\n",
            " [2.215260e+04]\n",
            " [1.629210e+04]\n",
            " [1.541450e+05]\n",
            " [5.973880e+04]\n",
            " [4.412830e+04]\n",
            " [9.367000e+02]\n",
            " [1.370704e+05]\n",
            " [5.912370e+04]\n",
            " [7.033600e+03]\n",
            " [1.951090e+04]\n",
            " [4.551100e+03]\n",
            " [2.479500e+03]\n",
            " [1.174700e+03]\n",
            " [6.647400e+04]\n",
            " [4.986640e+04]\n",
            " [5.846790e+04]\n",
            " [7.309250e+04]\n",
            " [3.067600e+03]\n",
            " [2.109600e+03]\n",
            " [4.654010e+04]\n",
            " [2.593100e+04]\n",
            " [2.241500e+03]\n",
            " [1.312700e+04]\n",
            " [2.618680e+04]\n",
            " [6.799000e+02]\n",
            " [1.135130e+04]\n",
            " [6.695500e+03]\n",
            " [2.935900e+03]\n",
            " [3.833200e+03]\n",
            " [3.314000e+03]\n",
            " [1.146890e+04]\n",
            " [2.960900e+03]\n",
            " [2.744000e+03]\n",
            " [1.701000e+02]\n",
            " [1.195000e+02]\n",
            " [1.520000e+01]\n",
            " [4.350000e+01]\n",
            " [1.050000e+02]\n",
            " [6.580000e+01]\n",
            " [5.070000e+01]\n",
            " [1.080000e+01]\n",
            " [2.360000e+01]\n",
            " [1.894000e+02]\n",
            " [9.539000e+02]\n",
            " [1.400800e+03]\n",
            " [1.162000e+02]\n",
            " [6.120000e+01]\n",
            " [2.710000e+01]\n",
            " [5.144000e+02]\n",
            " [2.109000e+02]\n",
            " [4.043000e+02]\n",
            " [1.280700e+03]\n",
            " [9.780000e+01]\n",
            " [1.405000e+02]\n",
            " [5.750000e+01]\n",
            " [5.300000e+00]\n",
            " [3.300000e+00]\n",
            " [8.000000e+00]\n",
            " [1.083400e+03]\n",
            " [8.217000e+02]\n",
            " [1.978000e+02]\n",
            " [9.560000e+01]\n",
            " [4.220000e+01]\n",
            " [2.760000e+01]\n",
            " [1.063200e+03]\n",
            " [9.800000e+01]\n",
            " [2.859000e+02]\n",
            " [2.601000e+02]\n",
            " [5.730000e+01]\n",
            " [3.120000e+01]\n",
            " [1.462000e+02]\n",
            " [1.124000e+02]\n",
            " [3.000000e+00]\n",
            " [1.682000e+02]\n",
            " [2.600000e+00]\n",
            " [1.608000e+02]\n",
            " [5.357000e+02]\n",
            " [9.470000e+02]\n",
            " [1.439900e+03]\n",
            " [3.767000e+02]\n",
            " [1.871000e+02]\n",
            " [4.400000e+00]\n",
            " [7.200000e+00]\n",
            " [2.925000e+02]\n",
            " [9.309000e+02]\n",
            " [2.160000e+01]\n",
            " [1.303000e+02]\n",
            " [2.010250e+04]\n",
            " [1.616800e+04]\n",
            " [1.721270e+04]\n",
            " [1.521720e+04]\n",
            " [5.150000e+01]\n",
            " [4.930000e+01]\n",
            " [4.862000e+02]\n",
            " [5.235000e+02]\n",
            " [1.325000e+02]\n",
            " [7.590000e+01]\n",
            " [2.657000e+02]\n",
            " [8.760000e+01]\n",
            " [2.457000e+02]\n",
            " [1.831000e+02]\n",
            " [9.855000e+02]\n",
            " [2.264300e+03]\n",
            " [1.259000e+02]\n",
            " [5.808600e+03]\n",
            " [3.388400e+03]\n",
            " [5.902800e+03]\n",
            " [1.003700e+03]\n",
            " [7.315000e+02]\n",
            " [1.687600e+03]\n",
            " [8.114000e+02]\n",
            " [8.061000e+02]\n",
            " [3.198400e+03]\n",
            " [4.324300e+03]\n",
            " [2.078200e+03]\n",
            " [1.962000e+03]\n",
            " [2.326700e+03]\n",
            " [1.235200e+03]\n",
            " [1.192000e+02]\n",
            " [3.317800e+03]\n",
            " [2.894000e+03]\n",
            " [7.894000e+02]\n",
            " [3.217800e+03]\n",
            " [2.939000e+02]\n",
            " [1.628500e+03]\n",
            " [3.712700e+03]\n",
            " [2.785400e+03]\n",
            " [5.187900e+03]\n",
            " [6.000000e+02]\n",
            " [1.920200e+03]\n",
            " [7.840000e+01]\n",
            " [1.937000e+02]\n",
            " [8.570000e+01]\n",
            " [3.974000e+02]\n",
            " [3.085600e+03]\n",
            " [8.444000e+02]\n",
            " [6.500000e+00]\n",
            " [1.280000e+01]\n",
            " [2.068000e+02]\n",
            " [1.357000e+02]\n",
            " [1.772500e+03]\n",
            " [1.563200e+03]\n",
            " [4.530000e+01]\n",
            " [5.950000e+01]\n",
            " [2.478000e+02]\n",
            " [2.090000e+01]\n",
            " [4.810000e+01]\n",
            " [3.500000e+00]\n",
            " [4.420000e+01]\n",
            " [1.800000e+01]\n",
            " [1.800000e+00]\n",
            " [1.461000e+02]\n",
            " [1.234000e+02]\n",
            " [7.883000e+02]\n",
            " [2.250000e+01]\n",
            " [3.840000e+01]\n",
            " [4.714000e+02]\n",
            " [9.520000e+01]\n",
            " [2.345100e+03]\n",
            " [8.660000e+02]\n",
            " [1.335000e+03]\n",
            " [6.170000e+01]\n",
            " [1.753000e+02]\n",
            " [2.710000e+01]\n",
            " [2.760000e+01]\n",
            " [1.104800e+03]\n",
            " [5.950000e+01]\n",
            " [5.523000e+02]\n",
            " [1.120000e+02]\n",
            " [7.800000e+00]]\n"
          ]
        }
      ]
    },
    {
      "cell_type": "markdown",
      "source": [
        "Ajustar o regressor de floresta aleatório ao conjunto de dados"
      ],
      "metadata": {
        "id": "T5vIlBsrZnON"
      }
    },
    {
      "cell_type": "code",
      "source": [
        "# Ajustando a regressão de floresta aleatória ao conjunto de dados\n",
        "\n",
        "# Importar o regressor\n",
        "from sklearn.ensemble import RandomForestRegressor\n",
        "\n",
        "# Criar objeto regressor\n",
        "regressor = RandomForestRegressor(n_estimators = 100, random_state = 0)\n",
        "\n",
        "# Ajustar o regressor com dados x e y\n",
        "regressor.fit(x, y)"
      ],
      "metadata": {
        "colab": {
          "base_uri": "https://localhost:8080/",
          "height": 75
        },
        "id": "43QkW9ujZoTI",
        "outputId": "f2f2ffb8-7589-48e8-bfc6-912b7261cef7"
      },
      "execution_count": 6,
      "outputs": [
        {
          "output_type": "execute_result",
          "data": {
            "text/plain": [
              "RandomForestRegressor(random_state=0)"
            ],
            "text/html": [
              "<style>#sk-container-id-1 {color: black;background-color: white;}#sk-container-id-1 pre{padding: 0;}#sk-container-id-1 div.sk-toggleable {background-color: white;}#sk-container-id-1 label.sk-toggleable__label {cursor: pointer;display: block;width: 100%;margin-bottom: 0;padding: 0.3em;box-sizing: border-box;text-align: center;}#sk-container-id-1 label.sk-toggleable__label-arrow:before {content: \"▸\";float: left;margin-right: 0.25em;color: #696969;}#sk-container-id-1 label.sk-toggleable__label-arrow:hover:before {color: black;}#sk-container-id-1 div.sk-estimator:hover label.sk-toggleable__label-arrow:before {color: black;}#sk-container-id-1 div.sk-toggleable__content {max-height: 0;max-width: 0;overflow: hidden;text-align: left;background-color: #f0f8ff;}#sk-container-id-1 div.sk-toggleable__content pre {margin: 0.2em;color: black;border-radius: 0.25em;background-color: #f0f8ff;}#sk-container-id-1 input.sk-toggleable__control:checked~div.sk-toggleable__content {max-height: 200px;max-width: 100%;overflow: auto;}#sk-container-id-1 input.sk-toggleable__control:checked~label.sk-toggleable__label-arrow:before {content: \"▾\";}#sk-container-id-1 div.sk-estimator input.sk-toggleable__control:checked~label.sk-toggleable__label {background-color: #d4ebff;}#sk-container-id-1 div.sk-label input.sk-toggleable__control:checked~label.sk-toggleable__label {background-color: #d4ebff;}#sk-container-id-1 input.sk-hidden--visually {border: 0;clip: rect(1px 1px 1px 1px);clip: rect(1px, 1px, 1px, 1px);height: 1px;margin: -1px;overflow: hidden;padding: 0;position: absolute;width: 1px;}#sk-container-id-1 div.sk-estimator {font-family: monospace;background-color: #f0f8ff;border: 1px dotted black;border-radius: 0.25em;box-sizing: border-box;margin-bottom: 0.5em;}#sk-container-id-1 div.sk-estimator:hover {background-color: #d4ebff;}#sk-container-id-1 div.sk-parallel-item::after {content: \"\";width: 100%;border-bottom: 1px solid gray;flex-grow: 1;}#sk-container-id-1 div.sk-label:hover label.sk-toggleable__label {background-color: #d4ebff;}#sk-container-id-1 div.sk-serial::before {content: \"\";position: absolute;border-left: 1px solid gray;box-sizing: border-box;top: 0;bottom: 0;left: 50%;z-index: 0;}#sk-container-id-1 div.sk-serial {display: flex;flex-direction: column;align-items: center;background-color: white;padding-right: 0.2em;padding-left: 0.2em;position: relative;}#sk-container-id-1 div.sk-item {position: relative;z-index: 1;}#sk-container-id-1 div.sk-parallel {display: flex;align-items: stretch;justify-content: center;background-color: white;position: relative;}#sk-container-id-1 div.sk-item::before, #sk-container-id-1 div.sk-parallel-item::before {content: \"\";position: absolute;border-left: 1px solid gray;box-sizing: border-box;top: 0;bottom: 0;left: 50%;z-index: -1;}#sk-container-id-1 div.sk-parallel-item {display: flex;flex-direction: column;z-index: 1;position: relative;background-color: white;}#sk-container-id-1 div.sk-parallel-item:first-child::after {align-self: flex-end;width: 50%;}#sk-container-id-1 div.sk-parallel-item:last-child::after {align-self: flex-start;width: 50%;}#sk-container-id-1 div.sk-parallel-item:only-child::after {width: 0;}#sk-container-id-1 div.sk-dashed-wrapped {border: 1px dashed gray;margin: 0 0.4em 0.5em 0.4em;box-sizing: border-box;padding-bottom: 0.4em;background-color: white;}#sk-container-id-1 div.sk-label label {font-family: monospace;font-weight: bold;display: inline-block;line-height: 1.2em;}#sk-container-id-1 div.sk-label-container {text-align: center;}#sk-container-id-1 div.sk-container {/* jupyter's `normalize.less` sets `[hidden] { display: none; }` but bootstrap.min.css set `[hidden] { display: none !important; }` so we also need the `!important` here to be able to override the default hidden behavior on the sphinx rendered scikit-learn.org. See: https://github.com/scikit-learn/scikit-learn/issues/21755 */display: inline-block !important;position: relative;}#sk-container-id-1 div.sk-text-repr-fallback {display: none;}</style><div id=\"sk-container-id-1\" class=\"sk-top-container\"><div class=\"sk-text-repr-fallback\"><pre>RandomForestRegressor(random_state=0)</pre><b>In a Jupyter environment, please rerun this cell to show the HTML representation or trust the notebook. <br />On GitHub, the HTML representation is unable to render, please try loading this page with nbviewer.org.</b></div><div class=\"sk-container\" hidden><div class=\"sk-item\"><div class=\"sk-estimator sk-toggleable\"><input class=\"sk-toggleable__control sk-hidden--visually\" id=\"sk-estimator-id-1\" type=\"checkbox\" checked><label for=\"sk-estimator-id-1\" class=\"sk-toggleable__label sk-toggleable__label-arrow\">RandomForestRegressor</label><div class=\"sk-toggleable__content\"><pre>RandomForestRegressor(random_state=0)</pre></div></div></div></div></div>"
            ]
          },
          "metadata": {},
          "execution_count": 6
        }
      ]
    },
    {
      "cell_type": "markdown",
      "source": [
        "prever um novo resultado"
      ],
      "metadata": {
        "id": "w6vUo4PbZ7Ce"
      }
    },
    {
      "cell_type": "code",
      "source": [
        "import numpy as np\n",
        "# Teste a saída alterando os valores\n",
        "Y_pred = regressor.predict(np.array([6.5]).reshape(1, 1)) \n"
      ],
      "metadata": {
        "id": "maOpjg1nZ-9B"
      },
      "execution_count": 7,
      "outputs": []
    },
    {
      "cell_type": "markdown",
      "source": [
        "Visualização do resultado"
      ],
      "metadata": {
        "id": "e3PiCq5daufR"
      }
    },
    {
      "cell_type": "code",
      "source": [
        "import matplotlib.pyplot as plt\n",
        "# Visualizando os resultados da Regressão Florestal Aleatória\n",
        "  \n",
        "# \"arange\" para criar um intervalo de valores\n",
        "# do valor mínimo de x ao máximo \n",
        "# valor de x com uma diferença de 0,01 \n",
        "# entre dois valores consecutivos\n",
        "X_grid = np.arange(min(x), max(x), 0.01) \n",
        "  \n",
        "# \"reshape\" para remodelar os dados em uma matriz len(X_grid)*1, \n",
        "# i.e. para fazer uma coluna fora do valor X_grid                 \n",
        "X_grid = X_grid.reshape((len(X_grid), 1))\n",
        "  \n",
        "# Gráfico de dispersão para dados originais\n",
        "plt.scatter(x, y, color = 'blue')  \n",
        "  \n",
        "# Traçar dados previstos\n",
        "plt.plot(X_grid, regressor.predict(X_grid), \n",
        "         color = 'green') \n",
        "plt.title('Random Forest Regression')\n",
        "plt.show()"
      ],
      "metadata": {
        "colab": {
          "base_uri": "https://localhost:8080/",
          "height": 452
        },
        "id": "mSq_YuFfaxz2",
        "outputId": "67f175d8-db6a-4d96-ac35-0ffbe41fa831"
      },
      "execution_count": 8,
      "outputs": [
        {
          "output_type": "display_data",
          "data": {
            "text/plain": [
              "<Figure size 640x480 with 1 Axes>"
            ],
            "image/png": "[encoded data removed]"
          },
          "metadata": {}
        }
      ]
    },
    {
      "cell_type": "markdown",
      "source": [
        "Calculando a Matriz de Confusão nos dados de Teste"
      ],
      "metadata": {
        "id": "baPbKOJbcCOm"
      }
    },
    {
      "cell_type": "code",
      "source": [
        "Y_pred = regressor.predict(x)\n",
        "print (pd.crosstab(y,Y_pred, rownames=['Real'], colnames=['Predito'], margins=True))"
      ],
      "metadata": {
        "colab": {
          "base_uri": "https://localhost:8080/"
        },
        "id": "To3QMh-EcDqD",
        "outputId": "e30bda90-9c86-46c7-b117-afe69725e9f4"
      },
      "execution_count": 9,
      "outputs": [
        {
          "output_type": "stream",
          "name": "stdout",
          "text": [
            "Predito                 8.373638832358294e-05  0.00010420955115682579  \\\n",
            "Real                                                                    \n",
            "6.914013714791248e-05                       1                       0   \n",
            "9.986908699142914e-05                       0                       1   \n",
            "0.0001113924431827479                       0                       0   \n",
            "0.00011523356191318749                      0                       0   \n",
            "0.00012675691810450622                      0                       0   \n",
            "...                                       ...                     ...   \n",
            "2.639904875462864                           0                       0   \n",
            "2.807569708046552                           0                       0   \n",
            "5.265036808288458                           0                       0   \n",
            "5.920892467036095                           0                       0   \n",
            "All                                         1                       1   \n",
            "\n",
            "Predito                 0.00011073945299857295  0.0001131977689860543  \\\n",
            "Real                                                                    \n",
            "6.914013714791248e-05                        0                      0   \n",
            "9.986908699142914e-05                        0                      0   \n",
            "0.0001113924431827479                        1                      0   \n",
            "0.00011523356191318749                       0                      1   \n",
            "0.00012675691810450622                       0                      0   \n",
            "...                                        ...                    ...   \n",
            "2.639904875462864                            0                      0   \n",
            "2.807569708046552                            0                      0   \n",
            "5.265036808288458                            0                      0   \n",
            "5.920892467036095                            0                      0   \n",
            "All                                          1                      1   \n",
            "\n",
            "Predito                 0.0001267953292918105  0.0001297145795269446  \\\n",
            "Real                                                                   \n",
            "6.914013714791248e-05                       0                      0   \n",
            "9.986908699142914e-05                       0                      0   \n",
            "0.0001113924431827479                       0                      0   \n",
            "0.00011523356191318749                      0                      0   \n",
            "0.00012675691810450622                      1                      0   \n",
            "...                                       ...                    ...   \n",
            "2.639904875462864                           0                      0   \n",
            "2.807569708046552                           0                      0   \n",
            "5.265036808288458                           0                      0   \n",
            "5.920892467036095                           0                      0   \n",
            "All                                         1                      1   \n",
            "\n",
            "Predito                 0.0001607508188688966  0.00020937938199626152  \\\n",
            "Real                                                                    \n",
            "6.914013714791248e-05                       0                       0   \n",
            "9.986908699142914e-05                       0                       0   \n",
            "0.0001113924431827479                       0                       0   \n",
            "0.00011523356191318749                      0                       0   \n",
            "0.00012675691810450622                      0                       0   \n",
            "...                                       ...                     ...   \n",
            "2.639904875462864                           0                       0   \n",
            "2.807569708046552                           0                       0   \n",
            "5.265036808288458                           0                       0   \n",
            "5.920892467036095                           0                       0   \n",
            "All                                         1                       1   \n",
            "\n",
            "Predito                 0.00021986563613036136  0.0002545125270789265  ...  \\\n",
            "Real                                                                   ...   \n",
            "6.914013714791248e-05                        0                      0  ...   \n",
            "9.986908699142914e-05                        0                      0  ...   \n",
            "0.0001113924431827479                        0                      0  ...   \n",
            "0.00011523356191318749                       0                      0  ...   \n",
            "0.00012675691810450622                       0                      0  ...   \n",
            "...                                        ...                    ...  ...   \n",
            "2.639904875462864                            0                      0  ...   \n",
            "2.807569708046552                            0                      0  ...   \n",
            "5.265036808288458                            0                      0  ...   \n",
            "5.920892467036095                            0                      0  ...   \n",
            "All                                          1                      1  ...   \n",
            "\n",
            "Predito                 2.2485488061380465  2.25204821894623  \\\n",
            "Real                                                           \n",
            "6.914013714791248e-05                    0                 0   \n",
            "9.986908699142914e-05                    0                 0   \n",
            "0.0001113924431827479                    0                 0   \n",
            "0.00011523356191318749                   0                 0   \n",
            "0.00012675691810450622                   0                 0   \n",
            "...                                    ...               ...   \n",
            "2.639904875462864                        0                 0   \n",
            "2.807569708046552                        0                 0   \n",
            "5.265036808288458                        0                 0   \n",
            "5.920892467036095                        0                 0   \n",
            "All                                      1                 1   \n",
            "\n",
            "Predito                 2.2655356927891677  2.277965591412056  \\\n",
            "Real                                                            \n",
            "6.914013714791248e-05                    0                  0   \n",
            "9.986908699142914e-05                    0                  0   \n",
            "0.0001113924431827479                    0                  0   \n",
            "0.00011523356191318749                   0                  0   \n",
            "0.00012675691810450622                   0                  0   \n",
            "...                                    ...                ...   \n",
            "2.639904875462864                        0                  0   \n",
            "2.807569708046552                        0                  0   \n",
            "5.265036808288458                        0                  0   \n",
            "5.920892467036095                        0                  0   \n",
            "All                                      1                  1   \n",
            "\n",
            "Predito                 2.5685522923374036  2.6057729248913  \\\n",
            "Real                                                          \n",
            "6.914013714791248e-05                    0                0   \n",
            "9.986908699142914e-05                    0                0   \n",
            "0.0001113924431827479                    0                0   \n",
            "0.00011523356191318749                   0                0   \n",
            "0.00012675691810450622                   0                0   \n",
            "...                                    ...              ...   \n",
            "2.639904875462864                        0                1   \n",
            "2.807569708046552                        0                0   \n",
            "5.265036808288458                        0                0   \n",
            "5.920892467036095                        0                0   \n",
            "All                                      1                1   \n",
            "\n",
            "Predito                 2.7034003349916444  4.972941507981734  \\\n",
            "Real                                                            \n",
            "6.914013714791248e-05                    0                  0   \n",
            "9.986908699142914e-05                    0                  0   \n",
            "0.0001113924431827479                    0                  0   \n",
            "0.00011523356191318749                   0                  0   \n",
            "0.00012675691810450622                   0                  0   \n",
            "...                                    ...                ...   \n",
            "2.639904875462864                        0                  0   \n",
            "2.807569708046552                        1                  0   \n",
            "5.265036808288458                        0                  1   \n",
            "5.920892467036095                        0                  0   \n",
            "All                                      1                  1   \n",
            "\n",
            "Predito                 5.22216665830583  All  \n",
            "Real                                           \n",
            "6.914013714791248e-05                  0    1  \n",
            "9.986908699142914e-05                  0    1  \n",
            "0.0001113924431827479                  0    1  \n",
            "0.00011523356191318749                 0    1  \n",
            "0.00012675691810450622                 0    1  \n",
            "...                                  ...  ...  \n",
            "2.639904875462864                      0    1  \n",
            "2.807569708046552                      0    1  \n",
            "5.265036808288458                      0    1  \n",
            "5.920892467036095                      1    1  \n",
            "All                                    1  420  \n",
            "\n",
            "[413 rows x 413 columns]\n"
          ]
        }
      ]
    },
    {
      "cell_type": "markdown",
      "source": [
        "R^2 (coeficiente de determinação) "
      ],
      "metadata": {
        "id": "WTUxWLhgifcP"
      }
    },
    {
      "cell_type": "code",
      "source": [
        "from sklearn.metrics import r2_score\n",
        "r2 = r2_score(y, Y_pred)\n",
        "print('R2: %f' % r2)"
      ],
      "metadata": {
        "colab": {
          "base_uri": "https://localhost:8080/"
        },
        "id": "f3yWcUAaiggJ",
        "outputId": "c1c4e133-0629-41c1-d9f3-1bee176b74e5"
      },
      "execution_count": 10,
      "outputs": [
        {
          "output_type": "stream",
          "name": "stdout",
          "text": [
            "R2: 0.995778\n"
          ]
        }
      ]
    },
    {
      "cell_type": "markdown",
      "source": [
        "F1-Score: ela é uma maneira de visualizarmos as métricas Precision e Recall juntas. Uma maneira de unir as duas métricas seria simplesmente calcular a média aritmética. O problema disso é que existem casos onde a Precision ou a Recall podem ser muito baixas enquanto a outra permanece alta. Isso indicaria problemas na geração de falsos positivos ou negativos, conforme já vimos nos tópicos anteriores. Para ajustar isso, o cálculo é um pouco diferente, mas ainda acaba sendo uma média entre as duas métricas anteriores. \n",
        "A média que iremos calcular é a média harmônica, quando os dois valores do cálculo são iguais. Essa média gera resultados muito próximos da média “comum”."
      ],
      "metadata": {
        "id": "27Mb-V7gkRWT"
      }
    },
    {
      "cell_type": "code",
      "source": [
        "from sklearn.metrics import precision_score\n",
        "\n",
        "#definir array de classes reais\n",
        "y = np.repeat([1, 0], repeats=[160, 240])\n",
        "\n",
        "#definir array de classes previstas\n",
        "Y_pred = np.repeat([1, 0, 1, 0], repeats=[120, 40, 70, 170])\n",
        "\n",
        "#calcular F1 score\n",
        "f1_score(y, Y_pred)"
      ],
      "metadata": {
        "colab": {
          "base_uri": "https://localhost:8080/"
        },
        "id": "imtUlpbNkTBV",
        "outputId": "f8167b91-0d4d-4aa7-de3a-54bc9812cddb"
      },
      "execution_count": 11,
      "outputs": [
        {
          "output_type": "execute_result",
          "data": {
            "text/plain": [
              "0.6857142857142857"
            ]
          },
          "metadata": {},
          "execution_count": 11
        }
      ]
    },
    {
      "cell_type": "markdown",
      "source": [
        "Precisão: grau de variação gerado por diferentes medições. Quanto mais preciso for, menor será a variação entre os valores obtidos. É a tolerância do erro de medição para determinado medidor. A Precision é utilizada para indicar a relação entre as previsões positivas realizadas corretamente e todas as previsões positivas (incluindo as falsas)."
      ],
      "metadata": {
        "id": "v_agvuQZohPv"
      }
    },
    {
      "cell_type": "code",
      "source": [
        "from sklearn.metrics import precision_score\n",
        "\n",
        "precision_score(y, Y_pred)"
      ],
      "metadata": {
        "colab": {
          "base_uri": "https://localhost:8080/"
        },
        "id": "R2yrwZbloixZ",
        "outputId": "ded1d89c-6934-4d21-ef9a-ffed52321bb0"
      },
      "execution_count": 12,
      "outputs": [
        {
          "output_type": "execute_result",
          "data": {
            "text/plain": [
              "0.631578947368421"
            ]
          },
          "metadata": {},
          "execution_count": 12
        }
      ]
    },
    {
      "cell_type": "markdown",
      "source": [
        "Acurácia: é uma espécie de sema entre exatidão e precisão. Os resultados obtidos por uma experiência não apenas devem ser precisoa, mas também precisam estar perto do valor de referência. Ele é simplesmente a divisão entre todos os acertos pelo total."
      ],
      "metadata": {
        "id": "eA8HltJVpvvr"
      }
    },
    {
      "cell_type": "code",
      "source": [
        "from sklearn.metrics import accuracy_score\n",
        "\n",
        "accuracy_score(y, Y_pred)"
      ],
      "metadata": {
        "colab": {
          "base_uri": "https://localhost:8080/"
        },
        "id": "mhNlLlrXpxWZ",
        "outputId": "2300841d-1a5d-4fe1-fe8a-20c8bc444fd9"
      },
      "execution_count": 13,
      "outputs": [
        {
          "output_type": "execute_result",
          "data": {
            "text/plain": [
              "0.725"
            ]
          },
          "metadata": {},
          "execution_count": 13
        }
      ]
    }
  ]
}