{
  "cells": [
    {
      "cell_type": "markdown",
      "source": [
        "# Nome do Aluno\n",
        "\n",
        "**Alexandre Emilio Manhães Pardelinha** - alexandre.pardelinha@aluno.cefet-rj.br \n"
      ],
      "metadata": {
        "id": "GerGN0XBe_RG"
      },
      "id": "GerGN0XBe_RG"
    },
    {
      "cell_type": "markdown",
      "source": [
        "# Descrição da tarefa\n",
        "\n",
        "Esta tarefa é dividida nas seguintes etapas:\n",
        "\n",
        "1. Escolher algum artigo no qual uma técnica de sampling ou embedding (para redes complexas, claro) utilizada em algum experimento. Preferencialmente, uma técnica que não seja exatamente uma das foram apresentadas nas aulas.\n",
        "2. Reproduza pelo menos 1 desses experimentos. Para isso você pode criar um notebook jupyter no google colab no qual a sua versão do experimento é feita, imitando os passos descritos no artigo que conduzam dos dados de entrada a resultados (por ex, um gráfico) obtidos a partir deles similares aos do artigo de referência. Obviamente, um desses passos deve ser a aplicação de uma técnica de sampling ou embedding.\n",
        "3. Inclua no fim do seu notebook, numa célula de texto, uma breve descrição da técnica de sampling ou embedding usada: como ela funciona, que características interessantes ela possui etc.\n",
        "4. Como resposta à tarefa, envie um PDF do notebook e também um link para acesso ao mesmo (somente leitura) no próprio google colab."
      ],
      "metadata": {
        "id": "OwlebSGofNxN"
      },
      "id": "OwlebSGofNxN"
    },
    {
      "cell_type": "markdown",
      "source": [
        "# Artigo escolhido para o trabalho\n",
        "*Reducing Large Internet Topologies for Faster Simulations* (Krishnamurthy et al. - Networking 2005)."
      ],
      "metadata": {
        "id": "1aQ_z5PeYqc9"
      },
      "id": "1aQ_z5PeYqc9"
    },
    {
      "cell_type": "markdown",
      "source": [
        "# Método Utilizado\n",
        "*Random Edge Sampler*: removam-se bordas aleatoriamente, cada uma com a mesma probabilidade (DRE)."
      ],
      "metadata": {
        "id": "u_P6rVRDgIQK"
      },
      "id": "u_P6rVRDgIQK"
    },
    {
      "cell_type": "markdown",
      "source": [
        "# Introdução\n",
        "A amostragem do gráfico pode ser usada como uma ferramenta para fornecer uma visão sobre as propriedades topológicas e a estrutura do gráfico. Neste artigo, foram desenvolvidos métodos para \"amostrar\" um pequeno gráfico realista de uma grande rede real. Foram propostos uma série de métodos de redução que podem ser categorizados em três classes: (a) métodos de exclusão, (b) métodos de contração e (c) métodos de exploração (Krishnamurthy et al. 2005). "
      ],
      "metadata": {
        "id": "MGBzqPUEgvDZ"
      },
      "id": "MGBzqPUEgvDZ"
    },
    {
      "cell_type": "markdown",
      "source": [
        "# Propriedade do Gráfico \n",
        "O grau médio de um gráfico é igual a *2m / n*, onde *m* é o número de links e *n* é o número de nós. O grau médio representa a densidade de um gráfico. O grau médio de topologias da Internet é conhecido por aumentar com o tempo, à medida que o tamanho do gráfico também aumenta (Krishnamurthy et al. 2005). "
      ],
      "metadata": {
        "id": "qmHq6YAQhzle"
      },
      "id": "qmHq6YAQhzle"
    },
    {
      "cell_type": "markdown",
      "source": [
        "# Método de Exclusão \n",
        "O método de exclusão foi incorporado na seguinte estrutura: a entrada consiste de um grafo inicial *G* com *n* nós e *m* arestas. O gráfico é reduzido iterativamente em estágios, onde em cada estágio uma pequena porcentagem *s* de arestas é removida (onde *s* é um parâmetro que foi definido pelo usuário com valor igual a 5%) (Krishnamurthy et al. 2005).\n",
        "\n"
      ],
      "metadata": {
        "id": "197yGboJikWG"
      },
      "id": "197yGboJikWG"
    },
    {
      "cell_type": "markdown",
      "source": [
        "# Análise do DRE \n",
        "O método DRE, conforme implementado nos experimentos, remove arestas aleatoriamente, uma de cada vez, e retém a maior parte do componente conectado. Esse processo, em sua forma bruta, não é passível de estudos analíticos, pois a distribuição de grau dos nós eliminados depende fortemente da topologia (desconhecida) propriedades de *G* (Krishnamurthy et al. 2005). "
      ],
      "metadata": {
        "id": "7KugU4AllPCI"
      },
      "id": "7KugU4AllPCI"
    },
    {
      "cell_type": "markdown",
      "source": [
        "# Avaliação da redução do gráfico\n",
        "O gráfico *G* tem 10.966 nós e 22.536 arestas, portanto um grau médio de 4,11. A \"curva da Internet\" mostrada no gráfico representa o valor de instâncias reais da Internet de tamanho correspondente ao valor no eixo *x* (Krishnamurthy et al. 2005). "
      ],
      "metadata": {
        "id": "L7HZJPTsmGSy"
      },
      "id": "L7HZJPTsmGSy"
    },
    {
      "cell_type": "markdown",
      "source": [
        "# Resultados\n",
        "Usando uma entrada inicial de 10.966 nós e 22.536 arestas, as arestas foram removidas aleatoriamente em 5% para cada estágio, até chegar a uma redução de 70%. Em cada estágio foi calculado o grau médio, para que seja feito, através da figura 1, a relação *Redução das Arestas (%) X Grau Médio*. Houve 15 estágios até chegar à redução de 70% das arestas."
      ],
      "metadata": {
        "id": "SjTVBtNpnIid"
      },
      "id": "SjTVBtNpnIid"
    },
    {
      "cell_type": "code",
      "execution_count": null,
      "id": "117e02cb",
      "metadata": {
        "ExecuteTime": {
          "end_time": "2021-11-25T13:29:03.073167Z",
          "start_time": "2021-11-25T13:29:03.069688Z"
        },
        "id": "117e02cb"
      },
      "outputs": [],
      "source": [
        "import networkx as nx\n",
        "import numpy as np\n",
        "import matplotlib.pyplot as plt\n",
        "import pandas as pd\n",
        "import seaborn as sns\n"
      ]
    },
    {
      "cell_type": "markdown",
      "source": [
        "### **Estágio 1 (inicial)**"
      ],
      "metadata": {
        "id": "6kBOwJy4pOly"
      },
      "id": "6kBOwJy4pOly"
    },
    {
      "cell_type": "code",
      "execution_count": null,
      "id": "9e1b9ef5",
      "metadata": {
        "ExecuteTime": {
          "end_time": "2021-11-25T13:28:26.422937Z",
          "start_time": "2021-11-25T13:28:26.334042Z"
        },
        "colab": {
          "base_uri": "https://localhost:8080/",
          "height": 248
        },
        "id": "9e1b9ef5",
        "outputId": "69f631d0-dd60-49b6-e441-32a79ca75ffe"
      },
      "outputs": [
        {
          "output_type": "display_data",
          "data": {
            "image/png": "[encoded data removed]",
            "text/plain": [
              "<Figure size 432x288 with 1 Axes>"
            ]
          },
          "metadata": {}
        }
      ],
      "source": [
        "G1 = nx.gnm_random_graph(10966, 22536)\n",
        "nx.draw_networkx(G1, nx.layout.circular_layout(G1))"
      ]
    },
    {
      "cell_type": "code",
      "source": [
        "G1.number_of_edges()"
      ],
      "metadata": {
        "colab": {
          "base_uri": "https://localhost:8080/"
        },
        "id": "Q5ZbFQXrOc_d",
        "outputId": "2e8e82de-bcc6-44f4-8ab7-80630846ee44"
      },
      "id": "Q5ZbFQXrOc_d",
      "execution_count": null,
      "outputs": [
        {
          "output_type": "execute_result",
          "data": {
            "text/plain": [
              "22536"
            ]
          },
          "metadata": {},
          "execution_count": 8
        }
      ]
    },
    {
      "cell_type": "code",
      "source": [
        "df_degree = pd.DataFrame(data=G1.degree())\n"
      ],
      "metadata": {
        "id": "BQLHe9nn_Q5O"
      },
      "id": "BQLHe9nn_Q5O",
      "execution_count": null,
      "outputs": []
    },
    {
      "cell_type": "code",
      "source": [
        "df_degree.describe()"
      ],
      "metadata": {
        "colab": {
          "base_uri": "https://localhost:8080/",
          "height": 300
        },
        "id": "clQdmmkzHD09",
        "outputId": "99ea6435-061b-48b7-f7bc-02d07f29f6f2"
      },
      "id": "clQdmmkzHD09",
      "execution_count": null,
      "outputs": [
        {
          "output_type": "execute_result",
          "data": {
            "text/html": [
              "<div>\n",
              "<style scoped>\n",
              "    .dataframe tbody tr th:only-of-type {\n",
              "        vertical-align: middle;\n",
              "    }\n",
              "\n",
              "    .dataframe tbody tr th {\n",
              "        vertical-align: top;\n",
              "    }\n",
              "\n",
              "    .dataframe thead th {\n",
              "        text-align: right;\n",
              "    }\n",
              "</style>\n",
              "<table border=\"1\" class=\"dataframe\">\n",
              "  <thead>\n",
              "    <tr style=\"text-align: right;\">\n",
              "      <th></th>\n",
              "      <th>0</th>\n",
              "      <th>1</th>\n",
              "    </tr>\n",
              "  </thead>\n",
              "  <tbody>\n",
              "    <tr>\n",
              "      <th>count</th>\n",
              "      <td>10966.00000</td>\n",
              "      <td>10966.000000</td>\n",
              "    </tr>\n",
              "    <tr>\n",
              "      <th>mean</th>\n",
              "      <td>5482.50000</td>\n",
              "      <td>4.110159</td>\n",
              "    </tr>\n",
              "    <tr>\n",
              "      <th>std</th>\n",
              "      <td>3165.75586</td>\n",
              "      <td>2.023954</td>\n",
              "    </tr>\n",
              "    <tr>\n",
              "      <th>min</th>\n",
              "      <td>0.00000</td>\n",
              "      <td>0.000000</td>\n",
              "    </tr>\n",
              "    <tr>\n",
              "      <th>25%</th>\n",
              "      <td>2741.25000</td>\n",
              "      <td>3.000000</td>\n",
              "    </tr>\n",
              "    <tr>\n",
              "      <th>50%</th>\n",
              "      <td>5482.50000</td>\n",
              "      <td>4.000000</td>\n",
              "    </tr>\n",
              "    <tr>\n",
              "      <th>75%</th>\n",
              "      <td>8223.75000</td>\n",
              "      <td>5.000000</td>\n",
              "    </tr>\n",
              "    <tr>\n",
              "      <th>max</th>\n",
              "      <td>10965.00000</td>\n",
              "      <td>15.000000</td>\n",
              "    </tr>\n",
              "  </tbody>\n",
              "</table>\n",
              "</div>"
            ],
            "text/plain": [
              "                 0             1\n",
              "count  10966.00000  10966.000000\n",
              "mean    5482.50000      4.110159\n",
              "std     3165.75586      2.023954\n",
              "min        0.00000      0.000000\n",
              "25%     2741.25000      3.000000\n",
              "50%     5482.50000      4.000000\n",
              "75%     8223.75000      5.000000\n",
              "max    10965.00000     15.000000"
            ]
          },
          "metadata": {},
          "execution_count": 10
        }
      ]
    },
    {
      "cell_type": "markdown",
      "source": [
        "### **Estágio 2: reduzindo as arestas em 5%**"
      ],
      "metadata": {
        "id": "6LbNnSiNpXvd"
      },
      "id": "6LbNnSiNpXvd"
    },
    {
      "cell_type": "code",
      "source": [
        "22536*0.95"
      ],
      "metadata": {
        "colab": {
          "base_uri": "https://localhost:8080/"
        },
        "id": "gZP1MJaJKs48",
        "outputId": "95a7c70e-66f7-4289-981d-fce154118c5e"
      },
      "id": "gZP1MJaJKs48",
      "execution_count": null,
      "outputs": [
        {
          "output_type": "execute_result",
          "data": {
            "text/plain": [
              "21409.2"
            ]
          },
          "metadata": {},
          "execution_count": 11
        }
      ]
    },
    {
      "cell_type": "code",
      "execution_count": null,
      "id": "50cef9f4",
      "metadata": {
        "ExecuteTime": {
          "end_time": "2021-11-25T13:49:29.916126Z",
          "start_time": "2021-11-25T13:49:29.823212Z"
        },
        "colab": {
          "base_uri": "https://localhost:8080/",
          "height": 248
        },
        "id": "50cef9f4",
        "outputId": "6fdc381c-80f0-4a23-f5c6-9086b77293a7"
      },
      "outputs": [
        {
          "output_type": "display_data",
          "data": {
            "image/png": "[encoded data removed]",
            "text/plain": [
              "<Figure size 432x288 with 1 Axes>"
            ]
          },
          "metadata": {}
        }
      ],
      "source": [
        "indexes = np.random.choice(len(G1.edges()), 21409, replace=False)\n",
        "edges = np.array(G1.edges())[indexes]\n",
        "G2 = nx.from_edgelist(edges)\n",
        "nx.draw_networkx(G2, nx.layout.circular_layout(G2))"
      ]
    },
    {
      "cell_type": "code",
      "source": [
        "G2.number_of_edges()"
      ],
      "metadata": {
        "colab": {
          "base_uri": "https://localhost:8080/"
        },
        "id": "K6Aes9U-CVR_",
        "outputId": "35bf7e00-a64d-4404-ef08-8423a1835ca3"
      },
      "id": "K6Aes9U-CVR_",
      "execution_count": null,
      "outputs": [
        {
          "output_type": "execute_result",
          "data": {
            "text/plain": [
              "21409"
            ]
          },
          "metadata": {},
          "execution_count": 14
        }
      ]
    },
    {
      "cell_type": "code",
      "source": [
        "df_degree = pd.DataFrame(data=G2.degree())"
      ],
      "metadata": {
        "id": "NQzFnxvOM4MW"
      },
      "id": "NQzFnxvOM4MW",
      "execution_count": null,
      "outputs": []
    },
    {
      "cell_type": "code",
      "source": [
        "df_degree.describe()"
      ],
      "metadata": {
        "colab": {
          "base_uri": "https://localhost:8080/",
          "height": 300
        },
        "id": "6e3FVosWNAb9",
        "outputId": "19f65ede-3dfa-45a8-f255-ea255ae74fb9"
      },
      "id": "6e3FVosWNAb9",
      "execution_count": null,
      "outputs": [
        {
          "output_type": "execute_result",
          "data": {
            "text/html": [
              "<div>\n",
              "<style scoped>\n",
              "    .dataframe tbody tr th:only-of-type {\n",
              "        vertical-align: middle;\n",
              "    }\n",
              "\n",
              "    .dataframe tbody tr th {\n",
              "        vertical-align: top;\n",
              "    }\n",
              "\n",
              "    .dataframe thead th {\n",
              "        text-align: right;\n",
              "    }\n",
              "</style>\n",
              "<table border=\"1\" class=\"dataframe\">\n",
              "  <thead>\n",
              "    <tr style=\"text-align: right;\">\n",
              "      <th></th>\n",
              "      <th>0</th>\n",
              "      <th>1</th>\n",
              "    </tr>\n",
              "  </thead>\n",
              "  <tbody>\n",
              "    <tr>\n",
              "      <th>count</th>\n",
              "      <td>10762.000000</td>\n",
              "      <td>10762.000000</td>\n",
              "    </tr>\n",
              "    <tr>\n",
              "      <th>mean</th>\n",
              "      <td>5479.944992</td>\n",
              "      <td>3.978629</td>\n",
              "    </tr>\n",
              "    <tr>\n",
              "      <th>std</th>\n",
              "      <td>3162.924369</td>\n",
              "      <td>1.915924</td>\n",
              "    </tr>\n",
              "    <tr>\n",
              "      <th>min</th>\n",
              "      <td>0.000000</td>\n",
              "      <td>1.000000</td>\n",
              "    </tr>\n",
              "    <tr>\n",
              "      <th>25%</th>\n",
              "      <td>2741.250000</td>\n",
              "      <td>3.000000</td>\n",
              "    </tr>\n",
              "    <tr>\n",
              "      <th>50%</th>\n",
              "      <td>5477.500000</td>\n",
              "      <td>4.000000</td>\n",
              "    </tr>\n",
              "    <tr>\n",
              "      <th>75%</th>\n",
              "      <td>8219.750000</td>\n",
              "      <td>5.000000</td>\n",
              "    </tr>\n",
              "    <tr>\n",
              "      <th>max</th>\n",
              "      <td>10965.000000</td>\n",
              "      <td>15.000000</td>\n",
              "    </tr>\n",
              "  </tbody>\n",
              "</table>\n",
              "</div>"
            ],
            "text/plain": [
              "                  0             1\n",
              "count  10762.000000  10762.000000\n",
              "mean    5479.944992      3.978629\n",
              "std     3162.924369      1.915924\n",
              "min        0.000000      1.000000\n",
              "25%     2741.250000      3.000000\n",
              "50%     5477.500000      4.000000\n",
              "75%     8219.750000      5.000000\n",
              "max    10965.000000     15.000000"
            ]
          },
          "metadata": {},
          "execution_count": 16
        }
      ]
    },
    {
      "cell_type": "markdown",
      "source": [
        "### **Estágio 3: reduzindo as arestas em 10%**"
      ],
      "metadata": {
        "id": "YljoTXKGpc9-"
      },
      "id": "YljoTXKGpc9-"
    },
    {
      "cell_type": "code",
      "source": [
        "22536*0.9"
      ],
      "metadata": {
        "colab": {
          "base_uri": "https://localhost:8080/"
        },
        "id": "a851S-UpKz3l",
        "outputId": "10cbb022-03f0-4610-be5f-d6c5fddabb5e"
      },
      "id": "a851S-UpKz3l",
      "execution_count": null,
      "outputs": [
        {
          "output_type": "execute_result",
          "data": {
            "text/plain": [
              "20282.4"
            ]
          },
          "metadata": {},
          "execution_count": 17
        }
      ]
    },
    {
      "cell_type": "code",
      "source": [
        "indexes = np.random.choice(len(G1.edges()), 20282, replace=False)\n",
        "edges = np.array(G1.edges())[indexes]\n",
        "G3 = nx.from_edgelist(edges)\n",
        "nx.draw_networkx(G3, nx.layout.circular_layout(G3))"
      ],
      "metadata": {
        "colab": {
          "base_uri": "https://localhost:8080/",
          "height": 248
        },
        "id": "5ahQVVVYPoE9",
        "outputId": "4c6b0c00-5166-4098-a809-3be7a47f2994"
      },
      "id": "5ahQVVVYPoE9",
      "execution_count": null,
      "outputs": [
        {
          "output_type": "display_data",
          "data": {
            "image/png": "[encoded data removed]",
            "text/plain": [
              "<Figure size 432x288 with 1 Axes>"
            ]
          },
          "metadata": {}
        }
      ]
    },
    {
      "cell_type": "code",
      "source": [
        "G3.number_of_edges()"
      ],
      "metadata": {
        "colab": {
          "base_uri": "https://localhost:8080/"
        },
        "id": "jHCfGkBaQQWb",
        "outputId": "9962e0e7-744a-40ba-92c8-108dfc50abc0"
      },
      "id": "jHCfGkBaQQWb",
      "execution_count": null,
      "outputs": [
        {
          "output_type": "execute_result",
          "data": {
            "text/plain": [
              "20282"
            ]
          },
          "metadata": {},
          "execution_count": 20
        }
      ]
    },
    {
      "cell_type": "code",
      "source": [
        "df_degree = pd.DataFrame(data=G3.degree())"
      ],
      "metadata": {
        "id": "Gcrra3EAQmo9"
      },
      "id": "Gcrra3EAQmo9",
      "execution_count": null,
      "outputs": []
    },
    {
      "cell_type": "code",
      "source": [
        "df_degree.describe()"
      ],
      "metadata": {
        "colab": {
          "base_uri": "https://localhost:8080/",
          "height": 300
        },
        "id": "LOaWjLDGQr37",
        "outputId": "280b48ab-8332-4189-dcf9-8137d47ce8ac"
      },
      "id": "LOaWjLDGQr37",
      "execution_count": null,
      "outputs": [
        {
          "output_type": "execute_result",
          "data": {
            "text/html": [
              "<div>\n",
              "<style scoped>\n",
              "    .dataframe tbody tr th:only-of-type {\n",
              "        vertical-align: middle;\n",
              "    }\n",
              "\n",
              "    .dataframe tbody tr th {\n",
              "        vertical-align: top;\n",
              "    }\n",
              "\n",
              "    .dataframe thead th {\n",
              "        text-align: right;\n",
              "    }\n",
              "</style>\n",
              "<table border=\"1\" class=\"dataframe\">\n",
              "  <thead>\n",
              "    <tr style=\"text-align: right;\">\n",
              "      <th></th>\n",
              "      <th>0</th>\n",
              "      <th>1</th>\n",
              "    </tr>\n",
              "  </thead>\n",
              "  <tbody>\n",
              "    <tr>\n",
              "      <th>count</th>\n",
              "      <td>10711.000000</td>\n",
              "      <td>10711.000000</td>\n",
              "    </tr>\n",
              "    <tr>\n",
              "      <th>mean</th>\n",
              "      <td>5478.942209</td>\n",
              "      <td>3.787135</td>\n",
              "    </tr>\n",
              "    <tr>\n",
              "      <th>std</th>\n",
              "      <td>3164.309537</td>\n",
              "      <td>1.853421</td>\n",
              "    </tr>\n",
              "    <tr>\n",
              "      <th>min</th>\n",
              "      <td>0.000000</td>\n",
              "      <td>1.000000</td>\n",
              "    </tr>\n",
              "    <tr>\n",
              "      <th>25%</th>\n",
              "      <td>2740.500000</td>\n",
              "      <td>2.000000</td>\n",
              "    </tr>\n",
              "    <tr>\n",
              "      <th>50%</th>\n",
              "      <td>5477.000000</td>\n",
              "      <td>4.000000</td>\n",
              "    </tr>\n",
              "    <tr>\n",
              "      <th>75%</th>\n",
              "      <td>8220.500000</td>\n",
              "      <td>5.000000</td>\n",
              "    </tr>\n",
              "    <tr>\n",
              "      <th>max</th>\n",
              "      <td>10965.000000</td>\n",
              "      <td>14.000000</td>\n",
              "    </tr>\n",
              "  </tbody>\n",
              "</table>\n",
              "</div>"
            ],
            "text/plain": [
              "                  0             1\n",
              "count  10711.000000  10711.000000\n",
              "mean    5478.942209      3.787135\n",
              "std     3164.309537      1.853421\n",
              "min        0.000000      1.000000\n",
              "25%     2740.500000      2.000000\n",
              "50%     5477.000000      4.000000\n",
              "75%     8220.500000      5.000000\n",
              "max    10965.000000     14.000000"
            ]
          },
          "metadata": {},
          "execution_count": 22
        }
      ]
    },
    {
      "cell_type": "markdown",
      "source": [
        "### **Estágio 4: reduzindo as arestas em 15%**"
      ],
      "metadata": {
        "id": "VA21j1expfrI"
      },
      "id": "VA21j1expfrI"
    },
    {
      "cell_type": "code",
      "source": [
        "22536*0.85"
      ],
      "metadata": {
        "colab": {
          "base_uri": "https://localhost:8080/"
        },
        "id": "fbHP2-hmL1gd",
        "outputId": "bf5c76b0-42c5-4219-ce7d-bf358e470472"
      },
      "id": "fbHP2-hmL1gd",
      "execution_count": null,
      "outputs": [
        {
          "output_type": "execute_result",
          "data": {
            "text/plain": [
              "19155.6"
            ]
          },
          "metadata": {},
          "execution_count": 23
        }
      ]
    },
    {
      "cell_type": "code",
      "source": [
        "indexes = np.random.choice(len(G1.edges()), 19155, replace=False)\n",
        "edges = np.array(G1.edges())[indexes]\n",
        "G4 = nx.from_edgelist(edges)\n",
        "nx.draw_networkx(G4, nx.layout.circular_layout(G4))"
      ],
      "metadata": {
        "colab": {
          "base_uri": "https://localhost:8080/",
          "height": 248
        },
        "id": "A5fwe_yYQ0_h",
        "outputId": "d6656a2d-b00e-49aa-cc50-788c8e210067"
      },
      "id": "A5fwe_yYQ0_h",
      "execution_count": null,
      "outputs": [
        {
          "output_type": "display_data",
          "data": {
            "image/png": "[encoded data removed]",
            "text/plain": [
              "<Figure size 432x288 with 1 Axes>"
            ]
          },
          "metadata": {}
        }
      ]
    },
    {
      "cell_type": "code",
      "source": [
        "G4.number_of_edges()"
      ],
      "metadata": {
        "colab": {
          "base_uri": "https://localhost:8080/"
        },
        "id": "TEJIEDp5RZ7k",
        "outputId": "f1b7fbe6-e8da-4533-8501-4d21b2cd0c75"
      },
      "id": "TEJIEDp5RZ7k",
      "execution_count": null,
      "outputs": [
        {
          "output_type": "execute_result",
          "data": {
            "text/plain": [
              "19155"
            ]
          },
          "metadata": {},
          "execution_count": 27
        }
      ]
    },
    {
      "cell_type": "code",
      "source": [
        "df_degree = pd.DataFrame(data=G4.degree())"
      ],
      "metadata": {
        "id": "TheVQyiARmBA"
      },
      "id": "TheVQyiARmBA",
      "execution_count": null,
      "outputs": []
    },
    {
      "cell_type": "code",
      "source": [
        "df_degree.describe()"
      ],
      "metadata": {
        "colab": {
          "base_uri": "https://localhost:8080/",
          "height": 300
        },
        "id": "6g0VFCDXRruq",
        "outputId": "8de8822a-923e-4902-91aa-935f1a4c58b2"
      },
      "id": "6g0VFCDXRruq",
      "execution_count": null,
      "outputs": [
        {
          "output_type": "execute_result",
          "data": {
            "text/html": [
              "<div>\n",
              "<style scoped>\n",
              "    .dataframe tbody tr th:only-of-type {\n",
              "        vertical-align: middle;\n",
              "    }\n",
              "\n",
              "    .dataframe tbody tr th {\n",
              "        vertical-align: top;\n",
              "    }\n",
              "\n",
              "    .dataframe thead th {\n",
              "        text-align: right;\n",
              "    }\n",
              "</style>\n",
              "<table border=\"1\" class=\"dataframe\">\n",
              "  <thead>\n",
              "    <tr style=\"text-align: right;\">\n",
              "      <th></th>\n",
              "      <th>0</th>\n",
              "      <th>1</th>\n",
              "    </tr>\n",
              "  </thead>\n",
              "  <tbody>\n",
              "    <tr>\n",
              "      <th>count</th>\n",
              "      <td>10637.000000</td>\n",
              "      <td>10637.000000</td>\n",
              "    </tr>\n",
              "    <tr>\n",
              "      <th>mean</th>\n",
              "      <td>5479.596503</td>\n",
              "      <td>3.601579</td>\n",
              "    </tr>\n",
              "    <tr>\n",
              "      <th>std</th>\n",
              "      <td>3165.299407</td>\n",
              "      <td>1.796048</td>\n",
              "    </tr>\n",
              "    <tr>\n",
              "      <th>min</th>\n",
              "      <td>0.000000</td>\n",
              "      <td>1.000000</td>\n",
              "    </tr>\n",
              "    <tr>\n",
              "      <th>25%</th>\n",
              "      <td>2740.000000</td>\n",
              "      <td>2.000000</td>\n",
              "    </tr>\n",
              "    <tr>\n",
              "      <th>50%</th>\n",
              "      <td>5476.000000</td>\n",
              "      <td>3.000000</td>\n",
              "    </tr>\n",
              "    <tr>\n",
              "      <th>75%</th>\n",
              "      <td>8218.000000</td>\n",
              "      <td>5.000000</td>\n",
              "    </tr>\n",
              "    <tr>\n",
              "      <th>max</th>\n",
              "      <td>10965.000000</td>\n",
              "      <td>13.000000</td>\n",
              "    </tr>\n",
              "  </tbody>\n",
              "</table>\n",
              "</div>"
            ],
            "text/plain": [
              "                  0             1\n",
              "count  10637.000000  10637.000000\n",
              "mean    5479.596503      3.601579\n",
              "std     3165.299407      1.796048\n",
              "min        0.000000      1.000000\n",
              "25%     2740.000000      2.000000\n",
              "50%     5476.000000      3.000000\n",
              "75%     8218.000000      5.000000\n",
              "max    10965.000000     13.000000"
            ]
          },
          "metadata": {},
          "execution_count": 30
        }
      ]
    },
    {
      "cell_type": "markdown",
      "source": [
        "### **Estágio 5: reduzindo as arestas em 20%**\n",
        "\n",
        "\n"
      ],
      "metadata": {
        "id": "MrTZBai6pjxQ"
      },
      "id": "MrTZBai6pjxQ"
    },
    {
      "cell_type": "code",
      "source": [
        "22536*0.80"
      ],
      "metadata": {
        "colab": {
          "base_uri": "https://localhost:8080/"
        },
        "id": "kOciQHUgMc9p",
        "outputId": "12f18f18-fdc5-49f6-d5db-1a922cde8d19"
      },
      "id": "kOciQHUgMc9p",
      "execution_count": null,
      "outputs": [
        {
          "output_type": "execute_result",
          "data": {
            "text/plain": [
              "18028.8"
            ]
          },
          "metadata": {},
          "execution_count": 31
        }
      ]
    },
    {
      "cell_type": "code",
      "source": [
        "indexes = np.random.choice(len(G1.edges()), 18028, replace=False)\n",
        "edges = np.array(G1.edges())[indexes]\n",
        "G5 = nx.from_edgelist(edges)\n",
        "nx.draw_networkx(G5, nx.layout.circular_layout(G5))"
      ],
      "metadata": {
        "colab": {
          "base_uri": "https://localhost:8080/",
          "height": 248
        },
        "id": "Z5-nvdcPMm33",
        "outputId": "3538f259-ae2b-43ca-b0a7-df0f5b053bd0"
      },
      "id": "Z5-nvdcPMm33",
      "execution_count": null,
      "outputs": [
        {
          "output_type": "display_data",
          "data": {
            "image/png": "[encoded data removed]",
            "text/plain": [
              "<Figure size 432x288 with 1 Axes>"
            ]
          },
          "metadata": {}
        }
      ]
    },
    {
      "cell_type": "code",
      "source": [
        "G5.number_of_edges()"
      ],
      "metadata": {
        "colab": {
          "base_uri": "https://localhost:8080/"
        },
        "id": "u0ZOA98hNAF-",
        "outputId": "cdbfffb7-55ec-4c32-fb7a-4afdad378a62"
      },
      "id": "u0ZOA98hNAF-",
      "execution_count": null,
      "outputs": [
        {
          "output_type": "execute_result",
          "data": {
            "text/plain": [
              "18028"
            ]
          },
          "metadata": {},
          "execution_count": 36
        }
      ]
    },
    {
      "cell_type": "code",
      "source": [
        "df_degree = pd.DataFrame(data=G5.degree())"
      ],
      "metadata": {
        "id": "SP67SpMSNFbm"
      },
      "id": "SP67SpMSNFbm",
      "execution_count": null,
      "outputs": []
    },
    {
      "cell_type": "code",
      "source": [
        "df_degree.describe()"
      ],
      "metadata": {
        "colab": {
          "base_uri": "https://localhost:8080/",
          "height": 300
        },
        "id": "tK9YSo0YNNl9",
        "outputId": "c84d4b7f-fcd9-47ff-c1f2-02bd13e7cd9a"
      },
      "id": "tK9YSo0YNNl9",
      "execution_count": null,
      "outputs": [
        {
          "output_type": "execute_result",
          "data": {
            "text/html": [
              "<div>\n",
              "<style scoped>\n",
              "    .dataframe tbody tr th:only-of-type {\n",
              "        vertical-align: middle;\n",
              "    }\n",
              "\n",
              "    .dataframe tbody tr th {\n",
              "        vertical-align: top;\n",
              "    }\n",
              "\n",
              "    .dataframe thead th {\n",
              "        text-align: right;\n",
              "    }\n",
              "</style>\n",
              "<table border=\"1\" class=\"dataframe\">\n",
              "  <thead>\n",
              "    <tr style=\"text-align: right;\">\n",
              "      <th></th>\n",
              "      <th>0</th>\n",
              "      <th>1</th>\n",
              "    </tr>\n",
              "  </thead>\n",
              "  <tbody>\n",
              "    <tr>\n",
              "      <th>count</th>\n",
              "      <td>10555.000000</td>\n",
              "      <td>10555.000000</td>\n",
              "    </tr>\n",
              "    <tr>\n",
              "      <th>mean</th>\n",
              "      <td>5480.651729</td>\n",
              "      <td>3.416011</td>\n",
              "    </tr>\n",
              "    <tr>\n",
              "      <th>std</th>\n",
              "      <td>3161.048517</td>\n",
              "      <td>1.723834</td>\n",
              "    </tr>\n",
              "    <tr>\n",
              "      <th>min</th>\n",
              "      <td>0.000000</td>\n",
              "      <td>1.000000</td>\n",
              "    </tr>\n",
              "    <tr>\n",
              "      <th>25%</th>\n",
              "      <td>2747.500000</td>\n",
              "      <td>2.000000</td>\n",
              "    </tr>\n",
              "    <tr>\n",
              "      <th>50%</th>\n",
              "      <td>5478.000000</td>\n",
              "      <td>3.000000</td>\n",
              "    </tr>\n",
              "    <tr>\n",
              "      <th>75%</th>\n",
              "      <td>8214.500000</td>\n",
              "      <td>4.000000</td>\n",
              "    </tr>\n",
              "    <tr>\n",
              "      <th>max</th>\n",
              "      <td>10965.000000</td>\n",
              "      <td>12.000000</td>\n",
              "    </tr>\n",
              "  </tbody>\n",
              "</table>\n",
              "</div>"
            ],
            "text/plain": [
              "                  0             1\n",
              "count  10555.000000  10555.000000\n",
              "mean    5480.651729      3.416011\n",
              "std     3161.048517      1.723834\n",
              "min        0.000000      1.000000\n",
              "25%     2747.500000      2.000000\n",
              "50%     5478.000000      3.000000\n",
              "75%     8214.500000      4.000000\n",
              "max    10965.000000     12.000000"
            ]
          },
          "metadata": {},
          "execution_count": 45
        }
      ]
    },
    {
      "cell_type": "markdown",
      "source": [
        "### **Estágio 6: reduzindo as arestas em 25%**"
      ],
      "metadata": {
        "id": "wMHjwBPKpl6w"
      },
      "id": "wMHjwBPKpl6w"
    },
    {
      "cell_type": "code",
      "source": [
        "22536*0.75"
      ],
      "metadata": {
        "colab": {
          "base_uri": "https://localhost:8080/"
        },
        "id": "byoPPGp_NP5O",
        "outputId": "86061ae2-01e4-4fdc-9f23-d66482498b07"
      },
      "id": "byoPPGp_NP5O",
      "execution_count": null,
      "outputs": [
        {
          "output_type": "execute_result",
          "data": {
            "text/plain": [
              "16902.0"
            ]
          },
          "metadata": {},
          "execution_count": 46
        }
      ]
    },
    {
      "cell_type": "code",
      "source": [
        "indexes = np.random.choice(len(G1.edges()), 16902, replace=False)\n",
        "edges = np.array(G1.edges())[indexes]\n",
        "G6 = nx.from_edgelist(edges)\n",
        "nx.draw_networkx(G6, nx.layout.circular_layout(G6))"
      ],
      "metadata": {
        "colab": {
          "base_uri": "https://localhost:8080/",
          "height": 248
        },
        "id": "G8iK1ShiNXzI",
        "outputId": "4ca4aa25-acfb-4e8b-cb36-c4278951a24a"
      },
      "id": "G8iK1ShiNXzI",
      "execution_count": null,
      "outputs": [
        {
          "output_type": "display_data",
          "data": {
            "image/png": "[encoded data removed]",
            "text/plain": [
              "<Figure size 432x288 with 1 Axes>"
            ]
          },
          "metadata": {}
        }
      ]
    },
    {
      "cell_type": "code",
      "source": [
        "G6.number_of_edges()"
      ],
      "metadata": {
        "colab": {
          "base_uri": "https://localhost:8080/"
        },
        "id": "37CdluhqNrxE",
        "outputId": "dd5af2ce-6749-42d9-9d91-daa9900081d1"
      },
      "id": "37CdluhqNrxE",
      "execution_count": null,
      "outputs": [
        {
          "output_type": "execute_result",
          "data": {
            "text/plain": [
              "16902"
            ]
          },
          "metadata": {},
          "execution_count": 49
        }
      ]
    },
    {
      "cell_type": "code",
      "source": [
        "df_degree = pd.DataFrame(data=G6.degree())"
      ],
      "metadata": {
        "id": "R49OQ3-SN4c9"
      },
      "id": "R49OQ3-SN4c9",
      "execution_count": null,
      "outputs": []
    },
    {
      "cell_type": "code",
      "source": [
        "df_degree.describe()"
      ],
      "metadata": {
        "colab": {
          "base_uri": "https://localhost:8080/",
          "height": 300
        },
        "id": "UVbGmMKJOR-8",
        "outputId": "0bc48844-991a-461b-db18-892365acdcc9"
      },
      "id": "UVbGmMKJOR-8",
      "execution_count": null,
      "outputs": [
        {
          "output_type": "execute_result",
          "data": {
            "text/html": [
              "<div>\n",
              "<style scoped>\n",
              "    .dataframe tbody tr th:only-of-type {\n",
              "        vertical-align: middle;\n",
              "    }\n",
              "\n",
              "    .dataframe tbody tr th {\n",
              "        vertical-align: top;\n",
              "    }\n",
              "\n",
              "    .dataframe thead th {\n",
              "        text-align: right;\n",
              "    }\n",
              "</style>\n",
              "<table border=\"1\" class=\"dataframe\">\n",
              "  <thead>\n",
              "    <tr style=\"text-align: right;\">\n",
              "      <th></th>\n",
              "      <th>0</th>\n",
              "      <th>1</th>\n",
              "    </tr>\n",
              "  </thead>\n",
              "  <tbody>\n",
              "    <tr>\n",
              "      <th>count</th>\n",
              "      <td>10461.000000</td>\n",
              "      <td>10461.000000</td>\n",
              "    </tr>\n",
              "    <tr>\n",
              "      <th>mean</th>\n",
              "      <td>5471.029156</td>\n",
              "      <td>3.231431</td>\n",
              "    </tr>\n",
              "    <tr>\n",
              "      <th>std</th>\n",
              "      <td>3160.969933</td>\n",
              "      <td>1.664748</td>\n",
              "    </tr>\n",
              "    <tr>\n",
              "      <th>min</th>\n",
              "      <td>0.000000</td>\n",
              "      <td>1.000000</td>\n",
              "    </tr>\n",
              "    <tr>\n",
              "      <th>25%</th>\n",
              "      <td>2745.000000</td>\n",
              "      <td>2.000000</td>\n",
              "    </tr>\n",
              "    <tr>\n",
              "      <th>50%</th>\n",
              "      <td>5462.000000</td>\n",
              "      <td>3.000000</td>\n",
              "    </tr>\n",
              "    <tr>\n",
              "      <th>75%</th>\n",
              "      <td>8202.000000</td>\n",
              "      <td>4.000000</td>\n",
              "    </tr>\n",
              "    <tr>\n",
              "      <th>max</th>\n",
              "      <td>10965.000000</td>\n",
              "      <td>13.000000</td>\n",
              "    </tr>\n",
              "  </tbody>\n",
              "</table>\n",
              "</div>"
            ],
            "text/plain": [
              "                  0             1\n",
              "count  10461.000000  10461.000000\n",
              "mean    5471.029156      3.231431\n",
              "std     3160.969933      1.664748\n",
              "min        0.000000      1.000000\n",
              "25%     2745.000000      2.000000\n",
              "50%     5462.000000      3.000000\n",
              "75%     8202.000000      4.000000\n",
              "max    10965.000000     13.000000"
            ]
          },
          "metadata": {},
          "execution_count": 51
        }
      ]
    },
    {
      "cell_type": "markdown",
      "source": [
        "### **Estágio 7: reduzindo as arestas em 30%**"
      ],
      "metadata": {
        "id": "3UFWcW-XpoXz"
      },
      "id": "3UFWcW-XpoXz"
    },
    {
      "cell_type": "code",
      "source": [
        "22536*0.70"
      ],
      "metadata": {
        "colab": {
          "base_uri": "https://localhost:8080/"
        },
        "id": "OUdAEIBXOUWD",
        "outputId": "973926c6-e4ca-40a2-a2bc-b62de5dffc27"
      },
      "id": "OUdAEIBXOUWD",
      "execution_count": null,
      "outputs": [
        {
          "output_type": "execute_result",
          "data": {
            "text/plain": [
              "15775.199999999999"
            ]
          },
          "metadata": {},
          "execution_count": 52
        }
      ]
    },
    {
      "cell_type": "code",
      "source": [
        "indexes = np.random.choice(len(G1.edges()), 15775, replace=False)\n",
        "edges = np.array(G1.edges())[indexes]\n",
        "G7 = nx.from_edgelist(edges)\n",
        "nx.draw_networkx(G7, nx.layout.circular_layout(G7))"
      ],
      "metadata": {
        "colab": {
          "base_uri": "https://localhost:8080/",
          "height": 248
        },
        "id": "URjfvHTFOcMd",
        "outputId": "f118723d-4a34-45c3-de35-985104443ea0"
      },
      "id": "URjfvHTFOcMd",
      "execution_count": null,
      "outputs": [
        {
          "output_type": "display_data",
          "data": {
            "image/png": "[encoded data removed]",
            "text/plain": [
              "<Figure size 432x288 with 1 Axes>"
            ]
          },
          "metadata": {}
        }
      ]
    },
    {
      "cell_type": "code",
      "source": [
        "G7.number_of_edges()"
      ],
      "metadata": {
        "colab": {
          "base_uri": "https://localhost:8080/"
        },
        "id": "4tggdx35Ovxv",
        "outputId": "3d95a4d1-3835-4885-d743-eeb3bf905e15"
      },
      "id": "4tggdx35Ovxv",
      "execution_count": null,
      "outputs": [
        {
          "output_type": "execute_result",
          "data": {
            "text/plain": [
              "15775"
            ]
          },
          "metadata": {},
          "execution_count": 55
        }
      ]
    },
    {
      "cell_type": "code",
      "source": [
        "df_degree = pd.DataFrame(data=G7.degree())"
      ],
      "metadata": {
        "id": "cEuq6R2gO3DF"
      },
      "id": "cEuq6R2gO3DF",
      "execution_count": null,
      "outputs": []
    },
    {
      "cell_type": "code",
      "source": [
        "df_degree.describe()"
      ],
      "metadata": {
        "colab": {
          "base_uri": "https://localhost:8080/",
          "height": 300
        },
        "id": "EH8OovqQO8t1",
        "outputId": "92d7346d-b454-4899-8f91-631a9714d8e5"
      },
      "id": "EH8OovqQO8t1",
      "execution_count": null,
      "outputs": [
        {
          "output_type": "execute_result",
          "data": {
            "text/html": [
              "<div>\n",
              "<style scoped>\n",
              "    .dataframe tbody tr th:only-of-type {\n",
              "        vertical-align: middle;\n",
              "    }\n",
              "\n",
              "    .dataframe tbody tr th {\n",
              "        vertical-align: top;\n",
              "    }\n",
              "\n",
              "    .dataframe thead th {\n",
              "        text-align: right;\n",
              "    }\n",
              "</style>\n",
              "<table border=\"1\" class=\"dataframe\">\n",
              "  <thead>\n",
              "    <tr style=\"text-align: right;\">\n",
              "      <th></th>\n",
              "      <th>0</th>\n",
              "      <th>1</th>\n",
              "    </tr>\n",
              "  </thead>\n",
              "  <tbody>\n",
              "    <tr>\n",
              "      <th>count</th>\n",
              "      <td>10351.000000</td>\n",
              "      <td>10351.000000</td>\n",
              "    </tr>\n",
              "    <tr>\n",
              "      <th>mean</th>\n",
              "      <td>5484.618298</td>\n",
              "      <td>3.048015</td>\n",
              "    </tr>\n",
              "    <tr>\n",
              "      <th>std</th>\n",
              "      <td>3162.776346</td>\n",
              "      <td>1.584683</td>\n",
              "    </tr>\n",
              "    <tr>\n",
              "      <th>min</th>\n",
              "      <td>1.000000</td>\n",
              "      <td>1.000000</td>\n",
              "    </tr>\n",
              "    <tr>\n",
              "      <th>25%</th>\n",
              "      <td>2748.500000</td>\n",
              "      <td>2.000000</td>\n",
              "    </tr>\n",
              "    <tr>\n",
              "      <th>50%</th>\n",
              "      <td>5483.000000</td>\n",
              "      <td>3.000000</td>\n",
              "    </tr>\n",
              "    <tr>\n",
              "      <th>75%</th>\n",
              "      <td>8226.500000</td>\n",
              "      <td>4.000000</td>\n",
              "    </tr>\n",
              "    <tr>\n",
              "      <th>max</th>\n",
              "      <td>10965.000000</td>\n",
              "      <td>13.000000</td>\n",
              "    </tr>\n",
              "  </tbody>\n",
              "</table>\n",
              "</div>"
            ],
            "text/plain": [
              "                  0             1\n",
              "count  10351.000000  10351.000000\n",
              "mean    5484.618298      3.048015\n",
              "std     3162.776346      1.584683\n",
              "min        1.000000      1.000000\n",
              "25%     2748.500000      2.000000\n",
              "50%     5483.000000      3.000000\n",
              "75%     8226.500000      4.000000\n",
              "max    10965.000000     13.000000"
            ]
          },
          "metadata": {},
          "execution_count": 57
        }
      ]
    },
    {
      "cell_type": "markdown",
      "source": [
        "### **Estágio 8: reduzindo as arestas em 35%**"
      ],
      "metadata": {
        "id": "Pwg-4al0pqkO"
      },
      "id": "Pwg-4al0pqkO"
    },
    {
      "cell_type": "code",
      "source": [
        "22536*0.65"
      ],
      "metadata": {
        "colab": {
          "base_uri": "https://localhost:8080/"
        },
        "id": "zkWl1NwYO-yX",
        "outputId": "c9acd257-80ad-47c5-fb01-a2c34663e0a9"
      },
      "id": "zkWl1NwYO-yX",
      "execution_count": null,
      "outputs": [
        {
          "output_type": "execute_result",
          "data": {
            "text/plain": [
              "14648.4"
            ]
          },
          "metadata": {},
          "execution_count": 58
        }
      ]
    },
    {
      "cell_type": "code",
      "source": [
        "indexes = np.random.choice(len(G1.edges()), 14648, replace=False)\n",
        "edges = np.array(G1.edges())[indexes]\n",
        "G8 = nx.from_edgelist(edges)\n",
        "nx.draw_networkx(G8, nx.layout.circular_layout(G8))"
      ],
      "metadata": {
        "colab": {
          "base_uri": "https://localhost:8080/",
          "height": 248
        },
        "id": "KVPk3jNwPHNl",
        "outputId": "c6e2850c-f73e-47f9-b7ee-9a320948687e"
      },
      "id": "KVPk3jNwPHNl",
      "execution_count": null,
      "outputs": [
        {
          "output_type": "display_data",
          "data": {
            "image/png": "[encoded data removed]",
            "text/plain": [
              "<Figure size 432x288 with 1 Axes>"
            ]
          },
          "metadata": {}
        }
      ]
    },
    {
      "cell_type": "code",
      "source": [
        "G8.number_of_edges()"
      ],
      "metadata": {
        "colab": {
          "base_uri": "https://localhost:8080/"
        },
        "id": "qvxtSQqmPpqK",
        "outputId": "975a75b7-c17d-4737-e26d-835e17ac37e8"
      },
      "id": "qvxtSQqmPpqK",
      "execution_count": null,
      "outputs": [
        {
          "output_type": "execute_result",
          "data": {
            "text/plain": [
              "14648"
            ]
          },
          "metadata": {},
          "execution_count": 63
        }
      ]
    },
    {
      "cell_type": "code",
      "source": [
        "df_degree = pd.DataFrame(data=G8.degree())"
      ],
      "metadata": {
        "id": "VgZ1phTvPycE"
      },
      "id": "VgZ1phTvPycE",
      "execution_count": null,
      "outputs": []
    },
    {
      "cell_type": "code",
      "source": [
        "df_degree.describe()"
      ],
      "metadata": {
        "colab": {
          "base_uri": "https://localhost:8080/",
          "height": 300
        },
        "id": "US86wR_RP3TV",
        "outputId": "ffc67147-d3b8-4076-d019-0a32b7015b57"
      },
      "id": "US86wR_RP3TV",
      "execution_count": null,
      "outputs": [
        {
          "output_type": "execute_result",
          "data": {
            "text/html": [
              "<div>\n",
              "<style scoped>\n",
              "    .dataframe tbody tr th:only-of-type {\n",
              "        vertical-align: middle;\n",
              "    }\n",
              "\n",
              "    .dataframe tbody tr th {\n",
              "        vertical-align: top;\n",
              "    }\n",
              "\n",
              "    .dataframe thead th {\n",
              "        text-align: right;\n",
              "    }\n",
              "</style>\n",
              "<table border=\"1\" class=\"dataframe\">\n",
              "  <thead>\n",
              "    <tr style=\"text-align: right;\">\n",
              "      <th></th>\n",
              "      <th>0</th>\n",
              "      <th>1</th>\n",
              "    </tr>\n",
              "  </thead>\n",
              "  <tbody>\n",
              "    <tr>\n",
              "      <th>count</th>\n",
              "      <td>10235.000000</td>\n",
              "      <td>10235.000000</td>\n",
              "    </tr>\n",
              "    <tr>\n",
              "      <th>mean</th>\n",
              "      <td>5481.975574</td>\n",
              "      <td>2.862335</td>\n",
              "    </tr>\n",
              "    <tr>\n",
              "      <th>std</th>\n",
              "      <td>3163.270909</td>\n",
              "      <td>1.506971</td>\n",
              "    </tr>\n",
              "    <tr>\n",
              "      <th>min</th>\n",
              "      <td>1.000000</td>\n",
              "      <td>1.000000</td>\n",
              "    </tr>\n",
              "    <tr>\n",
              "      <th>25%</th>\n",
              "      <td>2751.500000</td>\n",
              "      <td>2.000000</td>\n",
              "    </tr>\n",
              "    <tr>\n",
              "      <th>50%</th>\n",
              "      <td>5479.000000</td>\n",
              "      <td>3.000000</td>\n",
              "    </tr>\n",
              "    <tr>\n",
              "      <th>75%</th>\n",
              "      <td>8209.500000</td>\n",
              "      <td>4.000000</td>\n",
              "    </tr>\n",
              "    <tr>\n",
              "      <th>max</th>\n",
              "      <td>10965.000000</td>\n",
              "      <td>12.000000</td>\n",
              "    </tr>\n",
              "  </tbody>\n",
              "</table>\n",
              "</div>"
            ],
            "text/plain": [
              "                  0             1\n",
              "count  10235.000000  10235.000000\n",
              "mean    5481.975574      2.862335\n",
              "std     3163.270909      1.506971\n",
              "min        1.000000      1.000000\n",
              "25%     2751.500000      2.000000\n",
              "50%     5479.000000      3.000000\n",
              "75%     8209.500000      4.000000\n",
              "max    10965.000000     12.000000"
            ]
          },
          "metadata": {},
          "execution_count": 65
        }
      ]
    },
    {
      "cell_type": "markdown",
      "source": [
        "### **Estágio 9: reduzindo as arestas em 40%**"
      ],
      "metadata": {
        "id": "21Hs8QGaptaw"
      },
      "id": "21Hs8QGaptaw"
    },
    {
      "cell_type": "code",
      "source": [
        "22536*0.60"
      ],
      "metadata": {
        "colab": {
          "base_uri": "https://localhost:8080/"
        },
        "id": "8wlzpAOiP7DR",
        "outputId": "6cd58b7b-cb6a-4c27-e963-5be1631bc448"
      },
      "id": "8wlzpAOiP7DR",
      "execution_count": null,
      "outputs": [
        {
          "output_type": "execute_result",
          "data": {
            "text/plain": [
              "13521.6"
            ]
          },
          "metadata": {},
          "execution_count": 66
        }
      ]
    },
    {
      "cell_type": "code",
      "source": [
        "indexes = np.random.choice(len(G1.edges()), 13521, replace=False)\n",
        "edges = np.array(G1.edges())[indexes]\n",
        "G9 = nx.from_edgelist(edges)\n",
        "nx.draw_networkx(G9, nx.layout.circular_layout(G9))"
      ],
      "metadata": {
        "colab": {
          "base_uri": "https://localhost:8080/",
          "height": 248
        },
        "id": "5MQeZOemQDOl",
        "outputId": "88d16297-3652-43a9-b127-07ec0ba8c68f"
      },
      "id": "5MQeZOemQDOl",
      "execution_count": null,
      "outputs": [
        {
          "output_type": "display_data",
          "data": {
            "image/png": "[encoded data removed]",
            "text/plain": [
              "<Figure size 432x288 with 1 Axes>"
            ]
          },
          "metadata": {}
        }
      ]
    },
    {
      "cell_type": "code",
      "source": [
        "G9.number_of_edges()"
      ],
      "metadata": {
        "colab": {
          "base_uri": "https://localhost:8080/"
        },
        "id": "CMb3HxoGQihi",
        "outputId": "c36c1fb9-76f3-487b-a4be-87c13fd01d07"
      },
      "id": "CMb3HxoGQihi",
      "execution_count": null,
      "outputs": [
        {
          "output_type": "execute_result",
          "data": {
            "text/plain": [
              "13521"
            ]
          },
          "metadata": {},
          "execution_count": 71
        }
      ]
    },
    {
      "cell_type": "code",
      "source": [
        "df_degree = pd.DataFrame(data=G9.degree())"
      ],
      "metadata": {
        "id": "B4XED283Qqtc"
      },
      "id": "B4XED283Qqtc",
      "execution_count": null,
      "outputs": []
    },
    {
      "cell_type": "code",
      "source": [
        "df_degree.describe()"
      ],
      "metadata": {
        "colab": {
          "base_uri": "https://localhost:8080/",
          "height": 300
        },
        "id": "l0V_YycdQwBc",
        "outputId": "f3dc04af-77d0-44d8-b71e-f6151bbfca5f"
      },
      "id": "l0V_YycdQwBc",
      "execution_count": null,
      "outputs": [
        {
          "output_type": "execute_result",
          "data": {
            "text/html": [
              "<div>\n",
              "<style scoped>\n",
              "    .dataframe tbody tr th:only-of-type {\n",
              "        vertical-align: middle;\n",
              "    }\n",
              "\n",
              "    .dataframe tbody tr th {\n",
              "        vertical-align: top;\n",
              "    }\n",
              "\n",
              "    .dataframe thead th {\n",
              "        text-align: right;\n",
              "    }\n",
              "</style>\n",
              "<table border=\"1\" class=\"dataframe\">\n",
              "  <thead>\n",
              "    <tr style=\"text-align: right;\">\n",
              "      <th></th>\n",
              "      <th>0</th>\n",
              "      <th>1</th>\n",
              "    </tr>\n",
              "  </thead>\n",
              "  <tbody>\n",
              "    <tr>\n",
              "      <th>count</th>\n",
              "      <td>10080.000000</td>\n",
              "      <td>10080.000000</td>\n",
              "    </tr>\n",
              "    <tr>\n",
              "      <th>mean</th>\n",
              "      <td>5487.109821</td>\n",
              "      <td>2.682738</td>\n",
              "    </tr>\n",
              "    <tr>\n",
              "      <th>std</th>\n",
              "      <td>3163.602584</td>\n",
              "      <td>1.434463</td>\n",
              "    </tr>\n",
              "    <tr>\n",
              "      <th>min</th>\n",
              "      <td>0.000000</td>\n",
              "      <td>1.000000</td>\n",
              "    </tr>\n",
              "    <tr>\n",
              "      <th>25%</th>\n",
              "      <td>2759.750000</td>\n",
              "      <td>2.000000</td>\n",
              "    </tr>\n",
              "    <tr>\n",
              "      <th>50%</th>\n",
              "      <td>5487.500000</td>\n",
              "      <td>2.000000</td>\n",
              "    </tr>\n",
              "    <tr>\n",
              "      <th>75%</th>\n",
              "      <td>8227.250000</td>\n",
              "      <td>4.000000</td>\n",
              "    </tr>\n",
              "    <tr>\n",
              "      <th>max</th>\n",
              "      <td>10965.000000</td>\n",
              "      <td>12.000000</td>\n",
              "    </tr>\n",
              "  </tbody>\n",
              "</table>\n",
              "</div>"
            ],
            "text/plain": [
              "                  0             1\n",
              "count  10080.000000  10080.000000\n",
              "mean    5487.109821      2.682738\n",
              "std     3163.602584      1.434463\n",
              "min        0.000000      1.000000\n",
              "25%     2759.750000      2.000000\n",
              "50%     5487.500000      2.000000\n",
              "75%     8227.250000      4.000000\n",
              "max    10965.000000     12.000000"
            ]
          },
          "metadata": {},
          "execution_count": 73
        }
      ]
    },
    {
      "cell_type": "markdown",
      "source": [
        "### **Estágio 10: reduzindo as arestas em 45%**"
      ],
      "metadata": {
        "id": "xG7hpmt2pvok"
      },
      "id": "xG7hpmt2pvok"
    },
    {
      "cell_type": "code",
      "source": [
        "22536*0.55"
      ],
      "metadata": {
        "colab": {
          "base_uri": "https://localhost:8080/"
        },
        "id": "N_LsIFAmQyUU",
        "outputId": "4ec2db12-ab1f-4c00-cbdb-77813de94de5"
      },
      "id": "N_LsIFAmQyUU",
      "execution_count": null,
      "outputs": [
        {
          "output_type": "execute_result",
          "data": {
            "text/plain": [
              "12394.800000000001"
            ]
          },
          "metadata": {},
          "execution_count": 74
        }
      ]
    },
    {
      "cell_type": "code",
      "source": [
        "indexes = np.random.choice(len(G1.edges()), 12394, replace=False)\n",
        "edges = np.array(G1.edges())[indexes]\n",
        "G10 = nx.from_edgelist(edges)\n",
        "nx.draw_networkx(G10, nx.layout.circular_layout(G10))"
      ],
      "metadata": {
        "colab": {
          "base_uri": "https://localhost:8080/",
          "height": 248
        },
        "id": "psq0nUnvQ6X2",
        "outputId": "991ac57b-728a-49de-d272-4d571a64f184"
      },
      "id": "psq0nUnvQ6X2",
      "execution_count": null,
      "outputs": [
        {
          "output_type": "display_data",
          "data": {
            "image/png": "[encoded data removed]",
            "text/plain": [
              "<Figure size 432x288 with 1 Axes>"
            ]
          },
          "metadata": {}
        }
      ]
    },
    {
      "cell_type": "code",
      "source": [
        "G10.number_of_edges()"
      ],
      "metadata": {
        "colab": {
          "base_uri": "https://localhost:8080/"
        },
        "id": "O4zPPXpARX-Q",
        "outputId": "47419450-5b02-4f63-f701-0a667b9725e7"
      },
      "id": "O4zPPXpARX-Q",
      "execution_count": null,
      "outputs": [
        {
          "output_type": "execute_result",
          "data": {
            "text/plain": [
              "12394"
            ]
          },
          "metadata": {},
          "execution_count": 79
        }
      ]
    },
    {
      "cell_type": "code",
      "source": [
        "df_degree = pd.DataFrame(data=G10.degree())"
      ],
      "metadata": {
        "id": "CaaBTYITRgfW"
      },
      "id": "CaaBTYITRgfW",
      "execution_count": null,
      "outputs": []
    },
    {
      "cell_type": "code",
      "source": [
        "df_degree.describe()"
      ],
      "metadata": {
        "colab": {
          "base_uri": "https://localhost:8080/",
          "height": 300
        },
        "id": "iWIqW-YBRldv",
        "outputId": "2153d5b9-0231-4905-de45-d524a81eedb3"
      },
      "id": "iWIqW-YBRldv",
      "execution_count": null,
      "outputs": [
        {
          "output_type": "execute_result",
          "data": {
            "text/html": [
              "<div>\n",
              "<style scoped>\n",
              "    .dataframe tbody tr th:only-of-type {\n",
              "        vertical-align: middle;\n",
              "    }\n",
              "\n",
              "    .dataframe tbody tr th {\n",
              "        vertical-align: top;\n",
              "    }\n",
              "\n",
              "    .dataframe thead th {\n",
              "        text-align: right;\n",
              "    }\n",
              "</style>\n",
              "<table border=\"1\" class=\"dataframe\">\n",
              "  <thead>\n",
              "    <tr style=\"text-align: right;\">\n",
              "      <th></th>\n",
              "      <th>0</th>\n",
              "      <th>1</th>\n",
              "    </tr>\n",
              "  </thead>\n",
              "  <tbody>\n",
              "    <tr>\n",
              "      <th>count</th>\n",
              "      <td>9832.000000</td>\n",
              "      <td>9832.000000</td>\n",
              "    </tr>\n",
              "    <tr>\n",
              "      <th>mean</th>\n",
              "      <td>5474.272884</td>\n",
              "      <td>2.521155</td>\n",
              "    </tr>\n",
              "    <tr>\n",
              "      <th>std</th>\n",
              "      <td>3160.526646</td>\n",
              "      <td>1.355812</td>\n",
              "    </tr>\n",
              "    <tr>\n",
              "      <th>min</th>\n",
              "      <td>0.000000</td>\n",
              "      <td>1.000000</td>\n",
              "    </tr>\n",
              "    <tr>\n",
              "      <th>25%</th>\n",
              "      <td>2746.750000</td>\n",
              "      <td>1.000000</td>\n",
              "    </tr>\n",
              "    <tr>\n",
              "      <th>50%</th>\n",
              "      <td>5477.500000</td>\n",
              "      <td>2.000000</td>\n",
              "    </tr>\n",
              "    <tr>\n",
              "      <th>75%</th>\n",
              "      <td>8213.250000</td>\n",
              "      <td>3.000000</td>\n",
              "    </tr>\n",
              "    <tr>\n",
              "      <th>max</th>\n",
              "      <td>10965.000000</td>\n",
              "      <td>10.000000</td>\n",
              "    </tr>\n",
              "  </tbody>\n",
              "</table>\n",
              "</div>"
            ],
            "text/plain": [
              "                  0            1\n",
              "count   9832.000000  9832.000000\n",
              "mean    5474.272884     2.521155\n",
              "std     3160.526646     1.355812\n",
              "min        0.000000     1.000000\n",
              "25%     2746.750000     1.000000\n",
              "50%     5477.500000     2.000000\n",
              "75%     8213.250000     3.000000\n",
              "max    10965.000000    10.000000"
            ]
          },
          "metadata": {},
          "execution_count": 81
        }
      ]
    },
    {
      "cell_type": "markdown",
      "source": [
        "### **Estágio 11: reduzindo as arestas em 50%**"
      ],
      "metadata": {
        "id": "vW5Ks_13pzJw"
      },
      "id": "vW5Ks_13pzJw"
    },
    {
      "cell_type": "code",
      "source": [
        "22536*0.50"
      ],
      "metadata": {
        "colab": {
          "base_uri": "https://localhost:8080/"
        },
        "id": "q-srVWtLRoR5",
        "outputId": "f79abba2-ed9b-43e0-a631-22bfbfc584a7"
      },
      "id": "q-srVWtLRoR5",
      "execution_count": null,
      "outputs": [
        {
          "output_type": "execute_result",
          "data": {
            "text/plain": [
              "11268.0"
            ]
          },
          "metadata": {},
          "execution_count": 82
        }
      ]
    },
    {
      "cell_type": "code",
      "source": [
        "indexes = np.random.choice(len(G1.edges()), 11268, replace=False)\n",
        "edges = np.array(G1.edges())[indexes]\n",
        "G11 = nx.from_edgelist(edges)\n",
        "nx.draw_networkx(G11, nx.layout.circular_layout(G11))"
      ],
      "metadata": {
        "colab": {
          "base_uri": "https://localhost:8080/",
          "height": 248
        },
        "id": "ZH7EJK29RuQw",
        "outputId": "64227739-6180-4973-a93a-040c4798008b"
      },
      "id": "ZH7EJK29RuQw",
      "execution_count": null,
      "outputs": [
        {
          "output_type": "display_data",
          "data": {
            "image/png": "[encoded data removed]",
            "text/plain": [
              "<Figure size 432x288 with 1 Axes>"
            ]
          },
          "metadata": {}
        }
      ]
    },
    {
      "cell_type": "code",
      "source": [
        "G11.number_of_edges()"
      ],
      "metadata": {
        "colab": {
          "base_uri": "https://localhost:8080/"
        },
        "id": "8-v8o0rfSA1z",
        "outputId": "e6b87482-b1f6-44e7-a98f-3432f2db3eae"
      },
      "id": "8-v8o0rfSA1z",
      "execution_count": null,
      "outputs": [
        {
          "output_type": "execute_result",
          "data": {
            "text/plain": [
              "11268"
            ]
          },
          "metadata": {},
          "execution_count": 85
        }
      ]
    },
    {
      "cell_type": "code",
      "source": [
        "df_degree = pd.DataFrame(data=G11.degree())"
      ],
      "metadata": {
        "id": "x4z1SZfKSHr2"
      },
      "id": "x4z1SZfKSHr2",
      "execution_count": null,
      "outputs": []
    },
    {
      "cell_type": "code",
      "source": [
        "df_degree.describe()"
      ],
      "metadata": {
        "colab": {
          "base_uri": "https://localhost:8080/",
          "height": 300
        },
        "id": "nagruxRuSMcv",
        "outputId": "10481305-8660-4765-9df5-43808178e12e"
      },
      "id": "nagruxRuSMcv",
      "execution_count": null,
      "outputs": [
        {
          "output_type": "execute_result",
          "data": {
            "text/html": [
              "<div>\n",
              "<style scoped>\n",
              "    .dataframe tbody tr th:only-of-type {\n",
              "        vertical-align: middle;\n",
              "    }\n",
              "\n",
              "    .dataframe tbody tr th {\n",
              "        vertical-align: top;\n",
              "    }\n",
              "\n",
              "    .dataframe thead th {\n",
              "        text-align: right;\n",
              "    }\n",
              "</style>\n",
              "<table border=\"1\" class=\"dataframe\">\n",
              "  <thead>\n",
              "    <tr style=\"text-align: right;\">\n",
              "      <th></th>\n",
              "      <th>0</th>\n",
              "      <th>1</th>\n",
              "    </tr>\n",
              "  </thead>\n",
              "  <tbody>\n",
              "    <tr>\n",
              "      <th>count</th>\n",
              "      <td>9608.000000</td>\n",
              "      <td>9608.000000</td>\n",
              "    </tr>\n",
              "    <tr>\n",
              "      <th>mean</th>\n",
              "      <td>5483.233139</td>\n",
              "      <td>2.345545</td>\n",
              "    </tr>\n",
              "    <tr>\n",
              "      <th>std</th>\n",
              "      <td>3166.898173</td>\n",
              "      <td>1.286355</td>\n",
              "    </tr>\n",
              "    <tr>\n",
              "      <th>min</th>\n",
              "      <td>0.000000</td>\n",
              "      <td>1.000000</td>\n",
              "    </tr>\n",
              "    <tr>\n",
              "      <th>25%</th>\n",
              "      <td>2752.750000</td>\n",
              "      <td>1.000000</td>\n",
              "    </tr>\n",
              "    <tr>\n",
              "      <th>50%</th>\n",
              "      <td>5478.500000</td>\n",
              "      <td>2.000000</td>\n",
              "    </tr>\n",
              "    <tr>\n",
              "      <th>75%</th>\n",
              "      <td>8226.250000</td>\n",
              "      <td>3.000000</td>\n",
              "    </tr>\n",
              "    <tr>\n",
              "      <th>max</th>\n",
              "      <td>10965.000000</td>\n",
              "      <td>10.000000</td>\n",
              "    </tr>\n",
              "  </tbody>\n",
              "</table>\n",
              "</div>"
            ],
            "text/plain": [
              "                  0            1\n",
              "count   9608.000000  9608.000000\n",
              "mean    5483.233139     2.345545\n",
              "std     3166.898173     1.286355\n",
              "min        0.000000     1.000000\n",
              "25%     2752.750000     1.000000\n",
              "50%     5478.500000     2.000000\n",
              "75%     8226.250000     3.000000\n",
              "max    10965.000000    10.000000"
            ]
          },
          "metadata": {},
          "execution_count": 87
        }
      ]
    },
    {
      "cell_type": "markdown",
      "source": [
        "### **Estágio 12: reduzindo as arestas em 55%**"
      ],
      "metadata": {
        "id": "31dtvQfVp1ay"
      },
      "id": "31dtvQfVp1ay"
    },
    {
      "cell_type": "code",
      "source": [
        "22536*0.45"
      ],
      "metadata": {
        "colab": {
          "base_uri": "https://localhost:8080/"
        },
        "id": "nb_TtIP4SRe6",
        "outputId": "8b7f2a94-a812-4b9d-cecf-ef066a6af295"
      },
      "id": "nb_TtIP4SRe6",
      "execution_count": null,
      "outputs": [
        {
          "output_type": "execute_result",
          "data": {
            "text/plain": [
              "10141.2"
            ]
          },
          "metadata": {},
          "execution_count": 88
        }
      ]
    },
    {
      "cell_type": "code",
      "source": [
        "indexes = np.random.choice(len(G1.edges()), 10141, replace=False)\n",
        "edges = np.array(G1.edges())[indexes]\n",
        "G12 = nx.from_edgelist(edges)\n",
        "nx.draw_networkx(G12, nx.layout.circular_layout(G12))"
      ],
      "metadata": {
        "colab": {
          "base_uri": "https://localhost:8080/",
          "height": 248
        },
        "id": "FDmrBxOsSXKx",
        "outputId": "15e02182-8195-468c-fd0d-3afa56491f2c"
      },
      "id": "FDmrBxOsSXKx",
      "execution_count": null,
      "outputs": [
        {
          "output_type": "display_data",
          "data": {
            "image/png": "[encoded data removed]",
            "text/plain": [
              "<Figure size 432x288 with 1 Axes>"
            ]
          },
          "metadata": {}
        }
      ]
    },
    {
      "cell_type": "code",
      "source": [
        "G12.number_of_edges()"
      ],
      "metadata": {
        "colab": {
          "base_uri": "https://localhost:8080/"
        },
        "id": "jip34xXJSpuD",
        "outputId": "7204eb58-5880-4212-f827-d92798b7a781"
      },
      "id": "jip34xXJSpuD",
      "execution_count": null,
      "outputs": [
        {
          "output_type": "execute_result",
          "data": {
            "text/plain": [
              "10141"
            ]
          },
          "metadata": {},
          "execution_count": 91
        }
      ]
    },
    {
      "cell_type": "code",
      "source": [
        "df_degree = pd.DataFrame(data=G12.degree())"
      ],
      "metadata": {
        "id": "0pKMQSMdSv3r"
      },
      "id": "0pKMQSMdSv3r",
      "execution_count": null,
      "outputs": []
    },
    {
      "cell_type": "code",
      "source": [
        "df_degree.describe()"
      ],
      "metadata": {
        "colab": {
          "base_uri": "https://localhost:8080/",
          "height": 300
        },
        "id": "SgMUaztAS0gQ",
        "outputId": "f23c1c24-8f25-424b-eaaf-b36b59ac7263"
      },
      "id": "SgMUaztAS0gQ",
      "execution_count": null,
      "outputs": [
        {
          "output_type": "execute_result",
          "data": {
            "text/html": [
              "<div>\n",
              "<style scoped>\n",
              "    .dataframe tbody tr th:only-of-type {\n",
              "        vertical-align: middle;\n",
              "    }\n",
              "\n",
              "    .dataframe tbody tr th {\n",
              "        vertical-align: top;\n",
              "    }\n",
              "\n",
              "    .dataframe thead th {\n",
              "        text-align: right;\n",
              "    }\n",
              "</style>\n",
              "<table border=\"1\" class=\"dataframe\">\n",
              "  <thead>\n",
              "    <tr style=\"text-align: right;\">\n",
              "      <th></th>\n",
              "      <th>0</th>\n",
              "      <th>1</th>\n",
              "    </tr>\n",
              "  </thead>\n",
              "  <tbody>\n",
              "    <tr>\n",
              "      <th>count</th>\n",
              "      <td>9250.000000</td>\n",
              "      <td>9250.000000</td>\n",
              "    </tr>\n",
              "    <tr>\n",
              "      <th>mean</th>\n",
              "      <td>5460.333189</td>\n",
              "      <td>2.192649</td>\n",
              "    </tr>\n",
              "    <tr>\n",
              "      <th>std</th>\n",
              "      <td>3155.790479</td>\n",
              "      <td>1.197752</td>\n",
              "    </tr>\n",
              "    <tr>\n",
              "      <th>min</th>\n",
              "      <td>1.000000</td>\n",
              "      <td>1.000000</td>\n",
              "    </tr>\n",
              "    <tr>\n",
              "      <th>25%</th>\n",
              "      <td>2747.250000</td>\n",
              "      <td>1.000000</td>\n",
              "    </tr>\n",
              "    <tr>\n",
              "      <th>50%</th>\n",
              "      <td>5448.500000</td>\n",
              "      <td>2.000000</td>\n",
              "    </tr>\n",
              "    <tr>\n",
              "      <th>75%</th>\n",
              "      <td>8171.750000</td>\n",
              "      <td>3.000000</td>\n",
              "    </tr>\n",
              "    <tr>\n",
              "      <th>max</th>\n",
              "      <td>10965.000000</td>\n",
              "      <td>9.000000</td>\n",
              "    </tr>\n",
              "  </tbody>\n",
              "</table>\n",
              "</div>"
            ],
            "text/plain": [
              "                  0            1\n",
              "count   9250.000000  9250.000000\n",
              "mean    5460.333189     2.192649\n",
              "std     3155.790479     1.197752\n",
              "min        1.000000     1.000000\n",
              "25%     2747.250000     1.000000\n",
              "50%     5448.500000     2.000000\n",
              "75%     8171.750000     3.000000\n",
              "max    10965.000000     9.000000"
            ]
          },
          "metadata": {},
          "execution_count": 93
        }
      ]
    },
    {
      "cell_type": "markdown",
      "source": [
        "### **Estágio 13: reduzindo as arestas em 60%**"
      ],
      "metadata": {
        "id": "WV5oFlC6p4hy"
      },
      "id": "WV5oFlC6p4hy"
    },
    {
      "cell_type": "code",
      "source": [
        "22536*0.40"
      ],
      "metadata": {
        "colab": {
          "base_uri": "https://localhost:8080/"
        },
        "id": "hZEtpuzbS2wB",
        "outputId": "f5980a50-e9f4-44f4-c525-507a636952e9"
      },
      "id": "hZEtpuzbS2wB",
      "execution_count": null,
      "outputs": [
        {
          "output_type": "execute_result",
          "data": {
            "text/plain": [
              "9014.4"
            ]
          },
          "metadata": {},
          "execution_count": 94
        }
      ]
    },
    {
      "cell_type": "code",
      "source": [
        "indexes = np.random.choice(len(G1.edges()), 9014, replace=False)\n",
        "edges = np.array(G1.edges())[indexes]\n",
        "G13 = nx.from_edgelist(edges)\n",
        "nx.draw_networkx(G13, nx.layout.circular_layout(G13))"
      ],
      "metadata": {
        "colab": {
          "base_uri": "https://localhost:8080/",
          "height": 248
        },
        "id": "rmNrE0JBS9_K",
        "outputId": "1b7ce51c-06d5-437d-8d45-6f0ed9083570"
      },
      "id": "rmNrE0JBS9_K",
      "execution_count": null,
      "outputs": [
        {
          "output_type": "display_data",
          "data": {
            "image/png": "[encoded data removed]",
            "text/plain": [
              "<Figure size 432x288 with 1 Axes>"
            ]
          },
          "metadata": {}
        }
      ]
    },
    {
      "cell_type": "code",
      "source": [
        "G13.number_of_edges()"
      ],
      "metadata": {
        "colab": {
          "base_uri": "https://localhost:8080/"
        },
        "id": "387oirYrTP6t",
        "outputId": "10e56120-824a-4890-9c72-90f7eeece39e"
      },
      "id": "387oirYrTP6t",
      "execution_count": null,
      "outputs": [
        {
          "output_type": "execute_result",
          "data": {
            "text/plain": [
              "9014"
            ]
          },
          "metadata": {},
          "execution_count": 98
        }
      ]
    },
    {
      "cell_type": "code",
      "source": [
        "df_degree = pd.DataFrame(data=G13.degree())"
      ],
      "metadata": {
        "id": "G0IzV_9YTWSh"
      },
      "id": "G0IzV_9YTWSh",
      "execution_count": null,
      "outputs": []
    },
    {
      "cell_type": "code",
      "source": [
        "df_degree.describe()"
      ],
      "metadata": {
        "colab": {
          "base_uri": "https://localhost:8080/",
          "height": 300
        },
        "id": "rxcNiAc7TcFa",
        "outputId": "6a8e42f5-9ee5-498a-82ea-67d53771581f"
      },
      "id": "rxcNiAc7TcFa",
      "execution_count": null,
      "outputs": [
        {
          "output_type": "execute_result",
          "data": {
            "text/html": [
              "<div>\n",
              "<style scoped>\n",
              "    .dataframe tbody tr th:only-of-type {\n",
              "        vertical-align: middle;\n",
              "    }\n",
              "\n",
              "    .dataframe tbody tr th {\n",
              "        vertical-align: top;\n",
              "    }\n",
              "\n",
              "    .dataframe thead th {\n",
              "        text-align: right;\n",
              "    }\n",
              "</style>\n",
              "<table border=\"1\" class=\"dataframe\">\n",
              "  <thead>\n",
              "    <tr style=\"text-align: right;\">\n",
              "      <th></th>\n",
              "      <th>0</th>\n",
              "      <th>1</th>\n",
              "    </tr>\n",
              "  </thead>\n",
              "  <tbody>\n",
              "    <tr>\n",
              "      <th>count</th>\n",
              "      <td>8842.000000</td>\n",
              "      <td>8842.000000</td>\n",
              "    </tr>\n",
              "    <tr>\n",
              "      <th>mean</th>\n",
              "      <td>5500.107555</td>\n",
              "      <td>2.038905</td>\n",
              "    </tr>\n",
              "    <tr>\n",
              "      <th>std</th>\n",
              "      <td>3155.508684</td>\n",
              "      <td>1.111610</td>\n",
              "    </tr>\n",
              "    <tr>\n",
              "      <th>min</th>\n",
              "      <td>0.000000</td>\n",
              "      <td>1.000000</td>\n",
              "    </tr>\n",
              "    <tr>\n",
              "      <th>25%</th>\n",
              "      <td>2769.500000</td>\n",
              "      <td>1.000000</td>\n",
              "    </tr>\n",
              "    <tr>\n",
              "      <th>50%</th>\n",
              "      <td>5503.500000</td>\n",
              "      <td>2.000000</td>\n",
              "    </tr>\n",
              "    <tr>\n",
              "      <th>75%</th>\n",
              "      <td>8238.500000</td>\n",
              "      <td>3.000000</td>\n",
              "    </tr>\n",
              "    <tr>\n",
              "      <th>max</th>\n",
              "      <td>10965.000000</td>\n",
              "      <td>8.000000</td>\n",
              "    </tr>\n",
              "  </tbody>\n",
              "</table>\n",
              "</div>"
            ],
            "text/plain": [
              "                  0            1\n",
              "count   8842.000000  8842.000000\n",
              "mean    5500.107555     2.038905\n",
              "std     3155.508684     1.111610\n",
              "min        0.000000     1.000000\n",
              "25%     2769.500000     1.000000\n",
              "50%     5503.500000     2.000000\n",
              "75%     8238.500000     3.000000\n",
              "max    10965.000000     8.000000"
            ]
          },
          "metadata": {},
          "execution_count": 100
        }
      ]
    },
    {
      "cell_type": "markdown",
      "source": [
        "### **Estágio 14: reduzindo as arestas em 65%**"
      ],
      "metadata": {
        "id": "RbBoeC0dp8NT"
      },
      "id": "RbBoeC0dp8NT"
    },
    {
      "cell_type": "code",
      "source": [
        "22536*0.35"
      ],
      "metadata": {
        "colab": {
          "base_uri": "https://localhost:8080/"
        },
        "id": "dG5Ioeh4TgL5",
        "outputId": "7bff8e4a-49b0-4382-b1ae-b80644b1aa53"
      },
      "id": "dG5Ioeh4TgL5",
      "execution_count": null,
      "outputs": [
        {
          "output_type": "execute_result",
          "data": {
            "text/plain": [
              "7887.599999999999"
            ]
          },
          "metadata": {},
          "execution_count": 102
        }
      ]
    },
    {
      "cell_type": "code",
      "source": [
        "indexes = np.random.choice(len(G1.edges()), 7887, replace=False)\n",
        "edges = np.array(G1.edges())[indexes]\n",
        "G14 = nx.from_edgelist(edges)\n",
        "nx.draw_networkx(G14, nx.layout.circular_layout(G14))"
      ],
      "metadata": {
        "colab": {
          "base_uri": "https://localhost:8080/",
          "height": 248
        },
        "id": "BEWKR3zlTqIO",
        "outputId": "9341d314-5c8b-49c1-9aaa-1ab5f3951917"
      },
      "id": "BEWKR3zlTqIO",
      "execution_count": null,
      "outputs": [
        {
          "output_type": "display_data",
          "data": {
            "image/png": "[encoded data removed]",
            "text/plain": [
              "<Figure size 432x288 with 1 Axes>"
            ]
          },
          "metadata": {}
        }
      ]
    },
    {
      "cell_type": "code",
      "source": [
        "G14.number_of_edges()"
      ],
      "metadata": {
        "colab": {
          "base_uri": "https://localhost:8080/"
        },
        "id": "ULn7uB-vUS1r",
        "outputId": "14906b86-7f9b-4c2b-ffb2-54ecd8eb23a0"
      },
      "id": "ULn7uB-vUS1r",
      "execution_count": null,
      "outputs": [
        {
          "output_type": "execute_result",
          "data": {
            "text/plain": [
              "7887"
            ]
          },
          "metadata": {},
          "execution_count": 106
        }
      ]
    },
    {
      "cell_type": "code",
      "source": [
        "df_degree = pd.DataFrame(data=G14.degree())"
      ],
      "metadata": {
        "id": "c8zA2xDgUZ3K"
      },
      "id": "c8zA2xDgUZ3K",
      "execution_count": null,
      "outputs": []
    },
    {
      "cell_type": "code",
      "source": [
        "df_degree.describe()"
      ],
      "metadata": {
        "colab": {
          "base_uri": "https://localhost:8080/",
          "height": 300
        },
        "id": "h9YeTBipUxCP",
        "outputId": "df5cd711-9809-4d5d-eb46-a62b3f97cc5d"
      },
      "id": "h9YeTBipUxCP",
      "execution_count": null,
      "outputs": [
        {
          "output_type": "execute_result",
          "data": {
            "text/html": [
              "<div>\n",
              "<style scoped>\n",
              "    .dataframe tbody tr th:only-of-type {\n",
              "        vertical-align: middle;\n",
              "    }\n",
              "\n",
              "    .dataframe tbody tr th {\n",
              "        vertical-align: top;\n",
              "    }\n",
              "\n",
              "    .dataframe thead th {\n",
              "        text-align: right;\n",
              "    }\n",
              "</style>\n",
              "<table border=\"1\" class=\"dataframe\">\n",
              "  <thead>\n",
              "    <tr style=\"text-align: right;\">\n",
              "      <th></th>\n",
              "      <th>0</th>\n",
              "      <th>1</th>\n",
              "    </tr>\n",
              "  </thead>\n",
              "  <tbody>\n",
              "    <tr>\n",
              "      <th>count</th>\n",
              "      <td>8395.000000</td>\n",
              "      <td>8395.000000</td>\n",
              "    </tr>\n",
              "    <tr>\n",
              "      <th>mean</th>\n",
              "      <td>5451.472424</td>\n",
              "      <td>1.878976</td>\n",
              "    </tr>\n",
              "    <tr>\n",
              "      <th>std</th>\n",
              "      <td>3153.331791</td>\n",
              "      <td>1.008721</td>\n",
              "    </tr>\n",
              "    <tr>\n",
              "      <th>min</th>\n",
              "      <td>1.000000</td>\n",
              "      <td>1.000000</td>\n",
              "    </tr>\n",
              "    <tr>\n",
              "      <th>25%</th>\n",
              "      <td>2734.500000</td>\n",
              "      <td>1.000000</td>\n",
              "    </tr>\n",
              "    <tr>\n",
              "      <th>50%</th>\n",
              "      <td>5414.000000</td>\n",
              "      <td>2.000000</td>\n",
              "    </tr>\n",
              "    <tr>\n",
              "      <th>75%</th>\n",
              "      <td>8187.500000</td>\n",
              "      <td>2.000000</td>\n",
              "    </tr>\n",
              "    <tr>\n",
              "      <th>max</th>\n",
              "      <td>10965.000000</td>\n",
              "      <td>8.000000</td>\n",
              "    </tr>\n",
              "  </tbody>\n",
              "</table>\n",
              "</div>"
            ],
            "text/plain": [
              "                  0            1\n",
              "count   8395.000000  8395.000000\n",
              "mean    5451.472424     1.878976\n",
              "std     3153.331791     1.008721\n",
              "min        1.000000     1.000000\n",
              "25%     2734.500000     1.000000\n",
              "50%     5414.000000     2.000000\n",
              "75%     8187.500000     2.000000\n",
              "max    10965.000000     8.000000"
            ]
          },
          "metadata": {},
          "execution_count": 108
        }
      ]
    },
    {
      "cell_type": "markdown",
      "source": [
        "### **Estágio 15: reduzindo as arestas em 70%**"
      ],
      "metadata": {
        "id": "QYxMYzv1p-vC"
      },
      "id": "QYxMYzv1p-vC"
    },
    {
      "cell_type": "code",
      "source": [
        "22536*0.30"
      ],
      "metadata": {
        "colab": {
          "base_uri": "https://localhost:8080/"
        },
        "id": "4LrTe579U0VR",
        "outputId": "5c76c5b1-752e-4d5f-9358-685534250720"
      },
      "id": "4LrTe579U0VR",
      "execution_count": null,
      "outputs": [
        {
          "output_type": "execute_result",
          "data": {
            "text/plain": [
              "6760.8"
            ]
          },
          "metadata": {},
          "execution_count": 109
        }
      ]
    },
    {
      "cell_type": "code",
      "source": [
        "indexes = np.random.choice(len(G1.edges()), 6760, replace=False)\n",
        "edges = np.array(G1.edges())[indexes]\n",
        "G15 = nx.from_edgelist(edges)\n",
        "nx.draw_networkx(G15, nx.layout.circular_layout(G15))"
      ],
      "metadata": {
        "colab": {
          "base_uri": "https://localhost:8080/",
          "height": 248
        },
        "id": "uzvWIdi5U3RC",
        "outputId": "217a6307-f286-4ebc-d377-1f8717ae14dd"
      },
      "id": "uzvWIdi5U3RC",
      "execution_count": null,
      "outputs": [
        {
          "output_type": "display_data",
          "data": {
            "image/png": "[encoded data removed]",
            "text/plain": [
              "<Figure size 432x288 with 1 Axes>"
            ]
          },
          "metadata": {}
        }
      ]
    },
    {
      "cell_type": "code",
      "source": [
        "G15.number_of_edges()"
      ],
      "metadata": {
        "colab": {
          "base_uri": "https://localhost:8080/"
        },
        "id": "1PWtOu2FVLIa",
        "outputId": "1db737f1-5e5d-4199-a59a-40fa88dc8fe0"
      },
      "id": "1PWtOu2FVLIa",
      "execution_count": null,
      "outputs": [
        {
          "output_type": "execute_result",
          "data": {
            "text/plain": [
              "6760"
            ]
          },
          "metadata": {},
          "execution_count": 112
        }
      ]
    },
    {
      "cell_type": "code",
      "source": [
        "df_degree = pd.DataFrame(data=G15.degree())"
      ],
      "metadata": {
        "id": "9KexiuDqVSlE"
      },
      "id": "9KexiuDqVSlE",
      "execution_count": null,
      "outputs": []
    },
    {
      "cell_type": "code",
      "source": [
        "df_degree.describe()"
      ],
      "metadata": {
        "colab": {
          "base_uri": "https://localhost:8080/",
          "height": 300
        },
        "id": "UD_c0n83VXTX",
        "outputId": "d311d1d4-689a-4833-f937-391a23b7c586"
      },
      "id": "UD_c0n83VXTX",
      "execution_count": null,
      "outputs": [
        {
          "output_type": "execute_result",
          "data": {
            "text/html": [
              "<div>\n",
              "<style scoped>\n",
              "    .dataframe tbody tr th:only-of-type {\n",
              "        vertical-align: middle;\n",
              "    }\n",
              "\n",
              "    .dataframe tbody tr th {\n",
              "        vertical-align: top;\n",
              "    }\n",
              "\n",
              "    .dataframe thead th {\n",
              "        text-align: right;\n",
              "    }\n",
              "</style>\n",
              "<table border=\"1\" class=\"dataframe\">\n",
              "  <thead>\n",
              "    <tr style=\"text-align: right;\">\n",
              "      <th></th>\n",
              "      <th>0</th>\n",
              "      <th>1</th>\n",
              "    </tr>\n",
              "  </thead>\n",
              "  <tbody>\n",
              "    <tr>\n",
              "      <th>count</th>\n",
              "      <td>7816.000000</td>\n",
              "      <td>7816.000000</td>\n",
              "    </tr>\n",
              "    <tr>\n",
              "      <th>mean</th>\n",
              "      <td>5466.476075</td>\n",
              "      <td>1.729785</td>\n",
              "    </tr>\n",
              "    <tr>\n",
              "      <th>std</th>\n",
              "      <td>3146.893961</td>\n",
              "      <td>0.930145</td>\n",
              "    </tr>\n",
              "    <tr>\n",
              "      <th>min</th>\n",
              "      <td>0.000000</td>\n",
              "      <td>1.000000</td>\n",
              "    </tr>\n",
              "    <tr>\n",
              "      <th>25%</th>\n",
              "      <td>2759.750000</td>\n",
              "      <td>1.000000</td>\n",
              "    </tr>\n",
              "    <tr>\n",
              "      <th>50%</th>\n",
              "      <td>5455.000000</td>\n",
              "      <td>1.000000</td>\n",
              "    </tr>\n",
              "    <tr>\n",
              "      <th>75%</th>\n",
              "      <td>8203.500000</td>\n",
              "      <td>2.000000</td>\n",
              "    </tr>\n",
              "    <tr>\n",
              "      <th>max</th>\n",
              "      <td>10965.000000</td>\n",
              "      <td>7.000000</td>\n",
              "    </tr>\n",
              "  </tbody>\n",
              "</table>\n",
              "</div>"
            ],
            "text/plain": [
              "                  0            1\n",
              "count   7816.000000  7816.000000\n",
              "mean    5466.476075     1.729785\n",
              "std     3146.893961     0.930145\n",
              "min        0.000000     1.000000\n",
              "25%     2759.750000     1.000000\n",
              "50%     5455.000000     1.000000\n",
              "75%     8203.500000     2.000000\n",
              "max    10965.000000     7.000000"
            ]
          },
          "metadata": {},
          "execution_count": 114
        }
      ]
    },
    {
      "cell_type": "markdown",
      "source": [
        "### **Figura 1: Redução das Arestas (%) X Grau Médio**\n",
        "Comparando com a figura 1 do artigo proposto ( *5 Graph Reduction Evaluation* - página 335), verifica-se uma semelhança com a linha do gráfico em relação ao DRE."
      ],
      "metadata": {
        "id": "pZ5Ts_KIqCqI"
      },
      "id": "pZ5Ts_KIqCqI"
    },
    {
      "cell_type": "code",
      "source": [
        "plt.plot([0,5,10,15,20,25,30,35,40,45,50,55,60,65,70],[4.11,3.98,3.79,3.60,3.42,3.23,3.05,2.86,2.68,2.52,2.35,2.19,2.04,1.88,1.73], 'k-.')\n",
        "plt.ylabel('Average Degree')\n",
        "plt.xlabel('Percent Reduced (%)')\n",
        "plt.title(\"Fig 1: Redução das arestas (%) X Grau médio\")\n",
        "plt.legend(['DRE'], loc=1)\n",
        "plt.show()"
      ],
      "metadata": {
        "colab": {
          "base_uri": "https://localhost:8080/",
          "height": 295
        },
        "id": "g33hjstmZ1Kt",
        "outputId": "b6e47f1c-c561-464b-c7ce-45af1b160bb9"
      },
      "id": "g33hjstmZ1Kt",
      "execution_count": null,
      "outputs": [
        {
          "output_type": "display_data",
          "data": {
            "image/png": "[encoded data removed]",
            "text/plain": [
              "<Figure size 432x288 with 1 Axes>"
            ]
          },
          "metadata": {
            "needs_background": "light"
          }
        }
      ]
    },
    {
      "cell_type": "markdown",
      "source": [
        "# Descrição da técnica de sampling utilizada: *Random Edge Sampler*\n",
        "Essa técnica funciona removendo  as bordas aleatoriamente, cada uma com a mesma probabilidade. A distribuição de graus dos nós eliminados depende da topologia do Grafo estudado.\n",
        "Removem-se os nós do maior componente, e assim, resultados experimentais mostram que os nós eliminados por DRE têm grau muito baixo (Krishnamurthy V. et al. 2005)."
      ],
      "metadata": {
        "id": "KnnYtQMfu3YZ"
      },
      "id": "KnnYtQMfu3YZ"
    }
  ],
  "metadata": {
    "kernelspec": {
      "display_name": "Python 3",
      "language": "python",
      "name": "python3"
    },
    "language_info": {
      "codemirror_mode": {
        "name": "ipython",
        "version": 3
      },
      "file_extension": ".py",
      "mimetype": "text/x-python",
      "name": "python",
      "nbconvert_exporter": "python",
      "pygments_lexer": "ipython3",
      "version": "3.9.7"
    },
    "colab": {
      "name": "Trabalho3CienciaRede.ipynb",
      "provenance": [],
      "collapsed_sections": []
    }
  },
  "nbformat": 4,
  "nbformat_minor": 5
}