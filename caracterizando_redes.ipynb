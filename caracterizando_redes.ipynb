{
  "nbformat": 4,
  "nbformat_minor": 0,
  "metadata": {
    "colab": {
      "name": "caracterizando-redes.ipynb",
      "provenance": [],
      "collapsed_sections": [],
      "toc_visible": true
    },
    "kernelspec": {
      "name": "python3",
      "display_name": "Python 3"
    },
    "language_info": {
      "name": "python"
    }
  },
  "cells": [
    {
      "cell_type": "markdown",
      "metadata": {
        "id": "eHKZaaf3GQqy"
      },
      "source": [
        "# Introdução\n",
        "Este trabalho faz parte das atividades avaliativas da disciplina\n",
        "Ciência de Redes, período 2021/3, do curso de Mestrado em Ciência da\n",
        "Computação do CEFET/RJ.\n",
        "\n"
      ]
    },
    {
      "cell_type": "markdown",
      "metadata": {
        "id": "HLcfuqSBnNdj"
      },
      "source": [
        "# Grupo de trabalho\n",
        "\n",
        "> ## Grupo 3\n",
        "> ### Alexandre Emilio Manhães Pardelinha - alexandre.pardelinha@aluno.cefet-rj.br \n",
        "> ### Augusto José Moreira da Fonseca - augusto.fonseca@aluno.cefet-rj.br"
      ]
    },
    {
      "cell_type": "markdown",
      "metadata": {
        "id": "eXP8XpBRcYmr"
      },
      "source": [
        "\n",
        "\n",
        "# Descrição da tarefa\n",
        "\n",
        "Nesta tarefa você deve instalar e se familiarizar com a biblioteca de análise de redes NetworkX. Você deve escolher ao menos uma rede disponível no repositório The Colorado Index of Complex Networks (ICON) (https://icon.colorado.edu/#!/), e caracterizá-la utilizando diferentes métricas, como grau, distância e clusterização (você pode escolher as outras). Para cada métrica analisada, calcule as seguintes estatísticas: máximo, mínimo, média, desvio padrão, e distribuição empírica. Faça um relatório discorrendo sobre os valores obtidos. Submeta o relatório nesta tarefa.\n",
        "\n",
        "### Requisitos\n",
        "* Métricas: grau, distância, clusterização (pode escolher as outras)\n",
        "* Para cada métrica analisada, calcular as seguintes estatísticas: máximo, mínimo, média, desvio padrão, e distribuição empírica.\n",
        "\n",
        "### Entregável\n",
        "* Relatório discorrendo sobre os valores obtidos.\n",
        "\n",
        "### Prazo para entrega\n",
        "* 11 Nov 2021, às 23:59h"
      ]
    },
    {
      "cell_type": "markdown",
      "metadata": {
        "id": "Lfdyej__oDlq"
      },
      "source": [
        "# Bibliotecas utilizadas\n",
        "\n",
        "### [NetworkX](https://networkx.org/)\n",
        "* Pacote Python para a criação, manipulação e estudo da estrutura, dinâmica e funções de redes complexas.\n",
        "\n",
        "### [Pandas](https://pandas.pydata.org/)\n",
        "* Ferramenta de análise e manipulação de dados, desenvolvida com base na linguagem de programação Python\n",
        "\n",
        "### [Matplotlib](https://matplotlib.org/)\n",
        "* Biblioteca para a criação de visualizações estáticas, animadas e interativas em Python.\n",
        "\n",
        "### [Seaborn](https://seaborn.pydata.org/)\n",
        "* Biblioteca Python de visualização de dados baseada em Matplotlib. Fornece uma interface de alto nível para desenhar gráficos estatísticos e informativos."
      ]
    },
    {
      "cell_type": "markdown",
      "metadata": {
        "id": "2nH7EWQAGnLv"
      },
      "source": [
        "# Conjunto de Dados\n",
        "\n",
        "* O conjunto de dados empregado nesta tarefa foi coletado a partir do site [The Colorado Index of Complex Networks (ICON)](https://icon.colorado.edu/#!/).\n",
        "\n",
        "* A Figura 1 apresenta as informações do conjunto de dados escolhido. O conjunto de dados pertence ao domínio de voos domésticos entre aeroportos do Reino Unido. Os dados estão separados em arquivos CSV, um para cada ano entre 1990 e 2003, sendo cada arquivo uma rede separada. Nós representam os aeroportos e as arestas representam voos ocorridos entre os aeroportos. As arestas possuem um peso associado que denota a quantidade total de passageiros transportados no ano.\n",
        "\n",
        "* Link direto para download dos dados: https://www.bifi.es/~cardillo/datasets/uk-air-time_varying.zip\n",
        "\n",
        "| ![](https://drive.google.com/uc?export=view&id=1wPoY_YD1z6ed5dPvLt5T1NE8YjKHHBcY) |\n",
        "|:--:| \n",
        "| *Figura 1. Informações sobre o conjunto de dados empregado na tarefa.* |"
      ]
    },
    {
      "cell_type": "markdown",
      "metadata": {
        "id": "UN8gbCdmjC1x"
      },
      "source": [
        "# Download e descompactação do conjunto de dados"
      ]
    },
    {
      "cell_type": "code",
      "metadata": {
        "colab": {
          "base_uri": "https://localhost:8080/"
        },
        "id": "-g0gt0TRdcU1",
        "collapsed": true,
        "outputId": "4aaba448-020c-4638-c969-e39cefbc5f5d"
      },
      "source": [
        "!mkdir /content/data\n",
        "!wget https://www.bifi.es/~cardillo/datasets/uk-air-time_varying.zip -O /content/data/uk-air-time_varying.zip\n",
        "!unzip /content/data/uk-air-time_varying.zip -d /content/data"
      ],
      "execution_count": null,
      "outputs": [
        {
          "output_type": "stream",
          "name": "stdout",
          "text": [
            "--2021-11-11 23:37:33--  https://www.bifi.es/~cardillo/datasets/uk-air-time_varying.zip\n",
            "Resolving www.bifi.es (www.bifi.es)... 193.146.116.98\n",
            "Connecting to www.bifi.es (www.bifi.es)|193.146.116.98|:443... connected.\n",
            "HTTP request sent, awaiting response... 200 OK\n",
            "Length: 34439 (34K) [application/zip]\n",
            "Saving to: ‘/content/data/uk-air-time_varying.zip’\n",
            "\n",
            "/content/data/uk-ai 100%[===================>]  33.63K  --.-KB/s    in 0.1s    \n",
            "\n",
            "2021-11-11 23:37:34 (250 KB/s) - ‘/content/data/uk-air-time_varying.zip’ saved [34439/34439]\n",
            "\n",
            "Archive:  /content/data/uk-air-time_varying.zip\n",
            "  inflating: /content/data/README    \n",
            "  inflating: /content/data/Table_1_12_Domestic_Passengers_Uplifted_Between_UK_Airports_1990_adjlist.csv  \n",
            "  inflating: /content/data/Table_1_12_Domestic_Passengers_Uplifted_Between_UK_Airports_1991_adjlist.csv  \n",
            "  inflating: /content/data/Table_1_12_Domestic_Passengers_Uplifted_Between_UK_Airports_1992_adjlist.csv  \n",
            "  inflating: /content/data/Table_1_12_Domestic_Passengers_Uplifted_Between_UK_Airports_1993_adjlist.csv  \n",
            "  inflating: /content/data/Table_1_12_Domestic_Passengers_Uplifted_Between_UK_Airports_1994_adjlist.csv  \n",
            "  inflating: /content/data/Table_1_12_Domestic_Passengers_Uplifted_Between_UK_Airports_1995_adjlist.csv  \n",
            "  inflating: /content/data/Table_1_12_Domestic_Passengers_Uplifted_Between_UK_Airports_1996_adjlist.csv  \n",
            "  inflating: /content/data/Table_1_12_Domestic_Passengers_Uplifted_Between_UK_Airports_1997_adjlist.csv  \n",
            "  inflating: /content/data/Table_1_12_Domestic_Passengers_Uplifted_Between_UK_Airports_1998_adjlist.csv  \n",
            "  inflating: /content/data/Table_1_12_Domestic_Passengers_Uplifted_Between_UK_Airports_1999_adjlist.csv  \n",
            "  inflating: /content/data/Table_1_12_Domestic_Passengers_Uplifted_Between_UK_Airports_2000_adjlist.csv  \n",
            "  inflating: /content/data/Table_1_12_Domestic_Passengers_Uplifted_Between_UK_Airports_2001_adjlist.csv  \n",
            "  inflating: /content/data/Table_1_12_Domestic_Passengers_Uplifted_Between_UK_Airports_2002_adjlist.csv  \n",
            "  inflating: /content/data/Table_1_12_Domestic_Passengers_Uplifted_Between_UK_Airports_2003_adjlist.csv  \n",
            "  inflating: /content/data/uk-airports-coordinates-list.csv  \n",
            "  inflating: /content/data/uk-airports-icao-id.csv  \n"
          ]
        }
      ]
    },
    {
      "cell_type": "markdown",
      "metadata": {
        "id": "g7U4F0z2IPaD"
      },
      "source": [
        "# Importação das bibliotecas"
      ]
    },
    {
      "cell_type": "code",
      "metadata": {
        "id": "K_Y-XtXmcVPf"
      },
      "source": [
        "import matplotlib.pyplot as plt\n",
        "import pandas as pd\n",
        "import seaborn as sns\n",
        "import networkx as nx"
      ],
      "execution_count": null,
      "outputs": []
    },
    {
      "cell_type": "markdown",
      "metadata": {
        "id": "qmyEtyhVIHwl"
      },
      "source": [
        "# Exploração do conjunto de dados com Pandas\n",
        "\n",
        "* Foi escolhido o arquivo de dados refente ao ano de 2003.\n",
        "* Para a exploração dos dados empregamos a biblioteca Pandas que carrega em memória os dados do arquivo CSV, na forma de um Pandas DataFrame.\n",
        "* O DataFrame carregado apresenta em cada linha uma aresta com o respectivo peso associado que denota a quantidade total de passageiros transportados no ano entre o par de aeroportos.\n",
        "* Uma vez que o conjunto de dados é extenso, empregamos o método `pandas.DataFrame.head()` (executado na última linha) para visualizar apenas os primeiros registros."
      ]
    },
    {
      "cell_type": "code",
      "metadata": {
        "colab": {
          "base_uri": "https://localhost:8080/",
          "height": 206
        },
        "id": "2S8pWdE1IHKd",
        "outputId": "53bb1f2b-88cd-4803-96e1-552ad96868ec"
      },
      "source": [
        "filepath = '/content/data/Table_1_12_Domestic_Passengers_Uplifted_Between_UK_Airports_2003_adjlist.csv'\n",
        "data = pd.read_csv(filepath, \n",
        "                   delimiter=';')\n",
        "data.drop(labels=data.columns[3], \n",
        "          axis=1, \n",
        "          inplace=True)\n",
        "data.head()"
      ],
      "execution_count": null,
      "outputs": [
        {
          "output_type": "execute_result",
          "data": {
            "text/html": [
              "<div>\n",
              "<style scoped>\n",
              "    .dataframe tbody tr th:only-of-type {\n",
              "        vertical-align: middle;\n",
              "    }\n",
              "\n",
              "    .dataframe tbody tr th {\n",
              "        vertical-align: top;\n",
              "    }\n",
              "\n",
              "    .dataframe thead th {\n",
              "        text-align: right;\n",
              "    }\n",
              "</style>\n",
              "<table border=\"1\" class=\"dataframe\">\n",
              "  <thead>\n",
              "    <tr style=\"text-align: right;\">\n",
              "      <th></th>\n",
              "      <th>#this_apt_name</th>\n",
              "      <th>that_apt_name</th>\n",
              "      <th>passengers</th>\n",
              "    </tr>\n",
              "  </thead>\n",
              "  <tbody>\n",
              "    <tr>\n",
              "      <th>0</th>\n",
              "      <td>HEATHROW</td>\n",
              "      <td>ABERDEEN</td>\n",
              "      <td>483226</td>\n",
              "    </tr>\n",
              "    <tr>\n",
              "      <th>1</th>\n",
              "      <td>HEATHROW</td>\n",
              "      <td>BELFAST CITY</td>\n",
              "      <td>743758</td>\n",
              "    </tr>\n",
              "    <tr>\n",
              "      <th>2</th>\n",
              "      <td>HEATHROW</td>\n",
              "      <td>BELFAST INTERNATIONAL</td>\n",
              "      <td>25963</td>\n",
              "    </tr>\n",
              "    <tr>\n",
              "      <th>3</th>\n",
              "      <td>HEATHROW</td>\n",
              "      <td>EDINBURGH</td>\n",
              "      <td>1577063</td>\n",
              "    </tr>\n",
              "    <tr>\n",
              "      <th>4</th>\n",
              "      <td>HEATHROW</td>\n",
              "      <td>GLASGOW</td>\n",
              "      <td>1345532</td>\n",
              "    </tr>\n",
              "  </tbody>\n",
              "</table>\n",
              "</div>"
            ],
            "text/plain": [
              "  #this_apt_name          that_apt_name  passengers\n",
              "0       HEATHROW               ABERDEEN      483226\n",
              "1       HEATHROW           BELFAST CITY      743758\n",
              "2       HEATHROW  BELFAST INTERNATIONAL       25963\n",
              "3       HEATHROW              EDINBURGH     1577063\n",
              "4       HEATHROW                GLASGOW     1345532"
            ]
          },
          "metadata": {},
          "execution_count": 3
        }
      ]
    },
    {
      "cell_type": "markdown",
      "metadata": {
        "id": "_cD-wUWnxi6A"
      },
      "source": [
        "* O conjunto de dados possui 238 arestas e não há dados faltantes."
      ]
    },
    {
      "cell_type": "code",
      "metadata": {
        "colab": {
          "base_uri": "https://localhost:8080/"
        },
        "id": "kMqHY7KOIrHR",
        "outputId": "70ca4f40-8763-470d-b52c-c89b207f0d6a"
      },
      "source": [
        "data.info()"
      ],
      "execution_count": null,
      "outputs": [
        {
          "output_type": "stream",
          "name": "stdout",
          "text": [
            "<class 'pandas.core.frame.DataFrame'>\n",
            "RangeIndex: 238 entries, 0 to 237\n",
            "Data columns (total 3 columns):\n",
            " #   Column          Non-Null Count  Dtype \n",
            "---  ------          --------------  ----- \n",
            " 0   #this_apt_name  238 non-null    object\n",
            " 1   that_apt_name   238 non-null    object\n",
            " 2   passengers      238 non-null    int64 \n",
            "dtypes: int64(1), object(2)\n",
            "memory usage: 5.7+ KB\n"
          ]
        }
      ]
    },
    {
      "cell_type": "markdown",
      "metadata": {
        "id": "aZn1ViyKJEq6"
      },
      "source": [
        "# Carregando o grafo com o NetworkX\n",
        "* Para carregar os dados em memória na forma de uma estrutura em grafo, empregamos a biblioteca NetworkX. \n",
        "* Como o arquivo de dados foi definido como uma lista de arestas com peso associado, empregamos o método `read_weighted_edgelist` para o carregamento."
      ]
    },
    {
      "cell_type": "code",
      "metadata": {
        "colab": {
          "base_uri": "https://localhost:8080/",
          "height": 35
        },
        "id": "SXSlYX13puYA",
        "outputId": "22d8d29e-ccfa-4121-a6b2-1fae8986bcba"
      },
      "source": [
        "G = nx.read_weighted_edgelist(filepath,\n",
        "                              delimiter=';')\n",
        "nx.info(G)"
      ],
      "execution_count": null,
      "outputs": [
        {
          "output_type": "execute_result",
          "data": {
            "application/vnd.google.colaboratory.intrinsic+json": {
              "type": "string"
            },
            "text/plain": [
              "'Graph with 46 nodes and 238 edges'"
            ]
          },
          "metadata": {},
          "execution_count": 5
        }
      ]
    },
    {
      "cell_type": "code",
      "metadata": {
        "colab": {
          "base_uri": "https://localhost:8080/"
        },
        "id": "tfuSmT-o3Lt9",
        "outputId": "8bfb98c6-b2d0-4842-8c4f-5361ecb00f49"
      },
      "source": [
        "list(G.edges(data=True))[:5]"
      ],
      "execution_count": null,
      "outputs": [
        {
          "output_type": "execute_result",
          "data": {
            "text/plain": [
              "[('HEATHROW', 'ABERDEEN', {'weight': 483226.0}),\n",
              " ('HEATHROW', 'BELFAST CITY', {'weight': 743758.0}),\n",
              " ('HEATHROW', 'BELFAST INTERNATIONAL', {'weight': 25963.0}),\n",
              " ('HEATHROW', 'EDINBURGH', {'weight': 1577063.0}),\n",
              " ('HEATHROW', 'GLASGOW', {'weight': 1345532.0})]"
            ]
          },
          "metadata": {},
          "execution_count": 6
        }
      ]
    },
    {
      "cell_type": "code",
      "metadata": {
        "colab": {
          "base_uri": "https://localhost:8080/",
          "height": 486
        },
        "id": "HHuwvghkWbeX",
        "outputId": "20e0a48b-c307-44d7-c7c2-7660dadb0b38"
      },
      "source": [
        "fig, (ax1, ax2) = plt.subplots(1,2)\n",
        "fig.set_size_inches(18,8)\n",
        "ax1.set_title('Default Layout', fontsize=17)\n",
        "ax2.set_title('Random Layout', fontsize=17)\n",
        "nx.draw(G, ax=ax1)\n",
        "nx.draw_random(G, ax=ax2)"
      ],
      "execution_count": null,
      "outputs": [
        {
          "output_type": "display_data",
          "data": {
            "image/png": "[encoded data removed]",
            "text/plain": [
              "<Figure size 1296x576 with 2 Axes>"
            ]
          },
          "metadata": {}
        }
      ]
    },
    {
      "cell_type": "markdown",
      "metadata": {
        "id": "nmI1O4j6YTvQ"
      },
      "source": [
        "# Estatísticas do grafo"
      ]
    },
    {
      "cell_type": "markdown",
      "metadata": {
        "id": "NydcsOPBhMr-"
      },
      "source": [
        "## Densidade\n",
        "* **Densidade de um grafo:** uma função entre o número de vértices e o número de arestas.\n",
        "* A densidade do grafo apresentou um resultado mais próximo de 0 que de 1, tornando-se um grafo esparso.\n",
        "* Grafos esparsos possuem um pequeno número de arestas em relação ao número de vértices."
      ]
    },
    {
      "cell_type": "code",
      "metadata": {
        "id": "EXgOV7Q17tke",
        "colab": {
          "base_uri": "https://localhost:8080/"
        },
        "outputId": "7a763a55-16a2-4d38-c1c9-8d569266b819"
      },
      "source": [
        "nx.density(G)"
      ],
      "execution_count": null,
      "outputs": [
        {
          "output_type": "execute_result",
          "data": {
            "text/plain": [
              "0.22995169082125605"
            ]
          },
          "metadata": {},
          "execution_count": 8
        }
      ]
    },
    {
      "cell_type": "markdown",
      "metadata": {
        "id": "xVCg57ephzB2"
      },
      "source": [
        "## Diâmetro\n",
        "* **Diâmetro de um grafo:** maior distância entre dois vértices do grafo.\n",
        "* O diâmetro apresentou um resultado igual a 4 que é a maior distância entre qualquer par de aeroportos."
      ]
    },
    {
      "cell_type": "code",
      "metadata": {
        "colab": {
          "base_uri": "https://localhost:8080/"
        },
        "id": "Kj8iLfn2hz6B",
        "outputId": "2877fa81-03d0-4627-a4e7-b6755eaab847"
      },
      "source": [
        "nx.diameter(G)"
      ],
      "execution_count": null,
      "outputs": [
        {
          "output_type": "execute_result",
          "data": {
            "text/plain": [
              "4"
            ]
          },
          "metadata": {},
          "execution_count": 9
        }
      ]
    },
    {
      "cell_type": "markdown",
      "metadata": {
        "id": "ME3DvkCz_ze2"
      },
      "source": [
        "## Coeficiente Médio de Clustering\n",
        "\n",
        "* **Coeficiente Médio de Clustering:** valor médio dos Coeficientes de Clustering Local de todos os vértices.\n",
        "* O Coeficiente Médio de Clustering apresentou resultado igual a 0,554.\n",
        "\n",
        "\n"
      ]
    },
    {
      "cell_type": "code",
      "metadata": {
        "colab": {
          "base_uri": "https://localhost:8080/"
        },
        "id": "WObJg0lP_ymZ",
        "outputId": "e2b74a7f-c6f0-42ec-efb9-1c0bba633753"
      },
      "source": [
        "nx.average_clustering(G)"
      ],
      "execution_count": null,
      "outputs": [
        {
          "output_type": "execute_result",
          "data": {
            "text/plain": [
              "0.5537914418720395"
            ]
          },
          "metadata": {},
          "execution_count": 10
        }
      ]
    },
    {
      "cell_type": "markdown",
      "metadata": {
        "id": "h7Y587vpjLmT"
      },
      "source": [
        "# Calculando as métricas"
      ]
    },
    {
      "cell_type": "markdown",
      "metadata": {
        "id": "cbM0qejyhJ15"
      },
      "source": [
        "## Grau\n",
        "* **Grau do vértice:** número de arestas incidentes em um vértice.\n",
        "* **Grau médio do grafo:** média de todos os graus dos vértices.\n",
        "* O grau médio do grafo apresentou resultado igual a 10,35.\n",
        "\n"
      ]
    },
    {
      "cell_type": "markdown",
      "metadata": {
        "id": "bAsq6pPPbBpO"
      },
      "source": [
        "* O método `nx.Graph.degree()` retorna uma lista dos graus de todos os vértices do grafo.\n",
        "* Para facilitar o cálculo das estatísticas, a lista de graus foi instanciada em um Pandas DataFrame."
      ]
    },
    {
      "cell_type": "code",
      "metadata": {
        "colab": {
          "base_uri": "https://localhost:8080/",
          "height": 206
        },
        "id": "Xysrk8oCpubA",
        "outputId": "cb75b11d-5fbc-4987-b3ba-4806f40061e5"
      },
      "source": [
        "df_degree = pd.DataFrame(data=G.degree(),\n",
        "                         columns=['node', 'degree'])\n",
        "df_degree.head()"
      ],
      "execution_count": null,
      "outputs": [
        {
          "output_type": "execute_result",
          "data": {
            "text/html": [
              "<div>\n",
              "<style scoped>\n",
              "    .dataframe tbody tr th:only-of-type {\n",
              "        vertical-align: middle;\n",
              "    }\n",
              "\n",
              "    .dataframe tbody tr th {\n",
              "        vertical-align: top;\n",
              "    }\n",
              "\n",
              "    .dataframe thead th {\n",
              "        text-align: right;\n",
              "    }\n",
              "</style>\n",
              "<table border=\"1\" class=\"dataframe\">\n",
              "  <thead>\n",
              "    <tr style=\"text-align: right;\">\n",
              "      <th></th>\n",
              "      <th>node</th>\n",
              "      <th>degree</th>\n",
              "    </tr>\n",
              "  </thead>\n",
              "  <tbody>\n",
              "    <tr>\n",
              "      <th>0</th>\n",
              "      <td>HEATHROW</td>\n",
              "      <td>10</td>\n",
              "    </tr>\n",
              "    <tr>\n",
              "      <th>1</th>\n",
              "      <td>ABERDEEN</td>\n",
              "      <td>24</td>\n",
              "    </tr>\n",
              "    <tr>\n",
              "      <th>2</th>\n",
              "      <td>BELFAST CITY</td>\n",
              "      <td>19</td>\n",
              "    </tr>\n",
              "    <tr>\n",
              "      <th>3</th>\n",
              "      <td>BELFAST INTERNATIONAL</td>\n",
              "      <td>16</td>\n",
              "    </tr>\n",
              "    <tr>\n",
              "      <th>4</th>\n",
              "      <td>EDINBURGH</td>\n",
              "      <td>27</td>\n",
              "    </tr>\n",
              "  </tbody>\n",
              "</table>\n",
              "</div>"
            ],
            "text/plain": [
              "                    node  degree\n",
              "0               HEATHROW      10\n",
              "1               ABERDEEN      24\n",
              "2           BELFAST CITY      19\n",
              "3  BELFAST INTERNATIONAL      16\n",
              "4              EDINBURGH      27"
            ]
          },
          "metadata": {},
          "execution_count": 11
        }
      ]
    },
    {
      "cell_type": "code",
      "metadata": {
        "colab": {
          "base_uri": "https://localhost:8080/",
          "height": 300
        },
        "id": "1nf53xzG3rhL",
        "outputId": "d6f4b790-d1d2-4e8b-a80d-801ef6dd7d92"
      },
      "source": [
        "df_degree.describe()"
      ],
      "execution_count": null,
      "outputs": [
        {
          "output_type": "execute_result",
          "data": {
            "text/html": [
              "<div>\n",
              "<style scoped>\n",
              "    .dataframe tbody tr th:only-of-type {\n",
              "        vertical-align: middle;\n",
              "    }\n",
              "\n",
              "    .dataframe tbody tr th {\n",
              "        vertical-align: top;\n",
              "    }\n",
              "\n",
              "    .dataframe thead th {\n",
              "        text-align: right;\n",
              "    }\n",
              "</style>\n",
              "<table border=\"1\" class=\"dataframe\">\n",
              "  <thead>\n",
              "    <tr style=\"text-align: right;\">\n",
              "      <th></th>\n",
              "      <th>degree</th>\n",
              "    </tr>\n",
              "  </thead>\n",
              "  <tbody>\n",
              "    <tr>\n",
              "      <th>count</th>\n",
              "      <td>46.000000</td>\n",
              "    </tr>\n",
              "    <tr>\n",
              "      <th>mean</th>\n",
              "      <td>10.347826</td>\n",
              "    </tr>\n",
              "    <tr>\n",
              "      <th>std</th>\n",
              "      <td>7.251720</td>\n",
              "    </tr>\n",
              "    <tr>\n",
              "      <th>min</th>\n",
              "      <td>1.000000</td>\n",
              "    </tr>\n",
              "    <tr>\n",
              "      <th>25%</th>\n",
              "      <td>4.000000</td>\n",
              "    </tr>\n",
              "    <tr>\n",
              "      <th>50%</th>\n",
              "      <td>10.000000</td>\n",
              "    </tr>\n",
              "    <tr>\n",
              "      <th>75%</th>\n",
              "      <td>14.750000</td>\n",
              "    </tr>\n",
              "    <tr>\n",
              "      <th>max</th>\n",
              "      <td>27.000000</td>\n",
              "    </tr>\n",
              "  </tbody>\n",
              "</table>\n",
              "</div>"
            ],
            "text/plain": [
              "          degree\n",
              "count  46.000000\n",
              "mean   10.347826\n",
              "std     7.251720\n",
              "min     1.000000\n",
              "25%     4.000000\n",
              "50%    10.000000\n",
              "75%    14.750000\n",
              "max    27.000000"
            ]
          },
          "metadata": {},
          "execution_count": 12
        }
      ]
    },
    {
      "cell_type": "markdown",
      "metadata": {
        "id": "t5euiUf4EDxy"
      },
      "source": [
        "### Análise com boxplot\n",
        "\n",
        "* **Boxplot:** diagrama de caixa utilizando as referências de valores mínimos e máximos, quartis e outliers de uma base de dados.\n",
        "\n",
        "* O 1º quartil ou 25º percentil do grau do vértice é de valor 4. Isso significa que pelo menos 25% dos vértices tem no máximo grau 4. \n",
        "\n",
        "* O 3º quartil ou 75º percentil do grau do vértice é de valor 14,75. Isso significa que pelo menos 75% dos vértices tem no máximo grau 14.\n",
        "\n",
        "* Como a mediana está mais próxima do 1º quartil, os dados têm uma distribuição assimétrica positiva. Isso significa que cada vez mais vértices da rede têm graus baixos.\n",
        "\n",
        "\n"
      ]
    },
    {
      "cell_type": "code",
      "metadata": {
        "colab": {
          "base_uri": "https://localhost:8080/",
          "height": 391
        },
        "id": "vsEGf5HiVjHq",
        "outputId": "1ee915ae-cd13-4932-ed08-b010c418345f"
      },
      "source": [
        "plt.figure(figsize=(4,6))\n",
        "sns.boxplot(data=df_degree)"
      ],
      "execution_count": null,
      "outputs": [
        {
          "output_type": "execute_result",
          "data": {
            "text/plain": [
              "<matplotlib.axes._subplots.AxesSubplot at 0x7f8a399c8e50>"
            ]
          },
          "metadata": {},
          "execution_count": 13
        },
        {
          "output_type": "display_data",
          "data": {
            "image/png": "[encoded data removed]",
            "text/plain": [
              "<Figure size 288x432 with 1 Axes>"
            ]
          },
          "metadata": {
            "needs_background": "light"
          }
        }
      ]
    },
    {
      "cell_type": "markdown",
      "metadata": {
        "id": "KDcpH_ceF388"
      },
      "source": [
        "### Análise da distribuição dos graus\n"
      ]
    },
    {
      "cell_type": "code",
      "metadata": {
        "colab": {
          "base_uri": "https://localhost:8080/",
          "height": 739
        },
        "id": "jufUQDrOWQEw",
        "outputId": "e1b51a76-7125-4f83-a69f-97a4892a24e9"
      },
      "source": [
        "df_degree_count = df_degree.groupby('degree').count().reset_index()\n",
        "df_degree_count.columns = ['degree', 'frequency']\n",
        "df_degree_count['relative_frequency'] = df_degree_count['frequency'] / len(G.nodes)\n",
        "df_degree_count"
      ],
      "execution_count": null,
      "outputs": [
        {
          "output_type": "execute_result",
          "data": {
            "text/html": [
              "<div>\n",
              "<style scoped>\n",
              "    .dataframe tbody tr th:only-of-type {\n",
              "        vertical-align: middle;\n",
              "    }\n",
              "\n",
              "    .dataframe tbody tr th {\n",
              "        vertical-align: top;\n",
              "    }\n",
              "\n",
              "    .dataframe thead th {\n",
              "        text-align: right;\n",
              "    }\n",
              "</style>\n",
              "<table border=\"1\" class=\"dataframe\">\n",
              "  <thead>\n",
              "    <tr style=\"text-align: right;\">\n",
              "      <th></th>\n",
              "      <th>degree</th>\n",
              "      <th>frequency</th>\n",
              "      <th>relative_frequency</th>\n",
              "    </tr>\n",
              "  </thead>\n",
              "  <tbody>\n",
              "    <tr>\n",
              "      <th>0</th>\n",
              "      <td>1</td>\n",
              "      <td>4</td>\n",
              "      <td>0.086957</td>\n",
              "    </tr>\n",
              "    <tr>\n",
              "      <th>1</th>\n",
              "      <td>2</td>\n",
              "      <td>3</td>\n",
              "      <td>0.065217</td>\n",
              "    </tr>\n",
              "    <tr>\n",
              "      <th>2</th>\n",
              "      <td>3</td>\n",
              "      <td>2</td>\n",
              "      <td>0.043478</td>\n",
              "    </tr>\n",
              "    <tr>\n",
              "      <th>3</th>\n",
              "      <td>4</td>\n",
              "      <td>5</td>\n",
              "      <td>0.108696</td>\n",
              "    </tr>\n",
              "    <tr>\n",
              "      <th>4</th>\n",
              "      <td>5</td>\n",
              "      <td>2</td>\n",
              "      <td>0.043478</td>\n",
              "    </tr>\n",
              "    <tr>\n",
              "      <th>5</th>\n",
              "      <td>6</td>\n",
              "      <td>1</td>\n",
              "      <td>0.021739</td>\n",
              "    </tr>\n",
              "    <tr>\n",
              "      <th>6</th>\n",
              "      <td>8</td>\n",
              "      <td>3</td>\n",
              "      <td>0.065217</td>\n",
              "    </tr>\n",
              "    <tr>\n",
              "      <th>7</th>\n",
              "      <td>9</td>\n",
              "      <td>2</td>\n",
              "      <td>0.043478</td>\n",
              "    </tr>\n",
              "    <tr>\n",
              "      <th>8</th>\n",
              "      <td>10</td>\n",
              "      <td>2</td>\n",
              "      <td>0.043478</td>\n",
              "    </tr>\n",
              "    <tr>\n",
              "      <th>9</th>\n",
              "      <td>11</td>\n",
              "      <td>6</td>\n",
              "      <td>0.130435</td>\n",
              "    </tr>\n",
              "    <tr>\n",
              "      <th>10</th>\n",
              "      <td>13</td>\n",
              "      <td>2</td>\n",
              "      <td>0.043478</td>\n",
              "    </tr>\n",
              "    <tr>\n",
              "      <th>11</th>\n",
              "      <td>14</td>\n",
              "      <td>2</td>\n",
              "      <td>0.043478</td>\n",
              "    </tr>\n",
              "    <tr>\n",
              "      <th>12</th>\n",
              "      <td>15</td>\n",
              "      <td>1</td>\n",
              "      <td>0.021739</td>\n",
              "    </tr>\n",
              "    <tr>\n",
              "      <th>13</th>\n",
              "      <td>16</td>\n",
              "      <td>2</td>\n",
              "      <td>0.043478</td>\n",
              "    </tr>\n",
              "    <tr>\n",
              "      <th>14</th>\n",
              "      <td>17</td>\n",
              "      <td>1</td>\n",
              "      <td>0.021739</td>\n",
              "    </tr>\n",
              "    <tr>\n",
              "      <th>15</th>\n",
              "      <td>18</td>\n",
              "      <td>2</td>\n",
              "      <td>0.043478</td>\n",
              "    </tr>\n",
              "    <tr>\n",
              "      <th>16</th>\n",
              "      <td>19</td>\n",
              "      <td>1</td>\n",
              "      <td>0.021739</td>\n",
              "    </tr>\n",
              "    <tr>\n",
              "      <th>17</th>\n",
              "      <td>21</td>\n",
              "      <td>1</td>\n",
              "      <td>0.021739</td>\n",
              "    </tr>\n",
              "    <tr>\n",
              "      <th>18</th>\n",
              "      <td>24</td>\n",
              "      <td>1</td>\n",
              "      <td>0.021739</td>\n",
              "    </tr>\n",
              "    <tr>\n",
              "      <th>19</th>\n",
              "      <td>25</td>\n",
              "      <td>1</td>\n",
              "      <td>0.021739</td>\n",
              "    </tr>\n",
              "    <tr>\n",
              "      <th>20</th>\n",
              "      <td>26</td>\n",
              "      <td>1</td>\n",
              "      <td>0.021739</td>\n",
              "    </tr>\n",
              "    <tr>\n",
              "      <th>21</th>\n",
              "      <td>27</td>\n",
              "      <td>1</td>\n",
              "      <td>0.021739</td>\n",
              "    </tr>\n",
              "  </tbody>\n",
              "</table>\n",
              "</div>"
            ],
            "text/plain": [
              "    degree  frequency  relative_frequency\n",
              "0        1          4            0.086957\n",
              "1        2          3            0.065217\n",
              "2        3          2            0.043478\n",
              "3        4          5            0.108696\n",
              "4        5          2            0.043478\n",
              "5        6          1            0.021739\n",
              "6        8          3            0.065217\n",
              "7        9          2            0.043478\n",
              "8       10          2            0.043478\n",
              "9       11          6            0.130435\n",
              "10      13          2            0.043478\n",
              "11      14          2            0.043478\n",
              "12      15          1            0.021739\n",
              "13      16          2            0.043478\n",
              "14      17          1            0.021739\n",
              "15      18          2            0.043478\n",
              "16      19          1            0.021739\n",
              "17      21          1            0.021739\n",
              "18      24          1            0.021739\n",
              "19      25          1            0.021739\n",
              "20      26          1            0.021739\n",
              "21      27          1            0.021739"
            ]
          },
          "metadata": {},
          "execution_count": 14
        }
      ]
    },
    {
      "cell_type": "markdown",
      "metadata": {
        "id": "XXKuWe0lAq1Q"
      },
      "source": [
        "* O grau 11 é o que possui maior frequência absoluta (moda) de valor 6."
      ]
    },
    {
      "cell_type": "code",
      "metadata": {
        "colab": {
          "base_uri": "https://localhost:8080/",
          "height": 474
        },
        "id": "MvVwTSFIQ3PL",
        "outputId": "4025ac00-336a-456f-a84f-c3c606d0010f"
      },
      "source": [
        "degree_freq = nx.degree_histogram(G)\n",
        "relative_degree_freq = [degree/len(G.nodes) for degree in degree_freq]\n",
        "degrees = range(len(degree_freq))\n",
        "\n",
        "fig, ax1 = plt.subplots()\n",
        "fig.set_size_inches(10,6)\n",
        "fig.suptitle('Degree Distribution', \n",
        "             fontsize=20,\n",
        "             y=1.05)\n",
        "\n",
        "ax1.set_xlabel('Degree', fontsize=15)\n",
        "ax1.set_ylabel('Absolute Frequency', fontsize=15)\n",
        "ax1.plot(degrees, degree_freq, 'o-')\n",
        "\n",
        "ax2 = ax1.twinx()\n",
        "ax2.set_ylabel('Relative Frequency', fontsize=15)\n",
        "ax2.plot(degrees, relative_degree_freq, 'o-')\n",
        "\n",
        "fig.tight_layout()"
      ],
      "execution_count": null,
      "outputs": [
        {
          "output_type": "display_data",
          "data": {
            "image/png": "[encoded data removed]",
            "text/plain": [
              "<Figure size 720x432 with 2 Axes>"
            ]
          },
          "metadata": {
            "needs_background": "light"
          }
        }
      ]
    },
    {
      "cell_type": "markdown",
      "metadata": {
        "id": "hlRRoehCengz"
      },
      "source": [
        "## Distância\n",
        "* **Distância:** menor caminho entre dois vértices.\n",
        "* **Distância média do grafo:** média de todas as distâncias entre todos os pares de vértices do grafo.\n",
        "* A distância média do grafo apresentou resutado aproximado igual a 2."
      ]
    },
    {
      "cell_type": "markdown",
      "metadata": {
        "id": "O7saBDDPbu2M"
      },
      "source": [
        "* O método `nx.all_pairs_shortest_path_length()` retorna uma lista com o tamanho do menor caminho entre todos os pares de vértices do grafo.\n",
        "* Para facilitar o cálculo das estatísticas, a referida lista foi instanciada em um Pandas DataFrame."
      ]
    },
    {
      "cell_type": "code",
      "metadata": {
        "colab": {
          "base_uri": "https://localhost:8080/",
          "height": 300
        },
        "id": "3h0cVXPKlgAD",
        "outputId": "8dcc79b7-4446-410f-fabf-0115cb0ce72a"
      },
      "source": [
        "# getting list of all distances\n",
        "all_shortest_paths = dict(nx.all_pairs_shortest_path_length(G))\n",
        "df_shortest_paths = pd.DataFrame(all_shortest_paths)\n",
        "all_distances = list()\n",
        "for column in df_shortest_paths.columns:\n",
        "  all_distances += df_shortest_paths[column].values.tolist()\n",
        "all_distances = list(filter(lambda x: x != 0, all_distances))  # removing self-loop\n",
        "\n",
        "# frequency\n",
        "df_distances = pd.DataFrame({'distance': all_distances})\n",
        "df_distances.describe()"
      ],
      "execution_count": null,
      "outputs": [
        {
          "output_type": "execute_result",
          "data": {
            "text/html": [
              "<div>\n",
              "<style scoped>\n",
              "    .dataframe tbody tr th:only-of-type {\n",
              "        vertical-align: middle;\n",
              "    }\n",
              "\n",
              "    .dataframe tbody tr th {\n",
              "        vertical-align: top;\n",
              "    }\n",
              "\n",
              "    .dataframe thead th {\n",
              "        text-align: right;\n",
              "    }\n",
              "</style>\n",
              "<table border=\"1\" class=\"dataframe\">\n",
              "  <thead>\n",
              "    <tr style=\"text-align: right;\">\n",
              "      <th></th>\n",
              "      <th>distance</th>\n",
              "    </tr>\n",
              "  </thead>\n",
              "  <tbody>\n",
              "    <tr>\n",
              "      <th>count</th>\n",
              "      <td>2070.000000</td>\n",
              "    </tr>\n",
              "    <tr>\n",
              "      <th>mean</th>\n",
              "      <td>2.037681</td>\n",
              "    </tr>\n",
              "    <tr>\n",
              "      <th>std</th>\n",
              "      <td>0.754897</td>\n",
              "    </tr>\n",
              "    <tr>\n",
              "      <th>min</th>\n",
              "      <td>1.000000</td>\n",
              "    </tr>\n",
              "    <tr>\n",
              "      <th>25%</th>\n",
              "      <td>2.000000</td>\n",
              "    </tr>\n",
              "    <tr>\n",
              "      <th>50%</th>\n",
              "      <td>2.000000</td>\n",
              "    </tr>\n",
              "    <tr>\n",
              "      <th>75%</th>\n",
              "      <td>2.000000</td>\n",
              "    </tr>\n",
              "    <tr>\n",
              "      <th>max</th>\n",
              "      <td>4.000000</td>\n",
              "    </tr>\n",
              "  </tbody>\n",
              "</table>\n",
              "</div>"
            ],
            "text/plain": [
              "          distance\n",
              "count  2070.000000\n",
              "mean      2.037681\n",
              "std       0.754897\n",
              "min       1.000000\n",
              "25%       2.000000\n",
              "50%       2.000000\n",
              "75%       2.000000\n",
              "max       4.000000"
            ]
          },
          "metadata": {},
          "execution_count": 16
        }
      ]
    },
    {
      "cell_type": "markdown",
      "metadata": {
        "id": "BgxT53Z0GO1e"
      },
      "source": [
        "* A distância média do grafo também pode ser calculado por meio do método `average_shortest_path_length` do NetworkX."
      ]
    },
    {
      "cell_type": "code",
      "metadata": {
        "colab": {
          "base_uri": "https://localhost:8080/"
        },
        "id": "m48FvIP2epF3",
        "outputId": "17a5e63e-face-4bf6-f8ff-cf1c568a5dd4"
      },
      "source": [
        "print(nx.average_shortest_path_length(G))"
      ],
      "execution_count": null,
      "outputs": [
        {
          "output_type": "stream",
          "name": "stdout",
          "text": [
            "2.03768115942029\n"
          ]
        }
      ]
    },
    {
      "cell_type": "markdown",
      "metadata": {
        "id": "nGLl7qpTrKBr"
      },
      "source": [
        "### Análise com boxplot\n",
        "* Os três quartis (25, 50 e 75) apresentaram o mesmo valor, tornando a amplitude interquartil nula. Isso significa que os valores das distâncias estão concentrados.\n",
        "* Pelo menos 75% das distâncias tem valor máximo 2."
      ]
    },
    {
      "cell_type": "code",
      "metadata": {
        "colab": {
          "base_uri": "https://localhost:8080/",
          "height": 391
        },
        "id": "KpoI2MMviEHB",
        "outputId": "949e7d4e-a643-4d8b-f076-411d7bcec742"
      },
      "source": [
        "plt.figure(figsize=(4,6))\n",
        "sns.boxplot(data=df_distances)"
      ],
      "execution_count": null,
      "outputs": [
        {
          "output_type": "execute_result",
          "data": {
            "text/plain": [
              "<matplotlib.axes._subplots.AxesSubplot at 0x7f8a399c8950>"
            ]
          },
          "metadata": {},
          "execution_count": 18
        },
        {
          "output_type": "display_data",
          "data": {
            "image/png": "[encoded data removed]",
            "text/plain": [
              "<Figure size 288x432 with 1 Axes>"
            ]
          },
          "metadata": {
            "needs_background": "light"
          }
        }
      ]
    },
    {
      "cell_type": "markdown",
      "metadata": {
        "id": "x0unTfpbIN7l"
      },
      "source": [
        "### Análise da distribuição das distâncias.\n",
        "* A distância 2 é a que possui maior frequência absoluta (moda), sendo muito maior que as outras três distâncias (1,3 e 4).\n",
        "* O gráfico denota que mais da metade dos caminhos entre os aeroportos são possíveis com apenas uma escala de voo."
      ]
    },
    {
      "cell_type": "code",
      "metadata": {
        "colab": {
          "base_uri": "https://localhost:8080/",
          "height": 474
        },
        "id": "3AylfaQhqwCQ",
        "outputId": "761b3aa7-3383-4424-8e8b-6ae3d4a98e9d"
      },
      "source": [
        "distances_frequency = df_distances.value_counts().to_dict()\n",
        "distances_relative_frequency = df_distances.value_counts(normalize=True).to_dict()\n",
        "distances = sorted(distances_frequency.keys()) # {1: 476, 2: 1116, 3: 402, 4: 76}\n",
        "distances_frequency = [distances_frequency[key] for key in distances]\n",
        "distances_relative_frequency = [distances_relative_frequency[key] for key in distances]\n",
        "\n",
        "fig, ax1 = plt.subplots()\n",
        "fig.set_size_inches(10,6)\n",
        "fig.suptitle('Distance Distribution', \n",
        "             fontsize=20,\n",
        "             y=1.05)\n",
        "\n",
        "ax1.set_xlabel('Distance', fontsize=15)\n",
        "ax1.set_ylabel('Absolute Frequency', fontsize=15)\n",
        "ax1.plot(distances, distances_frequency, 'o-')\n",
        "\n",
        "ax2 = ax1.twinx()\n",
        "ax2.set_ylabel('Relative Frequency', fontsize=15)\n",
        "ax2.plot(distances, distances_relative_frequency, 'o-')\n",
        "\n",
        "fig.tight_layout()"
      ],
      "execution_count": null,
      "outputs": [
        {
          "output_type": "display_data",
          "data": {
            "image/png": "[encoded data removed]",
            "text/plain": [
              "<Figure size 720x432 with 2 Axes>"
            ]
          },
          "metadata": {
            "needs_background": "light"
          }
        }
      ]
    },
    {
      "cell_type": "markdown",
      "metadata": {
        "id": "qkD2N_HABAYY"
      },
      "source": [
        "## Coeficiente de Clustering\n",
        "\n",
        "* **Coeficiente de Clustering Local:** mede o grau de densidade de ligações da vizinhança de um determinado nó."
      ]
    },
    {
      "cell_type": "markdown",
      "metadata": {
        "id": "h5kIla_UccXu"
      },
      "source": [
        "* O método `nx.clustering()` retorna uma lista com o coeficiente de clustering de todos os vértices do grafo.\n",
        "* Para facilitar o cálculo das estatísticas, a lista de coeficientes de clustering foi instanciada em um Pandas DataFrame."
      ]
    },
    {
      "cell_type": "code",
      "metadata": {
        "colab": {
          "base_uri": "https://localhost:8080/",
          "height": 206
        },
        "id": "jXYbFy1kBEDm",
        "outputId": "1f968a22-537b-495d-d663-c9013f96d493"
      },
      "source": [
        "# getting list of all distances\n",
        "clustering_data = nx.clustering(G)\n",
        "nodes = list(clustering_data.keys())\n",
        "coeficients = list(clustering_data.values())\n",
        "clustering_dict = {'node': nodes,\n",
        "                   'coeficient': coeficients}\n",
        "df_all_coeficient = pd.DataFrame(data=clustering_dict)\n",
        "df_all_coeficient.head()"
      ],
      "execution_count": null,
      "outputs": [
        {
          "output_type": "execute_result",
          "data": {
            "text/html": [
              "<div>\n",
              "<style scoped>\n",
              "    .dataframe tbody tr th:only-of-type {\n",
              "        vertical-align: middle;\n",
              "    }\n",
              "\n",
              "    .dataframe tbody tr th {\n",
              "        vertical-align: top;\n",
              "    }\n",
              "\n",
              "    .dataframe thead th {\n",
              "        text-align: right;\n",
              "    }\n",
              "</style>\n",
              "<table border=\"1\" class=\"dataframe\">\n",
              "  <thead>\n",
              "    <tr style=\"text-align: right;\">\n",
              "      <th></th>\n",
              "      <th>node</th>\n",
              "      <th>coeficient</th>\n",
              "    </tr>\n",
              "  </thead>\n",
              "  <tbody>\n",
              "    <tr>\n",
              "      <th>0</th>\n",
              "      <td>HEATHROW</td>\n",
              "      <td>0.666667</td>\n",
              "    </tr>\n",
              "    <tr>\n",
              "      <th>1</th>\n",
              "      <td>ABERDEEN</td>\n",
              "      <td>0.391304</td>\n",
              "    </tr>\n",
              "    <tr>\n",
              "      <th>2</th>\n",
              "      <td>BELFAST CITY</td>\n",
              "      <td>0.514620</td>\n",
              "    </tr>\n",
              "    <tr>\n",
              "      <th>3</th>\n",
              "      <td>BELFAST INTERNATIONAL</td>\n",
              "      <td>0.516667</td>\n",
              "    </tr>\n",
              "    <tr>\n",
              "      <th>4</th>\n",
              "      <td>EDINBURGH</td>\n",
              "      <td>0.378917</td>\n",
              "    </tr>\n",
              "  </tbody>\n",
              "</table>\n",
              "</div>"
            ],
            "text/plain": [
              "                    node  coeficient\n",
              "0               HEATHROW    0.666667\n",
              "1               ABERDEEN    0.391304\n",
              "2           BELFAST CITY    0.514620\n",
              "3  BELFAST INTERNATIONAL    0.516667\n",
              "4              EDINBURGH    0.378917"
            ]
          },
          "metadata": {},
          "execution_count": 20
        }
      ]
    },
    {
      "cell_type": "code",
      "metadata": {
        "colab": {
          "base_uri": "https://localhost:8080/",
          "height": 300
        },
        "id": "d4IjKyA1NPEp",
        "outputId": "a727d0e3-8231-4708-cb40-7fa645b44950"
      },
      "source": [
        "df_all_coeficient.describe()"
      ],
      "execution_count": null,
      "outputs": [
        {
          "output_type": "execute_result",
          "data": {
            "text/html": [
              "<div>\n",
              "<style scoped>\n",
              "    .dataframe tbody tr th:only-of-type {\n",
              "        vertical-align: middle;\n",
              "    }\n",
              "\n",
              "    .dataframe tbody tr th {\n",
              "        vertical-align: top;\n",
              "    }\n",
              "\n",
              "    .dataframe thead th {\n",
              "        text-align: right;\n",
              "    }\n",
              "</style>\n",
              "<table border=\"1\" class=\"dataframe\">\n",
              "  <thead>\n",
              "    <tr style=\"text-align: right;\">\n",
              "      <th></th>\n",
              "      <th>coeficient</th>\n",
              "    </tr>\n",
              "  </thead>\n",
              "  <tbody>\n",
              "    <tr>\n",
              "      <th>count</th>\n",
              "      <td>46.000000</td>\n",
              "    </tr>\n",
              "    <tr>\n",
              "      <th>mean</th>\n",
              "      <td>0.553791</td>\n",
              "    </tr>\n",
              "    <tr>\n",
              "      <th>std</th>\n",
              "      <td>0.291260</td>\n",
              "    </tr>\n",
              "    <tr>\n",
              "      <th>min</th>\n",
              "      <td>0.000000</td>\n",
              "    </tr>\n",
              "    <tr>\n",
              "      <th>25%</th>\n",
              "      <td>0.395859</td>\n",
              "    </tr>\n",
              "    <tr>\n",
              "      <th>50%</th>\n",
              "      <td>0.555771</td>\n",
              "    </tr>\n",
              "    <tr>\n",
              "      <th>75%</th>\n",
              "      <td>0.677110</td>\n",
              "    </tr>\n",
              "    <tr>\n",
              "      <th>max</th>\n",
              "      <td>1.000000</td>\n",
              "    </tr>\n",
              "  </tbody>\n",
              "</table>\n",
              "</div>"
            ],
            "text/plain": [
              "       coeficient\n",
              "count   46.000000\n",
              "mean     0.553791\n",
              "std      0.291260\n",
              "min      0.000000\n",
              "25%      0.395859\n",
              "50%      0.555771\n",
              "75%      0.677110\n",
              "max      1.000000"
            ]
          },
          "metadata": {},
          "execution_count": 21
        }
      ]
    },
    {
      "cell_type": "markdown",
      "metadata": {
        "id": "PrgATWVQNhBX"
      },
      "source": [
        "### Análise com boxplot"
      ]
    },
    {
      "cell_type": "code",
      "metadata": {
        "id": "zISnOc2pCBoe",
        "colab": {
          "base_uri": "https://localhost:8080/",
          "height": 391
        },
        "outputId": "0c16e515-e6ca-473e-bcff-000887896c85"
      },
      "source": [
        "plt.figure(figsize=(4,6))\n",
        "sns.boxplot(data=df_all_coeficient)"
      ],
      "execution_count": null,
      "outputs": [
        {
          "output_type": "execute_result",
          "data": {
            "text/plain": [
              "<matplotlib.axes._subplots.AxesSubplot at 0x7f8a2e763190>"
            ]
          },
          "metadata": {},
          "execution_count": 22
        },
        {
          "output_type": "display_data",
          "data": {
            "image/png": "[encoded data removed]",
            "text/plain": [
              "<Figure size 288x432 with 1 Axes>"
            ]
          },
          "metadata": {
            "needs_background": "light"
          }
        }
      ]
    },
    {
      "cell_type": "markdown",
      "metadata": {
        "id": "n0y0WhcHN19H"
      },
      "source": [
        "### Análise da distribuição dos coeficientes"
      ]
    },
    {
      "cell_type": "code",
      "metadata": {
        "colab": {
          "base_uri": "https://localhost:8080/",
          "height": 410
        },
        "id": "o6EkzBw8N04y",
        "outputId": "c7c21ade-b294-47a5-f0ac-bddbbf046a3f"
      },
      "source": [
        "plt.figure(figsize=(10,6))\n",
        "ax = sns.histplot(data=df_all_coeficient, \n",
        "             kde=True,\n",
        "             legend=False)\n",
        "ax.set_xlabel('Clustering Coeficient',\n",
        "              fontsize=15)\n",
        "ax.set_ylabel('Frequency',\n",
        "              fontsize=15)"
      ],
      "execution_count": null,
      "outputs": [
        {
          "output_type": "execute_result",
          "data": {
            "text/plain": [
              "Text(0, 0.5, 'Frequency')"
            ]
          },
          "metadata": {},
          "execution_count": 23
        },
        {
          "output_type": "display_data",
          "data": {
            "image/png": "[encoded data removed]",
            "text/plain": [
              "<Figure size 720x432 with 1 Axes>"
            ]
          },
          "metadata": {
            "needs_background": "light"
          }
        }
      ]
    },
    {
      "cell_type": "markdown",
      "metadata": {
        "id": "GxKxz9TgKvhu"
      },
      "source": [
        "# Análise temporal\n",
        "\n",
        "* Uma vez que o conjunto de dados possui redes separadas entre os anos de 1990 e 2003, é possível fazer uma análise temporal\n",
        "* Como estratégia, decidimos analisar o fluxo de passageiros nos três aeroportos com maior fluxo ao longo dos anos\n",
        "* O objetivo é analisar o crescimento ou decrescimento do fluxo"
      ]
    },
    {
      "cell_type": "markdown",
      "metadata": {
        "id": "dhpvpsjJK-Bf"
      },
      "source": [
        "## Obtendo a lista de arquivos de dados"
      ]
    },
    {
      "cell_type": "code",
      "metadata": {
        "id": "uVKOELWrV95w"
      },
      "source": [
        "import os\n",
        "files = [filepath for filepath in os.listdir('data') if filepath.startswith('Table')]\n",
        "files = sorted(files)"
      ],
      "execution_count": null,
      "outputs": []
    },
    {
      "cell_type": "markdown",
      "metadata": {
        "id": "o180P6WBLM4m"
      },
      "source": [
        "## Calculando o total de movimentação dos aeroportos por ano\n",
        "\n",
        "* O método `Graph.degree()` do NetworkX permite o cálculo do grau dos vértices baseado no atributo `weight` das arestas incidentes.\n",
        "* Uma vez que a aresta denota o total de passageiros transportados entre os aeroportos, foi possível criar um DataFrame com o total de passageiros por ano, para cada aeroporto."
      ]
    },
    {
      "cell_type": "code",
      "metadata": {
        "colab": {
          "base_uri": "https://localhost:8080/",
          "height": 1000
        },
        "id": "pk6K5UEmLHGe",
        "outputId": "9565d59a-df8e-4738-96c2-c88b8e12da20"
      },
      "source": [
        "df = pd.read_csv(f'data/{files[0]}',\n",
        "                 delimiter=';')\n",
        "airports = pd.concat([df['#this_apt_name'], df['that_apt_name']],\n",
        "                     ignore_index=True).unique()\n",
        "df_all_years = pd.DataFrame(data={'airport': airports})\n",
        "years = list(range(1990,2004))\n",
        "\n",
        "for i, year in enumerate(years):\n",
        "  G = nx.read_weighted_edgelist(f'data/{files[i]}',\n",
        "                              delimiter=';')\n",
        "  weighted_degrees = G.degree(weight='weight')\n",
        "  df = pd.DataFrame(weighted_degrees, \n",
        "                    columns=['airport', year])\n",
        "  df_all_years = pd.merge(df,\n",
        "                          df_all_years,\n",
        "                          how='outer',\n",
        "                          on='airport')\n",
        "df = df_all_years.sort_values(by=2003, ascending=False).reset_index(drop=True)\n",
        "df"
      ],
      "execution_count": null,
      "outputs": [
        {
          "output_type": "execute_result",
          "data": {
            "text/html": [
              "<div>\n",
              "<style scoped>\n",
              "    .dataframe tbody tr th:only-of-type {\n",
              "        vertical-align: middle;\n",
              "    }\n",
              "\n",
              "    .dataframe tbody tr th {\n",
              "        vertical-align: top;\n",
              "    }\n",
              "\n",
              "    .dataframe thead th {\n",
              "        text-align: right;\n",
              "    }\n",
              "</style>\n",
              "<table border=\"1\" class=\"dataframe\">\n",
              "  <thead>\n",
              "    <tr style=\"text-align: right;\">\n",
              "      <th></th>\n",
              "      <th>airport</th>\n",
              "      <th>2003</th>\n",
              "      <th>2002</th>\n",
              "      <th>2001</th>\n",
              "      <th>2000</th>\n",
              "      <th>1999</th>\n",
              "      <th>1998</th>\n",
              "      <th>1997</th>\n",
              "      <th>1996</th>\n",
              "      <th>1995</th>\n",
              "      <th>1994</th>\n",
              "      <th>1993</th>\n",
              "      <th>1992</th>\n",
              "      <th>1991</th>\n",
              "      <th>1990</th>\n",
              "    </tr>\n",
              "  </thead>\n",
              "  <tbody>\n",
              "    <tr>\n",
              "      <th>0</th>\n",
              "      <td>HEATHROW</td>\n",
              "      <td>6176092.0</td>\n",
              "      <td>6191152.0</td>\n",
              "      <td>6118654.0</td>\n",
              "      <td>6881525.0</td>\n",
              "      <td>6622874.0</td>\n",
              "      <td>6667760.0</td>\n",
              "      <td>6796712.0</td>\n",
              "      <td>6930188.0</td>\n",
              "      <td>6856305.0</td>\n",
              "      <td>6669339.0</td>\n",
              "      <td>6289349.0</td>\n",
              "      <td>6268289.0</td>\n",
              "      <td>6305706.0</td>\n",
              "      <td>6948785.0</td>\n",
              "    </tr>\n",
              "    <tr>\n",
              "      <th>1</th>\n",
              "      <td>EDINBURGH</td>\n",
              "      <td>5261352.0</td>\n",
              "      <td>4868635.0</td>\n",
              "      <td>4023286.0</td>\n",
              "      <td>3775158.0</td>\n",
              "      <td>3550893.0</td>\n",
              "      <td>3248810.0</td>\n",
              "      <td>3089665.0</td>\n",
              "      <td>2833166.0</td>\n",
              "      <td>2460774.0</td>\n",
              "      <td>2265519.0</td>\n",
              "      <td>2056740.0</td>\n",
              "      <td>1937762.0</td>\n",
              "      <td>1869132.0</td>\n",
              "      <td>1996344.0</td>\n",
              "    </tr>\n",
              "    <tr>\n",
              "      <th>2</th>\n",
              "      <td>GLASGOW</td>\n",
              "      <td>4200919.0</td>\n",
              "      <td>3941585.0</td>\n",
              "      <td>3472267.0</td>\n",
              "      <td>3209817.0</td>\n",
              "      <td>3137529.0</td>\n",
              "      <td>3083938.0</td>\n",
              "      <td>2891809.0</td>\n",
              "      <td>2691768.0</td>\n",
              "      <td>2525149.0</td>\n",
              "      <td>2316569.0</td>\n",
              "      <td>2122918.0</td>\n",
              "      <td>2080519.0</td>\n",
              "      <td>2046644.0</td>\n",
              "      <td>2229277.0</td>\n",
              "    </tr>\n",
              "    <tr>\n",
              "      <th>3</th>\n",
              "      <td>GATWICK</td>\n",
              "      <td>3694857.0</td>\n",
              "      <td>3224608.0</td>\n",
              "      <td>2817740.0</td>\n",
              "      <td>2770448.0</td>\n",
              "      <td>2644528.0</td>\n",
              "      <td>2595951.0</td>\n",
              "      <td>2283745.0</td>\n",
              "      <td>1947675.0</td>\n",
              "      <td>1677480.0</td>\n",
              "      <td>1537187.0</td>\n",
              "      <td>1322368.0</td>\n",
              "      <td>1059468.0</td>\n",
              "      <td>917968.0</td>\n",
              "      <td>1255365.0</td>\n",
              "    </tr>\n",
              "    <tr>\n",
              "      <th>4</th>\n",
              "      <td>BELFAST INTERNATIONAL</td>\n",
              "      <td>2969382.0</td>\n",
              "      <td>2653140.0</td>\n",
              "      <td>2528143.0</td>\n",
              "      <td>2126238.0</td>\n",
              "      <td>1973950.0</td>\n",
              "      <td>1701387.0</td>\n",
              "      <td>1719434.0</td>\n",
              "      <td>1578845.0</td>\n",
              "      <td>1559706.0</td>\n",
              "      <td>1327911.0</td>\n",
              "      <td>1544789.0</td>\n",
              "      <td>1660550.0</td>\n",
              "      <td>1725473.0</td>\n",
              "      <td>1779301.0</td>\n",
              "    </tr>\n",
              "    <tr>\n",
              "      <th>5</th>\n",
              "      <td>MANCHESTER</td>\n",
              "      <td>2759693.0</td>\n",
              "      <td>2478341.0</td>\n",
              "      <td>2541506.0</td>\n",
              "      <td>2557162.0</td>\n",
              "      <td>2399538.0</td>\n",
              "      <td>2412601.0</td>\n",
              "      <td>2238061.0</td>\n",
              "      <td>2235568.0</td>\n",
              "      <td>2192184.0</td>\n",
              "      <td>2070596.0</td>\n",
              "      <td>1873400.0</td>\n",
              "      <td>1744966.0</td>\n",
              "      <td>1737189.0</td>\n",
              "      <td>1954766.0</td>\n",
              "    </tr>\n",
              "    <tr>\n",
              "      <th>6</th>\n",
              "      <td>STANSTED</td>\n",
              "      <td>2610080.0</td>\n",
              "      <td>2415011.0</td>\n",
              "      <td>1962155.0</td>\n",
              "      <td>1374561.0</td>\n",
              "      <td>1401936.0</td>\n",
              "      <td>1166511.0</td>\n",
              "      <td>1105344.0</td>\n",
              "      <td>1016023.0</td>\n",
              "      <td>775514.0</td>\n",
              "      <td>442649.0</td>\n",
              "      <td>311622.0</td>\n",
              "      <td>268194.0</td>\n",
              "      <td>245911.0</td>\n",
              "      <td>129857.0</td>\n",
              "    </tr>\n",
              "    <tr>\n",
              "      <th>7</th>\n",
              "      <td>BELFAST CITY</td>\n",
              "      <td>1851787.0</td>\n",
              "      <td>1797878.0</td>\n",
              "      <td>1137094.0</td>\n",
              "      <td>1235454.0</td>\n",
              "      <td>1248714.0</td>\n",
              "      <td>1273123.0</td>\n",
              "      <td>1236651.0</td>\n",
              "      <td>1313304.0</td>\n",
              "      <td>1242735.0</td>\n",
              "      <td>1179490.0</td>\n",
              "      <td>811264.0</td>\n",
              "      <td>593719.0</td>\n",
              "      <td>527839.0</td>\n",
              "      <td>507445.0</td>\n",
              "    </tr>\n",
              "    <tr>\n",
              "      <th>8</th>\n",
              "      <td>LUTON</td>\n",
              "      <td>1701647.0</td>\n",
              "      <td>1742427.0</td>\n",
              "      <td>1757580.0</td>\n",
              "      <td>1683244.0</td>\n",
              "      <td>1307101.0</td>\n",
              "      <td>837127.0</td>\n",
              "      <td>726375.0</td>\n",
              "      <td>442212.0</td>\n",
              "      <td>120299.0</td>\n",
              "      <td>108070.0</td>\n",
              "      <td>186046.0</td>\n",
              "      <td>183321.0</td>\n",
              "      <td>205363.0</td>\n",
              "      <td>210579.0</td>\n",
              "    </tr>\n",
              "    <tr>\n",
              "      <th>9</th>\n",
              "      <td>NEWCASTLE</td>\n",
              "      <td>1317357.0</td>\n",
              "      <td>1093884.0</td>\n",
              "      <td>946880.0</td>\n",
              "      <td>874297.0</td>\n",
              "      <td>806152.0</td>\n",
              "      <td>795934.0</td>\n",
              "      <td>754676.0</td>\n",
              "      <td>740091.0</td>\n",
              "      <td>670187.0</td>\n",
              "      <td>650551.0</td>\n",
              "      <td>578388.0</td>\n",
              "      <td>540275.0</td>\n",
              "      <td>504052.0</td>\n",
              "      <td>547588.0</td>\n",
              "    </tr>\n",
              "    <tr>\n",
              "      <th>10</th>\n",
              "      <td>JERSEY</td>\n",
              "      <td>1311320.0</td>\n",
              "      <td>1297172.0</td>\n",
              "      <td>1330965.0</td>\n",
              "      <td>1471912.0</td>\n",
              "      <td>1494686.0</td>\n",
              "      <td>1479487.0</td>\n",
              "      <td>1477629.0</td>\n",
              "      <td>1400688.0</td>\n",
              "      <td>1397191.0</td>\n",
              "      <td>1407416.0</td>\n",
              "      <td>1374717.0</td>\n",
              "      <td>1474212.0</td>\n",
              "      <td>1456513.0</td>\n",
              "      <td>1681573.0</td>\n",
              "    </tr>\n",
              "    <tr>\n",
              "      <th>11</th>\n",
              "      <td>BIRMINGHAM</td>\n",
              "      <td>1266511.0</td>\n",
              "      <td>1100515.0</td>\n",
              "      <td>1093097.0</td>\n",
              "      <td>1153843.0</td>\n",
              "      <td>1079531.0</td>\n",
              "      <td>1092493.0</td>\n",
              "      <td>991371.0</td>\n",
              "      <td>901751.0</td>\n",
              "      <td>875816.0</td>\n",
              "      <td>792705.0</td>\n",
              "      <td>731049.0</td>\n",
              "      <td>695563.0</td>\n",
              "      <td>679651.0</td>\n",
              "      <td>760575.0</td>\n",
              "    </tr>\n",
              "    <tr>\n",
              "      <th>12</th>\n",
              "      <td>ABERDEEN</td>\n",
              "      <td>1222893.0</td>\n",
              "      <td>1296107.0</td>\n",
              "      <td>1371128.0</td>\n",
              "      <td>1388414.0</td>\n",
              "      <td>1504278.0</td>\n",
              "      <td>1591604.0</td>\n",
              "      <td>1547608.0</td>\n",
              "      <td>1448187.0</td>\n",
              "      <td>1369340.0</td>\n",
              "      <td>1300954.0</td>\n",
              "      <td>1255493.0</td>\n",
              "      <td>1182532.0</td>\n",
              "      <td>1115462.0</td>\n",
              "      <td>1077998.0</td>\n",
              "    </tr>\n",
              "    <tr>\n",
              "      <th>13</th>\n",
              "      <td>BRISTOL</td>\n",
              "      <td>1044764.0</td>\n",
              "      <td>901890.0</td>\n",
              "      <td>521890.0</td>\n",
              "      <td>397894.0</td>\n",
              "      <td>373659.0</td>\n",
              "      <td>364212.0</td>\n",
              "      <td>326084.0</td>\n",
              "      <td>263185.0</td>\n",
              "      <td>244083.0</td>\n",
              "      <td>225995.0</td>\n",
              "      <td>183967.0</td>\n",
              "      <td>155598.0</td>\n",
              "      <td>139745.0</td>\n",
              "      <td>71998.0</td>\n",
              "    </tr>\n",
              "    <tr>\n",
              "      <th>14</th>\n",
              "      <td>GUERNSEY</td>\n",
              "      <td>820202.0</td>\n",
              "      <td>781392.0</td>\n",
              "      <td>800233.0</td>\n",
              "      <td>821849.0</td>\n",
              "      <td>797139.0</td>\n",
              "      <td>813389.0</td>\n",
              "      <td>790186.0</td>\n",
              "      <td>752810.0</td>\n",
              "      <td>730495.0</td>\n",
              "      <td>699586.0</td>\n",
              "      <td>662987.0</td>\n",
              "      <td>775546.0</td>\n",
              "      <td>670449.0</td>\n",
              "      <td>787612.0</td>\n",
              "    </tr>\n",
              "    <tr>\n",
              "      <th>15</th>\n",
              "      <td>PRESTWICK</td>\n",
              "      <td>809702.0</td>\n",
              "      <td>659512.0</td>\n",
              "      <td>596578.0</td>\n",
              "      <td>419781.0</td>\n",
              "      <td>317130.0</td>\n",
              "      <td>269544.0</td>\n",
              "      <td>299176.0</td>\n",
              "      <td>266557.0</td>\n",
              "      <td>58551.0</td>\n",
              "      <td>NaN</td>\n",
              "      <td>NaN</td>\n",
              "      <td>0.0</td>\n",
              "      <td>54.0</td>\n",
              "      <td>142.0</td>\n",
              "    </tr>\n",
              "    <tr>\n",
              "      <th>16</th>\n",
              "      <td>NOTTINGHAM EAST MIDLANDS INT'L</td>\n",
              "      <td>804549.0</td>\n",
              "      <td>NaN</td>\n",
              "      <td>NaN</td>\n",
              "      <td>NaN</td>\n",
              "      <td>NaN</td>\n",
              "      <td>NaN</td>\n",
              "      <td>NaN</td>\n",
              "      <td>346775.0</td>\n",
              "      <td>300660.0</td>\n",
              "      <td>245196.0</td>\n",
              "      <td>237906.0</td>\n",
              "      <td>269923.0</td>\n",
              "      <td>311300.0</td>\n",
              "      <td>359437.0</td>\n",
              "    </tr>\n",
              "    <tr>\n",
              "      <th>17</th>\n",
              "      <td>LIVERPOOL</td>\n",
              "      <td>695962.0</td>\n",
              "      <td>730888.0</td>\n",
              "      <td>698458.0</td>\n",
              "      <td>710569.0</td>\n",
              "      <td>449610.0</td>\n",
              "      <td>326226.0</td>\n",
              "      <td>300649.0</td>\n",
              "      <td>267512.0</td>\n",
              "      <td>210677.0</td>\n",
              "      <td>216580.0</td>\n",
              "      <td>215615.0</td>\n",
              "      <td>226341.0</td>\n",
              "      <td>279617.0</td>\n",
              "      <td>319384.0</td>\n",
              "    </tr>\n",
              "    <tr>\n",
              "      <th>18</th>\n",
              "      <td>SOUTHAMPTON</td>\n",
              "      <td>627949.0</td>\n",
              "      <td>515445.0</td>\n",
              "      <td>604507.0</td>\n",
              "      <td>569335.0</td>\n",
              "      <td>525210.0</td>\n",
              "      <td>502428.0</td>\n",
              "      <td>415923.0</td>\n",
              "      <td>427604.0</td>\n",
              "      <td>372866.0</td>\n",
              "      <td>349077.0</td>\n",
              "      <td>309338.0</td>\n",
              "      <td>339212.0</td>\n",
              "      <td>353509.0</td>\n",
              "      <td>423278.0</td>\n",
              "    </tr>\n",
              "    <tr>\n",
              "      <th>19</th>\n",
              "      <td>ISLE OF MAN</td>\n",
              "      <td>571819.0</td>\n",
              "      <td>649142.0</td>\n",
              "      <td>632942.0</td>\n",
              "      <td>628906.0</td>\n",
              "      <td>612034.0</td>\n",
              "      <td>639754.0</td>\n",
              "      <td>611224.0</td>\n",
              "      <td>556849.0</td>\n",
              "      <td>489373.0</td>\n",
              "      <td>474884.0</td>\n",
              "      <td>454312.0</td>\n",
              "      <td>430394.0</td>\n",
              "      <td>436251.0</td>\n",
              "      <td>495745.0</td>\n",
              "    </tr>\n",
              "    <tr>\n",
              "      <th>20</th>\n",
              "      <td>LEEDS BRADFORD</td>\n",
              "      <td>441573.0</td>\n",
              "      <td>457615.0</td>\n",
              "      <td>421734.0</td>\n",
              "      <td>438539.0</td>\n",
              "      <td>392558.0</td>\n",
              "      <td>392878.0</td>\n",
              "      <td>455306.0</td>\n",
              "      <td>414215.0</td>\n",
              "      <td>397114.0</td>\n",
              "      <td>359197.0</td>\n",
              "      <td>313278.0</td>\n",
              "      <td>332119.0</td>\n",
              "      <td>347754.0</td>\n",
              "      <td>417280.0</td>\n",
              "    </tr>\n",
              "    <tr>\n",
              "      <th>21</th>\n",
              "      <td>LONDON CITY</td>\n",
              "      <td>411538.0</td>\n",
              "      <td>411220.0</td>\n",
              "      <td>446445.0</td>\n",
              "      <td>307524.0</td>\n",
              "      <td>133003.0</td>\n",
              "      <td>167705.0</td>\n",
              "      <td>94635.0</td>\n",
              "      <td>21408.0</td>\n",
              "      <td>0.0</td>\n",
              "      <td>11774.0</td>\n",
              "      <td>NaN</td>\n",
              "      <td>2642.0</td>\n",
              "      <td>7154.0</td>\n",
              "      <td>7854.0</td>\n",
              "    </tr>\n",
              "    <tr>\n",
              "      <th>22</th>\n",
              "      <td>INVERNESS</td>\n",
              "      <td>372943.0</td>\n",
              "      <td>312977.0</td>\n",
              "      <td>346414.0</td>\n",
              "      <td>296858.0</td>\n",
              "      <td>289479.0</td>\n",
              "      <td>272964.0</td>\n",
              "      <td>319696.0</td>\n",
              "      <td>239924.0</td>\n",
              "      <td>226647.0</td>\n",
              "      <td>219893.0</td>\n",
              "      <td>187059.0</td>\n",
              "      <td>172600.0</td>\n",
              "      <td>165549.0</td>\n",
              "      <td>179139.0</td>\n",
              "    </tr>\n",
              "    <tr>\n",
              "      <th>23</th>\n",
              "      <td>CARDIFF WALES</td>\n",
              "      <td>346676.0</td>\n",
              "      <td>95263.0</td>\n",
              "      <td>102686.0</td>\n",
              "      <td>90952.0</td>\n",
              "      <td>98363.0</td>\n",
              "      <td>88194.0</td>\n",
              "      <td>109448.0</td>\n",
              "      <td>86994.0</td>\n",
              "      <td>77597.0</td>\n",
              "      <td>65433.0</td>\n",
              "      <td>66552.0</td>\n",
              "      <td>61800.0</td>\n",
              "      <td>47036.0</td>\n",
              "      <td>30317.0</td>\n",
              "    </tr>\n",
              "    <tr>\n",
              "      <th>24</th>\n",
              "      <td>NEWQUAY</td>\n",
              "      <td>199931.0</td>\n",
              "      <td>151362.0</td>\n",
              "      <td>79002.0</td>\n",
              "      <td>70487.0</td>\n",
              "      <td>75955.0</td>\n",
              "      <td>61286.0</td>\n",
              "      <td>53139.0</td>\n",
              "      <td>50540.0</td>\n",
              "      <td>46335.0</td>\n",
              "      <td>40336.0</td>\n",
              "      <td>34226.0</td>\n",
              "      <td>35803.0</td>\n",
              "      <td>34254.0</td>\n",
              "      <td>39866.0</td>\n",
              "    </tr>\n",
              "    <tr>\n",
              "      <th>25</th>\n",
              "      <td>TEESSIDE</td>\n",
              "      <td>150157.0</td>\n",
              "      <td>147421.0</td>\n",
              "      <td>152043.0</td>\n",
              "      <td>187879.0</td>\n",
              "      <td>215168.0</td>\n",
              "      <td>208622.0</td>\n",
              "      <td>216606.0</td>\n",
              "      <td>NaN</td>\n",
              "      <td>NaN</td>\n",
              "      <td>NaN</td>\n",
              "      <td>NaN</td>\n",
              "      <td>NaN</td>\n",
              "      <td>NaN</td>\n",
              "      <td>NaN</td>\n",
              "    </tr>\n",
              "    <tr>\n",
              "      <th>26</th>\n",
              "      <td>CITY OF DERRY (EGLINTON)</td>\n",
              "      <td>149675.0</td>\n",
              "      <td>NaN</td>\n",
              "      <td>NaN</td>\n",
              "      <td>NaN</td>\n",
              "      <td>NaN</td>\n",
              "      <td>NaN</td>\n",
              "      <td>NaN</td>\n",
              "      <td>60203.0</td>\n",
              "      <td>56020.0</td>\n",
              "      <td>30222.0</td>\n",
              "      <td>27262.0</td>\n",
              "      <td>25070.0</td>\n",
              "      <td>26218.0</td>\n",
              "      <td>21900.0</td>\n",
              "    </tr>\n",
              "    <tr>\n",
              "      <th>27</th>\n",
              "      <td>ISLES OF SCILLY (ST.MARYS)</td>\n",
              "      <td>139685.0</td>\n",
              "      <td>145724.0</td>\n",
              "      <td>133515.0</td>\n",
              "      <td>96998.0</td>\n",
              "      <td>133775.0</td>\n",
              "      <td>128887.0</td>\n",
              "      <td>126051.0</td>\n",
              "      <td>124215.0</td>\n",
              "      <td>114910.0</td>\n",
              "      <td>107136.0</td>\n",
              "      <td>99160.0</td>\n",
              "      <td>100081.0</td>\n",
              "      <td>98103.0</td>\n",
              "      <td>110528.0</td>\n",
              "    </tr>\n",
              "    <tr>\n",
              "      <th>28</th>\n",
              "      <td>PENZANCE HELIPORT</td>\n",
              "      <td>129185.0</td>\n",
              "      <td>133948.0</td>\n",
              "      <td>124829.0</td>\n",
              "      <td>79495.0</td>\n",
              "      <td>124742.0</td>\n",
              "      <td>113634.0</td>\n",
              "      <td>105875.0</td>\n",
              "      <td>103690.0</td>\n",
              "      <td>86744.0</td>\n",
              "      <td>85203.0</td>\n",
              "      <td>81757.0</td>\n",
              "      <td>87503.0</td>\n",
              "      <td>94563.0</td>\n",
              "      <td>93001.0</td>\n",
              "    </tr>\n",
              "    <tr>\n",
              "      <th>29</th>\n",
              "      <td>SUMBURGH</td>\n",
              "      <td>102433.0</td>\n",
              "      <td>117214.0</td>\n",
              "      <td>112902.0</td>\n",
              "      <td>110732.0</td>\n",
              "      <td>178624.0</td>\n",
              "      <td>200661.0</td>\n",
              "      <td>226706.0</td>\n",
              "      <td>246239.0</td>\n",
              "      <td>287712.0</td>\n",
              "      <td>269412.0</td>\n",
              "      <td>247235.0</td>\n",
              "      <td>241859.0</td>\n",
              "      <td>248573.0</td>\n",
              "      <td>250096.0</td>\n",
              "    </tr>\n",
              "    <tr>\n",
              "      <th>30</th>\n",
              "      <td>BOURNEMOUTH</td>\n",
              "      <td>81419.0</td>\n",
              "      <td>109.0</td>\n",
              "      <td>260.0</td>\n",
              "      <td>6622.0</td>\n",
              "      <td>42264.0</td>\n",
              "      <td>53937.0</td>\n",
              "      <td>13211.0</td>\n",
              "      <td>NaN</td>\n",
              "      <td>198.0</td>\n",
              "      <td>5603.0</td>\n",
              "      <td>12625.0</td>\n",
              "      <td>29529.0</td>\n",
              "      <td>57978.0</td>\n",
              "      <td>74556.0</td>\n",
              "    </tr>\n",
              "    <tr>\n",
              "      <th>31</th>\n",
              "      <td>KIRKWALL</td>\n",
              "      <td>80264.0</td>\n",
              "      <td>79328.0</td>\n",
              "      <td>70801.0</td>\n",
              "      <td>62761.0</td>\n",
              "      <td>59356.0</td>\n",
              "      <td>60484.0</td>\n",
              "      <td>59821.0</td>\n",
              "      <td>66808.0</td>\n",
              "      <td>68799.0</td>\n",
              "      <td>66814.0</td>\n",
              "      <td>66175.0</td>\n",
              "      <td>66222.0</td>\n",
              "      <td>61330.0</td>\n",
              "      <td>64292.0</td>\n",
              "    </tr>\n",
              "    <tr>\n",
              "      <th>32</th>\n",
              "      <td>BLACKPOOL</td>\n",
              "      <td>79931.0</td>\n",
              "      <td>4319.0</td>\n",
              "      <td>3087.0</td>\n",
              "      <td>4827.0</td>\n",
              "      <td>37907.0</td>\n",
              "      <td>45280.0</td>\n",
              "      <td>47881.0</td>\n",
              "      <td>54402.0</td>\n",
              "      <td>56190.0</td>\n",
              "      <td>55425.0</td>\n",
              "      <td>63075.0</td>\n",
              "      <td>63056.0</td>\n",
              "      <td>74315.0</td>\n",
              "      <td>79133.0</td>\n",
              "    </tr>\n",
              "    <tr>\n",
              "      <th>33</th>\n",
              "      <td>EXETER</td>\n",
              "      <td>74742.0</td>\n",
              "      <td>76729.0</td>\n",
              "      <td>93248.0</td>\n",
              "      <td>109810.0</td>\n",
              "      <td>104747.0</td>\n",
              "      <td>97667.0</td>\n",
              "      <td>80980.0</td>\n",
              "      <td>87123.0</td>\n",
              "      <td>74761.0</td>\n",
              "      <td>74523.0</td>\n",
              "      <td>76691.0</td>\n",
              "      <td>73456.0</td>\n",
              "      <td>90100.0</td>\n",
              "      <td>121816.0</td>\n",
              "    </tr>\n",
              "    <tr>\n",
              "      <th>34</th>\n",
              "      <td>ALDERNEY</td>\n",
              "      <td>63153.0</td>\n",
              "      <td>64676.0</td>\n",
              "      <td>70833.0</td>\n",
              "      <td>73088.0</td>\n",
              "      <td>70979.0</td>\n",
              "      <td>75181.0</td>\n",
              "      <td>79247.0</td>\n",
              "      <td>82977.0</td>\n",
              "      <td>83595.0</td>\n",
              "      <td>80729.0</td>\n",
              "      <td>76154.0</td>\n",
              "      <td>123401.0</td>\n",
              "      <td>82049.0</td>\n",
              "      <td>108839.0</td>\n",
              "    </tr>\n",
              "    <tr>\n",
              "      <th>35</th>\n",
              "      <td>PLYMOUTH</td>\n",
              "      <td>49901.0</td>\n",
              "      <td>56563.0</td>\n",
              "      <td>90423.0</td>\n",
              "      <td>87960.0</td>\n",
              "      <td>87234.0</td>\n",
              "      <td>89536.0</td>\n",
              "      <td>83204.0</td>\n",
              "      <td>79711.0</td>\n",
              "      <td>71834.0</td>\n",
              "      <td>61452.0</td>\n",
              "      <td>48545.0</td>\n",
              "      <td>57938.0</td>\n",
              "      <td>60168.0</td>\n",
              "      <td>82988.0</td>\n",
              "    </tr>\n",
              "    <tr>\n",
              "      <th>36</th>\n",
              "      <td>DUNDEE</td>\n",
              "      <td>48252.0</td>\n",
              "      <td>44311.0</td>\n",
              "      <td>47669.0</td>\n",
              "      <td>48174.0</td>\n",
              "      <td>0.0</td>\n",
              "      <td>10715.0</td>\n",
              "      <td>9678.0</td>\n",
              "      <td>11186.0</td>\n",
              "      <td>11851.0</td>\n",
              "      <td>11810.0</td>\n",
              "      <td>11805.0</td>\n",
              "      <td>10783.0</td>\n",
              "      <td>7670.0</td>\n",
              "      <td>3194.0</td>\n",
              "    </tr>\n",
              "    <tr>\n",
              "      <th>37</th>\n",
              "      <td>ISLES OF SCILLY (TRESCO)</td>\n",
              "      <td>45950.0</td>\n",
              "      <td>44394.0</td>\n",
              "      <td>39340.0</td>\n",
              "      <td>23453.0</td>\n",
              "      <td>36811.0</td>\n",
              "      <td>31356.0</td>\n",
              "      <td>26515.0</td>\n",
              "      <td>25386.0</td>\n",
              "      <td>21106.0</td>\n",
              "      <td>20097.0</td>\n",
              "      <td>17887.0</td>\n",
              "      <td>19391.0</td>\n",
              "      <td>20777.0</td>\n",
              "      <td>18453.0</td>\n",
              "    </tr>\n",
              "    <tr>\n",
              "      <th>38</th>\n",
              "      <td>NORWICH</td>\n",
              "      <td>34149.0</td>\n",
              "      <td>7269.0</td>\n",
              "      <td>33332.0</td>\n",
              "      <td>50126.0</td>\n",
              "      <td>47603.0</td>\n",
              "      <td>53675.0</td>\n",
              "      <td>51563.0</td>\n",
              "      <td>55407.0</td>\n",
              "      <td>58233.0</td>\n",
              "      <td>58746.0</td>\n",
              "      <td>63364.0</td>\n",
              "      <td>67717.0</td>\n",
              "      <td>76339.0</td>\n",
              "      <td>90132.0</td>\n",
              "    </tr>\n",
              "    <tr>\n",
              "      <th>39</th>\n",
              "      <td>LANDS END (ST JUST)</td>\n",
              "      <td>24793.0</td>\n",
              "      <td>25048.0</td>\n",
              "      <td>20305.0</td>\n",
              "      <td>23964.0</td>\n",
              "      <td>28002.0</td>\n",
              "      <td>33404.0</td>\n",
              "      <td>34491.0</td>\n",
              "      <td>33540.0</td>\n",
              "      <td>37672.0</td>\n",
              "      <td>33500.0</td>\n",
              "      <td>29185.0</td>\n",
              "      <td>25521.0</td>\n",
              "      <td>23237.0</td>\n",
              "      <td>30082.0</td>\n",
              "    </tr>\n",
              "    <tr>\n",
              "      <th>40</th>\n",
              "      <td>SWANSEA</td>\n",
              "      <td>11196.0</td>\n",
              "      <td>NaN</td>\n",
              "      <td>NaN</td>\n",
              "      <td>NaN</td>\n",
              "      <td>NaN</td>\n",
              "      <td>NaN</td>\n",
              "      <td>NaN</td>\n",
              "      <td>NaN</td>\n",
              "      <td>NaN</td>\n",
              "      <td>0.0</td>\n",
              "      <td>20.0</td>\n",
              "      <td>359.0</td>\n",
              "      <td>NaN</td>\n",
              "      <td>NaN</td>\n",
              "    </tr>\n",
              "    <tr>\n",
              "      <th>41</th>\n",
              "      <td>HUMBERSIDE</td>\n",
              "      <td>6395.0</td>\n",
              "      <td>NaN</td>\n",
              "      <td>NaN</td>\n",
              "      <td>3420.0</td>\n",
              "      <td>18302.0</td>\n",
              "      <td>21334.0</td>\n",
              "      <td>23340.0</td>\n",
              "      <td>27197.0</td>\n",
              "      <td>28347.0</td>\n",
              "      <td>29390.0</td>\n",
              "      <td>39113.0</td>\n",
              "      <td>33517.0</td>\n",
              "      <td>30521.0</td>\n",
              "      <td>55031.0</td>\n",
              "    </tr>\n",
              "    <tr>\n",
              "      <th>42</th>\n",
              "      <td>SOUTHEND</td>\n",
              "      <td>2477.0</td>\n",
              "      <td>0.0</td>\n",
              "      <td>4.0</td>\n",
              "      <td>NaN</td>\n",
              "      <td>NaN</td>\n",
              "      <td>NaN</td>\n",
              "      <td>NaN</td>\n",
              "      <td>NaN</td>\n",
              "      <td>NaN</td>\n",
              "      <td>0.0</td>\n",
              "      <td>21.0</td>\n",
              "      <td>NaN</td>\n",
              "      <td>10312.0</td>\n",
              "      <td>23707.0</td>\n",
              "    </tr>\n",
              "    <tr>\n",
              "      <th>43</th>\n",
              "      <td>BIGGIN HILL</td>\n",
              "      <td>175.0</td>\n",
              "      <td>NaN</td>\n",
              "      <td>NaN</td>\n",
              "      <td>NaN</td>\n",
              "      <td>NaN</td>\n",
              "      <td>NaN</td>\n",
              "      <td>NaN</td>\n",
              "      <td>NaN</td>\n",
              "      <td>NaN</td>\n",
              "      <td>NaN</td>\n",
              "      <td>NaN</td>\n",
              "      <td>NaN</td>\n",
              "      <td>NaN</td>\n",
              "      <td>NaN</td>\n",
              "    </tr>\n",
              "    <tr>\n",
              "      <th>44</th>\n",
              "      <td>SHEFFIELD CITY</td>\n",
              "      <td>0.0</td>\n",
              "      <td>10155.0</td>\n",
              "      <td>21100.0</td>\n",
              "      <td>29244.0</td>\n",
              "      <td>16817.0</td>\n",
              "      <td>NaN</td>\n",
              "      <td>NaN</td>\n",
              "      <td>NaN</td>\n",
              "      <td>NaN</td>\n",
              "      <td>NaN</td>\n",
              "      <td>NaN</td>\n",
              "      <td>NaN</td>\n",
              "      <td>NaN</td>\n",
              "      <td>NaN</td>\n",
              "    </tr>\n",
              "    <tr>\n",
              "      <th>45</th>\n",
              "      <td>COVENTRY</td>\n",
              "      <td>0.0</td>\n",
              "      <td>19.0</td>\n",
              "      <td>NaN</td>\n",
              "      <td>NaN</td>\n",
              "      <td>NaN</td>\n",
              "      <td>NaN</td>\n",
              "      <td>NaN</td>\n",
              "      <td>NaN</td>\n",
              "      <td>0.0</td>\n",
              "      <td>255.0</td>\n",
              "      <td>2157.0</td>\n",
              "      <td>2502.0</td>\n",
              "      <td>1218.0</td>\n",
              "      <td>263.0</td>\n",
              "    </tr>\n",
              "    <tr>\n",
              "      <th>46</th>\n",
              "      <td>LONDONDERRY</td>\n",
              "      <td>NaN</td>\n",
              "      <td>142928.0</td>\n",
              "      <td>158221.0</td>\n",
              "      <td>150383.0</td>\n",
              "      <td>90971.0</td>\n",
              "      <td>45976.0</td>\n",
              "      <td>52969.0</td>\n",
              "      <td>NaN</td>\n",
              "      <td>NaN</td>\n",
              "      <td>NaN</td>\n",
              "      <td>NaN</td>\n",
              "      <td>NaN</td>\n",
              "      <td>NaN</td>\n",
              "      <td>NaN</td>\n",
              "    </tr>\n",
              "    <tr>\n",
              "      <th>47</th>\n",
              "      <td>EAST MIDLANDS</td>\n",
              "      <td>NaN</td>\n",
              "      <td>524962.0</td>\n",
              "      <td>284886.0</td>\n",
              "      <td>299171.0</td>\n",
              "      <td>321180.0</td>\n",
              "      <td>235871.0</td>\n",
              "      <td>320492.0</td>\n",
              "      <td>NaN</td>\n",
              "      <td>NaN</td>\n",
              "      <td>NaN</td>\n",
              "      <td>NaN</td>\n",
              "      <td>NaN</td>\n",
              "      <td>NaN</td>\n",
              "      <td>NaN</td>\n",
              "    </tr>\n",
              "    <tr>\n",
              "      <th>48</th>\n",
              "      <td>DUBLIN</td>\n",
              "      <td>NaN</td>\n",
              "      <td>0.0</td>\n",
              "      <td>118.0</td>\n",
              "      <td>NaN</td>\n",
              "      <td>NaN</td>\n",
              "      <td>NaN</td>\n",
              "      <td>NaN</td>\n",
              "      <td>NaN</td>\n",
              "      <td>NaN</td>\n",
              "      <td>NaN</td>\n",
              "      <td>NaN</td>\n",
              "      <td>NaN</td>\n",
              "      <td>NaN</td>\n",
              "      <td>NaN</td>\n",
              "    </tr>\n",
              "    <tr>\n",
              "      <th>49</th>\n",
              "      <td>FILTON</td>\n",
              "      <td>NaN</td>\n",
              "      <td>NaN</td>\n",
              "      <td>NaN</td>\n",
              "      <td>542.0</td>\n",
              "      <td>1042.0</td>\n",
              "      <td>NaN</td>\n",
              "      <td>NaN</td>\n",
              "      <td>NaN</td>\n",
              "      <td>NaN</td>\n",
              "      <td>NaN</td>\n",
              "      <td>NaN</td>\n",
              "      <td>NaN</td>\n",
              "      <td>NaN</td>\n",
              "      <td>NaN</td>\n",
              "    </tr>\n",
              "    <tr>\n",
              "      <th>50</th>\n",
              "      <td>HAWARDEN</td>\n",
              "      <td>NaN</td>\n",
              "      <td>NaN</td>\n",
              "      <td>NaN</td>\n",
              "      <td>542.0</td>\n",
              "      <td>1042.0</td>\n",
              "      <td>NaN</td>\n",
              "      <td>NaN</td>\n",
              "      <td>NaN</td>\n",
              "      <td>NaN</td>\n",
              "      <td>NaN</td>\n",
              "      <td>NaN</td>\n",
              "      <td>NaN</td>\n",
              "      <td>NaN</td>\n",
              "      <td>NaN</td>\n",
              "    </tr>\n",
              "    <tr>\n",
              "      <th>51</th>\n",
              "      <td>DURHAM TEES VALLEY</td>\n",
              "      <td>NaN</td>\n",
              "      <td>NaN</td>\n",
              "      <td>NaN</td>\n",
              "      <td>NaN</td>\n",
              "      <td>NaN</td>\n",
              "      <td>NaN</td>\n",
              "      <td>NaN</td>\n",
              "      <td>221227.0</td>\n",
              "      <td>221585.0</td>\n",
              "      <td>220868.0</td>\n",
              "      <td>211335.0</td>\n",
              "      <td>213565.0</td>\n",
              "      <td>211459.0</td>\n",
              "      <td>230277.0</td>\n",
              "    </tr>\n",
              "    <tr>\n",
              "      <th>52</th>\n",
              "      <td>CAMBRIDGE</td>\n",
              "      <td>NaN</td>\n",
              "      <td>NaN</td>\n",
              "      <td>NaN</td>\n",
              "      <td>NaN</td>\n",
              "      <td>NaN</td>\n",
              "      <td>NaN</td>\n",
              "      <td>NaN</td>\n",
              "      <td>1940.0</td>\n",
              "      <td>3131.0</td>\n",
              "      <td>3255.0</td>\n",
              "      <td>7877.0</td>\n",
              "      <td>10013.0</td>\n",
              "      <td>10927.0</td>\n",
              "      <td>8179.0</td>\n",
              "    </tr>\n",
              "    <tr>\n",
              "      <th>53</th>\n",
              "      <td>GLOUCESTERSHIRE</td>\n",
              "      <td>NaN</td>\n",
              "      <td>NaN</td>\n",
              "      <td>NaN</td>\n",
              "      <td>NaN</td>\n",
              "      <td>NaN</td>\n",
              "      <td>NaN</td>\n",
              "      <td>NaN</td>\n",
              "      <td>NaN</td>\n",
              "      <td>1636.0</td>\n",
              "      <td>1535.0</td>\n",
              "      <td>4568.0</td>\n",
              "      <td>7277.0</td>\n",
              "      <td>3329.0</td>\n",
              "      <td>NaN</td>\n",
              "    </tr>\n",
              "    <tr>\n",
              "      <th>54</th>\n",
              "      <td>BARROW-IN-FURNESS</td>\n",
              "      <td>NaN</td>\n",
              "      <td>NaN</td>\n",
              "      <td>NaN</td>\n",
              "      <td>NaN</td>\n",
              "      <td>NaN</td>\n",
              "      <td>NaN</td>\n",
              "      <td>NaN</td>\n",
              "      <td>NaN</td>\n",
              "      <td>NaN</td>\n",
              "      <td>NaN</td>\n",
              "      <td>0.0</td>\n",
              "      <td>206.0</td>\n",
              "      <td>79.0</td>\n",
              "      <td>NaN</td>\n",
              "    </tr>\n",
              "  </tbody>\n",
              "</table>\n",
              "</div>"
            ],
            "text/plain": [
              "                           airport       2003  ...       1991       1990\n",
              "0                         HEATHROW  6176092.0  ...  6305706.0  6948785.0\n",
              "1                        EDINBURGH  5261352.0  ...  1869132.0  1996344.0\n",
              "2                          GLASGOW  4200919.0  ...  2046644.0  2229277.0\n",
              "3                          GATWICK  3694857.0  ...   917968.0  1255365.0\n",
              "4            BELFAST INTERNATIONAL  2969382.0  ...  1725473.0  1779301.0\n",
              "5                       MANCHESTER  2759693.0  ...  1737189.0  1954766.0\n",
              "6                         STANSTED  2610080.0  ...   245911.0   129857.0\n",
              "7                     BELFAST CITY  1851787.0  ...   527839.0   507445.0\n",
              "8                            LUTON  1701647.0  ...   205363.0   210579.0\n",
              "9                        NEWCASTLE  1317357.0  ...   504052.0   547588.0\n",
              "10                          JERSEY  1311320.0  ...  1456513.0  1681573.0\n",
              "11                      BIRMINGHAM  1266511.0  ...   679651.0   760575.0\n",
              "12                        ABERDEEN  1222893.0  ...  1115462.0  1077998.0\n",
              "13                         BRISTOL  1044764.0  ...   139745.0    71998.0\n",
              "14                        GUERNSEY   820202.0  ...   670449.0   787612.0\n",
              "15                       PRESTWICK   809702.0  ...       54.0      142.0\n",
              "16  NOTTINGHAM EAST MIDLANDS INT'L   804549.0  ...   311300.0   359437.0\n",
              "17                       LIVERPOOL   695962.0  ...   279617.0   319384.0\n",
              "18                     SOUTHAMPTON   627949.0  ...   353509.0   423278.0\n",
              "19                     ISLE OF MAN   571819.0  ...   436251.0   495745.0\n",
              "20                  LEEDS BRADFORD   441573.0  ...   347754.0   417280.0\n",
              "21                     LONDON CITY   411538.0  ...     7154.0     7854.0\n",
              "22                       INVERNESS   372943.0  ...   165549.0   179139.0\n",
              "23                   CARDIFF WALES   346676.0  ...    47036.0    30317.0\n",
              "24                         NEWQUAY   199931.0  ...    34254.0    39866.0\n",
              "25                        TEESSIDE   150157.0  ...        NaN        NaN\n",
              "26        CITY OF DERRY (EGLINTON)   149675.0  ...    26218.0    21900.0\n",
              "27      ISLES OF SCILLY (ST.MARYS)   139685.0  ...    98103.0   110528.0\n",
              "28               PENZANCE HELIPORT   129185.0  ...    94563.0    93001.0\n",
              "29                        SUMBURGH   102433.0  ...   248573.0   250096.0\n",
              "30                     BOURNEMOUTH    81419.0  ...    57978.0    74556.0\n",
              "31                        KIRKWALL    80264.0  ...    61330.0    64292.0\n",
              "32                       BLACKPOOL    79931.0  ...    74315.0    79133.0\n",
              "33                          EXETER    74742.0  ...    90100.0   121816.0\n",
              "34                        ALDERNEY    63153.0  ...    82049.0   108839.0\n",
              "35                        PLYMOUTH    49901.0  ...    60168.0    82988.0\n",
              "36                          DUNDEE    48252.0  ...     7670.0     3194.0\n",
              "37        ISLES OF SCILLY (TRESCO)    45950.0  ...    20777.0    18453.0\n",
              "38                         NORWICH    34149.0  ...    76339.0    90132.0\n",
              "39             LANDS END (ST JUST)    24793.0  ...    23237.0    30082.0\n",
              "40                         SWANSEA    11196.0  ...        NaN        NaN\n",
              "41                      HUMBERSIDE     6395.0  ...    30521.0    55031.0\n",
              "42                        SOUTHEND     2477.0  ...    10312.0    23707.0\n",
              "43                     BIGGIN HILL      175.0  ...        NaN        NaN\n",
              "44                  SHEFFIELD CITY        0.0  ...        NaN        NaN\n",
              "45                        COVENTRY        0.0  ...     1218.0      263.0\n",
              "46                     LONDONDERRY        NaN  ...        NaN        NaN\n",
              "47                   EAST MIDLANDS        NaN  ...        NaN        NaN\n",
              "48                          DUBLIN        NaN  ...        NaN        NaN\n",
              "49                          FILTON        NaN  ...        NaN        NaN\n",
              "50                        HAWARDEN        NaN  ...        NaN        NaN\n",
              "51              DURHAM TEES VALLEY        NaN  ...   211459.0   230277.0\n",
              "52                       CAMBRIDGE        NaN  ...    10927.0     8179.0\n",
              "53                 GLOUCESTERSHIRE        NaN  ...     3329.0        NaN\n",
              "54               BARROW-IN-FURNESS        NaN  ...       79.0        NaN\n",
              "\n",
              "[55 rows x 15 columns]"
            ]
          },
          "metadata": {},
          "execution_count": 25
        }
      ]
    },
    {
      "cell_type": "markdown",
      "metadata": {
        "id": "8gbZ0r_dMZqq"
      },
      "source": [
        "## Selecionando os três aeroportos mais movimentados\n",
        "\n",
        "* O total de passageiros tranportados por ano foi somado para cada aeroporto, resultando no valor total ao longo dos anos. Os três aeroportos mais movimentados foram selecionados para a análise"
      ]
    },
    {
      "cell_type": "code",
      "metadata": {
        "colab": {
          "base_uri": "https://localhost:8080/"
        },
        "id": "F-65rHDXLHJV",
        "outputId": "1b52911c-655c-4bb0-d5ec-1b6a555a43c3"
      },
      "source": [
        "total_passengers = df.set_index('airport').sum(axis=1).to_dict()\n",
        "busiest_airports = sorted(total_passengers, key=total_passengers.get, reverse=True)[:3]\n",
        "busiest_airports"
      ],
      "execution_count": null,
      "outputs": [
        {
          "output_type": "execute_result",
          "data": {
            "text/plain": [
              "['HEATHROW', 'EDINBURGH', 'GLASGOW']"
            ]
          },
          "metadata": {},
          "execution_count": 26
        }
      ]
    },
    {
      "cell_type": "markdown",
      "metadata": {
        "id": "9bgJbX68NNHR"
      },
      "source": [
        "## Extração e processamento do subconjunto de dados\n",
        "\n",
        "* Foi extraído o subconjunto de dados dos três aeroportos selecionados\n",
        "* Os dados extraídos foram processados para a visualização"
      ]
    },
    {
      "cell_type": "code",
      "metadata": {
        "colab": {
          "base_uri": "https://localhost:8080/",
          "height": 489
        },
        "id": "6hR_x9GWLHL4",
        "outputId": "7ab95550-a593-472b-fbcd-dab3f3310cf3"
      },
      "source": [
        "df_busiest_airports = df[df['airport'].isin(busiest_airports)]\n",
        "df_busiest_airports = df_busiest_airports.transpose()\n",
        "cols = df_busiest_airports.iloc[0]\n",
        "df_busiest_airports.drop('airport', inplace=True)\n",
        "df_busiest_airports.columns = cols.values\n",
        "df_busiest_airports.sort_index(inplace=True)\n",
        "df_busiest_airports"
      ],
      "execution_count": null,
      "outputs": [
        {
          "output_type": "execute_result",
          "data": {
            "text/html": [
              "<div>\n",
              "<style scoped>\n",
              "    .dataframe tbody tr th:only-of-type {\n",
              "        vertical-align: middle;\n",
              "    }\n",
              "\n",
              "    .dataframe tbody tr th {\n",
              "        vertical-align: top;\n",
              "    }\n",
              "\n",
              "    .dataframe thead th {\n",
              "        text-align: right;\n",
              "    }\n",
              "</style>\n",
              "<table border=\"1\" class=\"dataframe\">\n",
              "  <thead>\n",
              "    <tr style=\"text-align: right;\">\n",
              "      <th></th>\n",
              "      <th>HEATHROW</th>\n",
              "      <th>EDINBURGH</th>\n",
              "      <th>GLASGOW</th>\n",
              "    </tr>\n",
              "  </thead>\n",
              "  <tbody>\n",
              "    <tr>\n",
              "      <th>1990</th>\n",
              "      <td>6.94878e+06</td>\n",
              "      <td>1.99634e+06</td>\n",
              "      <td>2.22928e+06</td>\n",
              "    </tr>\n",
              "    <tr>\n",
              "      <th>1991</th>\n",
              "      <td>6.30571e+06</td>\n",
              "      <td>1.86913e+06</td>\n",
              "      <td>2.04664e+06</td>\n",
              "    </tr>\n",
              "    <tr>\n",
              "      <th>1992</th>\n",
              "      <td>6.26829e+06</td>\n",
              "      <td>1.93776e+06</td>\n",
              "      <td>2.08052e+06</td>\n",
              "    </tr>\n",
              "    <tr>\n",
              "      <th>1993</th>\n",
              "      <td>6.28935e+06</td>\n",
              "      <td>2.05674e+06</td>\n",
              "      <td>2.12292e+06</td>\n",
              "    </tr>\n",
              "    <tr>\n",
              "      <th>1994</th>\n",
              "      <td>6.66934e+06</td>\n",
              "      <td>2.26552e+06</td>\n",
              "      <td>2.31657e+06</td>\n",
              "    </tr>\n",
              "    <tr>\n",
              "      <th>1995</th>\n",
              "      <td>6.85630e+06</td>\n",
              "      <td>2.46077e+06</td>\n",
              "      <td>2.52515e+06</td>\n",
              "    </tr>\n",
              "    <tr>\n",
              "      <th>1996</th>\n",
              "      <td>6.93019e+06</td>\n",
              "      <td>2.83317e+06</td>\n",
              "      <td>2.69177e+06</td>\n",
              "    </tr>\n",
              "    <tr>\n",
              "      <th>1997</th>\n",
              "      <td>6.79671e+06</td>\n",
              "      <td>3.08966e+06</td>\n",
              "      <td>2.89181e+06</td>\n",
              "    </tr>\n",
              "    <tr>\n",
              "      <th>1998</th>\n",
              "      <td>6.66776e+06</td>\n",
              "      <td>3.24881e+06</td>\n",
              "      <td>3.08394e+06</td>\n",
              "    </tr>\n",
              "    <tr>\n",
              "      <th>1999</th>\n",
              "      <td>6.62287e+06</td>\n",
              "      <td>3.55089e+06</td>\n",
              "      <td>3.13753e+06</td>\n",
              "    </tr>\n",
              "    <tr>\n",
              "      <th>2000</th>\n",
              "      <td>6.88152e+06</td>\n",
              "      <td>3.77516e+06</td>\n",
              "      <td>3.20982e+06</td>\n",
              "    </tr>\n",
              "    <tr>\n",
              "      <th>2001</th>\n",
              "      <td>6.11865e+06</td>\n",
              "      <td>4.02329e+06</td>\n",
              "      <td>3.47227e+06</td>\n",
              "    </tr>\n",
              "    <tr>\n",
              "      <th>2002</th>\n",
              "      <td>6.19115e+06</td>\n",
              "      <td>4.86864e+06</td>\n",
              "      <td>3.94158e+06</td>\n",
              "    </tr>\n",
              "    <tr>\n",
              "      <th>2003</th>\n",
              "      <td>6.17609e+06</td>\n",
              "      <td>5.26135e+06</td>\n",
              "      <td>4.20092e+06</td>\n",
              "    </tr>\n",
              "  </tbody>\n",
              "</table>\n",
              "</div>"
            ],
            "text/plain": [
              "         HEATHROW    EDINBURGH      GLASGOW\n",
              "1990  6.94878e+06  1.99634e+06  2.22928e+06\n",
              "1991  6.30571e+06  1.86913e+06  2.04664e+06\n",
              "1992  6.26829e+06  1.93776e+06  2.08052e+06\n",
              "1993  6.28935e+06  2.05674e+06  2.12292e+06\n",
              "1994  6.66934e+06  2.26552e+06  2.31657e+06\n",
              "1995  6.85630e+06  2.46077e+06  2.52515e+06\n",
              "1996  6.93019e+06  2.83317e+06  2.69177e+06\n",
              "1997  6.79671e+06  3.08966e+06  2.89181e+06\n",
              "1998  6.66776e+06  3.24881e+06  3.08394e+06\n",
              "1999  6.62287e+06  3.55089e+06  3.13753e+06\n",
              "2000  6.88152e+06  3.77516e+06  3.20982e+06\n",
              "2001  6.11865e+06  4.02329e+06  3.47227e+06\n",
              "2002  6.19115e+06  4.86864e+06  3.94158e+06\n",
              "2003  6.17609e+06  5.26135e+06  4.20092e+06"
            ]
          },
          "metadata": {},
          "execution_count": 27
        }
      ]
    },
    {
      "cell_type": "markdown",
      "metadata": {
        "id": "ZG8f9zTwN8BV"
      },
      "source": [
        "## Análise temporal dos dados\n",
        "\n",
        "* É possível verificar que houve um crescimento na movimentação de passageiros dos aeroportos 'EDINBURGH' e 'GLASGOW'.\n",
        "\n",
        "* Já o aeroporto 'HEATHROW' apresentou uma movimentação entre 6 e 7 milhões de passageiros durante todo o período.\n",
        "\n",
        "* Apesar do aeroporto 'EDINBURGH' ter a menor movimentação no início do período, em 1995 ultrapassou a movimentação do aeroporto 'GLASGOW', chegando a registrar em 2003 um valor aproximado de 2,5 vezes maior que sua movimentação inicial."
      ]
    },
    {
      "cell_type": "code",
      "metadata": {
        "colab": {
          "base_uri": "https://localhost:8080/",
          "height": 511
        },
        "id": "FWclFwxNLHOd",
        "outputId": "eda4b548-7f9a-41d8-942c-7f86110a77af"
      },
      "source": [
        "plt.figure(figsize=(12,8))\n",
        "sns.lineplot(data=df_busiest_airports)"
      ],
      "execution_count": null,
      "outputs": [
        {
          "output_type": "execute_result",
          "data": {
            "text/plain": [
              "<matplotlib.axes._subplots.AxesSubplot at 0x7f8a2e627890>"
            ]
          },
          "metadata": {},
          "execution_count": 28
        },
        {
          "output_type": "display_data",
          "data": {
            "image/png": "[encoded data removed]",
            "text/plain": [
              "<Figure size 864x576 with 1 Axes>"
            ]
          },
          "metadata": {
            "needs_background": "light"
          }
        }
      ]
    }
  ]
}